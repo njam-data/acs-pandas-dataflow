{
 "cells": [
  {
   "cell_type": "code",
   "execution_count": 1,
   "metadata": {
    "collapsed": true
   },
   "outputs": [],
   "source": [
    "import pandas as pd\n",
    "import requests"
   ]
  },
  {
   "cell_type": "code",
   "execution_count": 2,
   "metadata": {
    "collapsed": true
   },
   "outputs": [],
   "source": [
    "inflation_rate = .0676\n",
    "\n",
    "lastest_year = '2017/acs'\n",
    "\n",
    "oldest_year = '2012'"
   ]
  },
  {
   "cell_type": "code",
   "execution_count": 3,
   "metadata": {
    "collapsed": true
   },
   "outputs": [],
   "source": [
    "years = ['2012', '2017']\n",
    "top_geogs = ['us:1', 'state:34']"
   ]
  },
  {
   "cell_type": "code",
   "execution_count": 4,
   "metadata": {
    "collapsed": false
   },
   "outputs": [],
   "source": [
    "def create_top_dfs():\n",
    "    my_data = {}\n",
    "    for n in years:\n",
    "        for d in top_geogs:\n",
    "            url = 'https://api.census.gov/data/'+ n +'/acs/acs5?get=B19013_001E,NAME&for=' + d +  '&key=37e80b2543b3d018cfbeb06c5dca27cf33e789e7'\n",
    "            r = requests.get(url)\n",
    "            x = r.json()\n",
    "            df = pd.DataFrame(x[1:],columns=x[0])\n",
    "            raw_result = pd.to_numeric(df['B19013_001E'][0])\n",
    "            if n == '2012':\n",
    "                my_data[n + d] = raw_result * .067 + raw_result\n",
    "            else:\n",
    "                my_data[n + d] = raw_result\n",
    "    return my_data"
   ]
  },
  {
   "cell_type": "code",
   "execution_count": 5,
   "metadata": {
    "collapsed": false
   },
   "outputs": [],
   "source": [
    "top_df_dict = create_top_dfs()"
   ]
  },
  {
   "cell_type": "code",
   "execution_count": 6,
   "metadata": {
    "collapsed": false
   },
   "outputs": [],
   "source": [
    "us_previous = top_df_dict['2012us:1']\n",
    "us_latest = top_df_dict['2017us:1']\n",
    "nj_previous = top_df_dict['2012state:34']\n",
    "nj_latest = top_df_dict['2017state:34']"
   ]
  },
  {
   "cell_type": "code",
   "execution_count": 7,
   "metadata": {
    "collapsed": false
   },
   "outputs": [],
   "source": [
    "def create_local_dfs(year, geography):\n",
    "    df_list = []\n",
    "    url = 'https://api.census.gov/data/'+ year +'/acs5?get=NAME,B19013_001E,B19013_001M&for=' + geography +  '&in=state:34&key=37e80b2543b3d018cfbeb06c5dca27cf33e789e7'\n",
    "    r = requests.get(url)\n",
    "    x = r.json()\n",
    "    df = pd.DataFrame(x[1:], columns=x[0])\n",
    "    df['B19013_001E'] = df.B19013_001E.replace(to_replace=\"\\+\", value='', regex=True)\n",
    "    df['B19013_001E'] = pd.to_numeric(df.B19013_001E, errors='coerce')\n",
    "    df['B19013_001M'] = pd.to_numeric(df.B19013_001M, errors='coerce')\n",
    "    return df"
   ]
  },
  {
   "cell_type": "code",
   "execution_count": 8,
   "metadata": {
    "collapsed": false
   },
   "outputs": [],
   "source": [
    "def clean_local_dfs(year, label):\n",
    "#     for n in years:\n",
    "        muni = create_local_dfs(year, 'county%20subdivision:*')\n",
    "        cty = create_local_dfs(year, 'county:*')\n",
    "        median_income = muni.append(cty).reset_index().drop(labels='index', axis=1)\n",
    "        median_income['county subdivision'] = median_income['county subdivision'].fillna('')\n",
    "        median_income['GEO.id2'] = median_income.state + median_income.county + median_income['county subdivision']\n",
    "        median_income = median_income[[u'B19013_001E', u'B19013_001M', u'NAME',\n",
    "                  u'GEO.id2']]\n",
    "        median_income['MOE_per'] = (median_income.B19013_001M / median_income.B19013_001E) * 100\n",
    "        median_income['GEOLevel1'] = median_income['NAME'].str.split(', ', expand=True)[0]\n",
    "        median_income['GEOLevel2'] = median_income['NAME'].str.split(', ', expand=True)[1]\n",
    "        median_income.columns = ['Median_income_'+ label, 'MOE_' + label, 'GEOdisplaylabel', 'GEO.id2', 'MOE_per_' + label, 'GEOLevel1', 'GEOLevel2']\n",
    "        median_income['GEOdisplaylabel'] = median_income['GEOdisplaylabel'].replace(to_replace=', New Jersey', value='', regex=True)\n",
    "        if label == 'prev':\n",
    "            median_income['Median_income_prev_winf'] = median_income['Median_income_prev'] * inflation_rate + median_income['Median_income_prev']\n",
    "        return median_income"
   ]
  },
  {
   "cell_type": "code",
   "execution_count": 9,
   "metadata": {
    "collapsed": false
   },
   "outputs": [],
   "source": [
    "median_income_latest = clean_local_dfs(lastest_year, 'latest')"
   ]
  },
  {
   "cell_type": "code",
   "execution_count": 10,
   "metadata": {
    "collapsed": false
   },
   "outputs": [],
   "source": [
    "median_income_prev = clean_local_dfs(oldest_year, 'prev')"
   ]
  },
  {
   "cell_type": "code",
   "execution_count": 11,
   "metadata": {
    "collapsed": false
   },
   "outputs": [],
   "source": [
    "#Merge Household Income\n",
    "median_income_merge = pd.merge(median_income_latest, median_income_prev, left_on='GEO.id2', right_on='GEO.id2', how='outer')"
   ]
  },
  {
   "cell_type": "code",
   "execution_count": 12,
   "metadata": {
    "collapsed": false
   },
   "outputs": [
    {
     "data": {
      "text/html": [
       "<div>\n",
       "<table border=\"1\" class=\"dataframe\">\n",
       "  <thead>\n",
       "    <tr style=\"text-align: right;\">\n",
       "      <th></th>\n",
       "      <th>Median_income_latest</th>\n",
       "      <th>MOE_latest</th>\n",
       "      <th>GEOdisplaylabel_x</th>\n",
       "      <th>GEO.id2</th>\n",
       "      <th>MOE_per_latest</th>\n",
       "      <th>GEOLevel1_x</th>\n",
       "      <th>GEOLevel2_x</th>\n",
       "      <th>Median_income_prev</th>\n",
       "      <th>MOE_prev</th>\n",
       "      <th>GEOdisplaylabel_y</th>\n",
       "      <th>MOE_per_prev</th>\n",
       "      <th>GEOLevel1_y</th>\n",
       "      <th>GEOLevel2_y</th>\n",
       "      <th>Median_income_prev_winf</th>\n",
       "    </tr>\n",
       "  </thead>\n",
       "  <tbody>\n",
       "    <tr>\n",
       "      <th>0</th>\n",
       "      <td>175684.0</td>\n",
       "      <td>11669.0</td>\n",
       "      <td>West Windsor township, Mercer County</td>\n",
       "      <td>3402180240</td>\n",
       "      <td>6.642039</td>\n",
       "      <td>West Windsor township</td>\n",
       "      <td>Mercer County</td>\n",
       "      <td>150694.0</td>\n",
       "      <td>15596.0</td>\n",
       "      <td>West Windsor township, Mercer County</td>\n",
       "      <td>10.349450</td>\n",
       "      <td>West Windsor township</td>\n",
       "      <td>Mercer County</td>\n",
       "      <td>160880.9144</td>\n",
       "    </tr>\n",
       "    <tr>\n",
       "      <th>1</th>\n",
       "      <td>85636.0</td>\n",
       "      <td>4399.0</td>\n",
       "      <td>East Windsor township, Mercer County</td>\n",
       "      <td>3402119780</td>\n",
       "      <td>5.136858</td>\n",
       "      <td>East Windsor township</td>\n",
       "      <td>Mercer County</td>\n",
       "      <td>85831.0</td>\n",
       "      <td>4867.0</td>\n",
       "      <td>East Windsor township, Mercer County</td>\n",
       "      <td>5.670445</td>\n",
       "      <td>East Windsor township</td>\n",
       "      <td>Mercer County</td>\n",
       "      <td>91633.1756</td>\n",
       "    </tr>\n",
       "    <tr>\n",
       "      <th>2</th>\n",
       "      <td>113125.0</td>\n",
       "      <td>23423.0</td>\n",
       "      <td>Hopewell borough, Mercer County</td>\n",
       "      <td>3402133150</td>\n",
       "      <td>20.705414</td>\n",
       "      <td>Hopewell borough</td>\n",
       "      <td>Mercer County</td>\n",
       "      <td>101688.0</td>\n",
       "      <td>8510.0</td>\n",
       "      <td>Hopewell borough, Mercer County</td>\n",
       "      <td>8.368736</td>\n",
       "      <td>Hopewell borough</td>\n",
       "      <td>Mercer County</td>\n",
       "      <td>108562.1088</td>\n",
       "    </tr>\n",
       "    <tr>\n",
       "      <th>3</th>\n",
       "      <td>72973.0</td>\n",
       "      <td>12408.0</td>\n",
       "      <td>Hightstown borough, Mercer County</td>\n",
       "      <td>3402131620</td>\n",
       "      <td>17.003549</td>\n",
       "      <td>Hightstown borough</td>\n",
       "      <td>Mercer County</td>\n",
       "      <td>70806.0</td>\n",
       "      <td>9088.0</td>\n",
       "      <td>Hightstown borough, Mercer County</td>\n",
       "      <td>12.835070</td>\n",
       "      <td>Hightstown borough</td>\n",
       "      <td>Mercer County</td>\n",
       "      <td>75592.4856</td>\n",
       "    </tr>\n",
       "    <tr>\n",
       "      <th>4</th>\n",
       "      <td>129320.0</td>\n",
       "      <td>8997.0</td>\n",
       "      <td>Hopewell township, Mercer County</td>\n",
       "      <td>3402133180</td>\n",
       "      <td>6.957161</td>\n",
       "      <td>Hopewell township</td>\n",
       "      <td>Mercer County</td>\n",
       "      <td>144973.0</td>\n",
       "      <td>13380.0</td>\n",
       "      <td>Hopewell township, Mercer County</td>\n",
       "      <td>9.229305</td>\n",
       "      <td>Hopewell township</td>\n",
       "      <td>Mercer County</td>\n",
       "      <td>154773.1748</td>\n",
       "    </tr>\n",
       "  </tbody>\n",
       "</table>\n",
       "</div>"
      ],
      "text/plain": [
       "   Median_income_latest  MOE_latest                     GEOdisplaylabel_x  \\\n",
       "0              175684.0     11669.0  West Windsor township, Mercer County   \n",
       "1               85636.0      4399.0  East Windsor township, Mercer County   \n",
       "2              113125.0     23423.0       Hopewell borough, Mercer County   \n",
       "3               72973.0     12408.0     Hightstown borough, Mercer County   \n",
       "4              129320.0      8997.0      Hopewell township, Mercer County   \n",
       "\n",
       "      GEO.id2  MOE_per_latest            GEOLevel1_x    GEOLevel2_x  \\\n",
       "0  3402180240        6.642039  West Windsor township  Mercer County   \n",
       "1  3402119780        5.136858  East Windsor township  Mercer County   \n",
       "2  3402133150       20.705414       Hopewell borough  Mercer County   \n",
       "3  3402131620       17.003549     Hightstown borough  Mercer County   \n",
       "4  3402133180        6.957161      Hopewell township  Mercer County   \n",
       "\n",
       "   Median_income_prev  MOE_prev                     GEOdisplaylabel_y  \\\n",
       "0            150694.0   15596.0  West Windsor township, Mercer County   \n",
       "1             85831.0    4867.0  East Windsor township, Mercer County   \n",
       "2            101688.0    8510.0       Hopewell borough, Mercer County   \n",
       "3             70806.0    9088.0     Hightstown borough, Mercer County   \n",
       "4            144973.0   13380.0      Hopewell township, Mercer County   \n",
       "\n",
       "   MOE_per_prev            GEOLevel1_y    GEOLevel2_y  Median_income_prev_winf  \n",
       "0     10.349450  West Windsor township  Mercer County              160880.9144  \n",
       "1      5.670445  East Windsor township  Mercer County               91633.1756  \n",
       "2      8.368736       Hopewell borough  Mercer County              108562.1088  \n",
       "3     12.835070     Hightstown borough  Mercer County               75592.4856  \n",
       "4      9.229305      Hopewell township  Mercer County              154773.1748  "
      ]
     },
     "execution_count": 12,
     "metadata": {},
     "output_type": "execute_result"
    }
   ],
   "source": [
    "median_income_merge.head()"
   ]
  },
  {
   "cell_type": "code",
   "execution_count": 13,
   "metadata": {
    "collapsed": false
   },
   "outputs": [],
   "source": [
    "median_income_merge = median_income_merge.drop(['GEOdisplaylabel_y', 'GEOLevel1_x', 'GEOLevel2_x'], axis=1)\n",
    "median_income_merge.rename(columns={'GEOdisplaylabel_x': 'GEOdisplaylabel', 'GEOLevel1_y': 'GEOLevel1','GEOLevel2_y':'GEOLevel2', 'GEO.id_x': 'GEO.id', 'GEOdisplaylabel_long_x': 'GEOdisplaylabel_long'}, inplace=True)"
   ]
  },
  {
   "cell_type": "code",
   "execution_count": 14,
   "metadata": {
    "collapsed": true
   },
   "outputs": [],
   "source": [
    "#Take out County subdivisions not defined\n",
    "median_income_merge = median_income_merge[median_income_merge['GEOdisplaylabel'].str.contains(\"County subdivisions not defined\") == False]\n",
    "median_income_merge = median_income_merge.sort_values(by=['GEO.id2'])"
   ]
  },
  {
   "cell_type": "code",
   "execution_count": 15,
   "metadata": {
    "collapsed": false
   },
   "outputs": [],
   "source": [
    "#Add NJ and Nationwide\n",
    "median_income_merge['nj_median_income_latest'] = nj_latest\n",
    "median_income_merge['nj_median_income_prev'] = nj_previous\n",
    "median_income_merge['usa_median_income_latest'] = us_latest\n",
    "median_income_merge['usa_median_income_prev'] = us_previous\n",
    "median_income_merge['median_income_per_change'] = ((median_income_merge['Median_income_latest'] - median_income_merge['Median_income_prev_winf']) / median_income_merge['Median_income_prev_winf']) * 100\n",
    "median_income_merge['nj_median_income_change'] = ((median_income_merge['nj_median_income_latest'] - median_income_merge['nj_median_income_prev']) / median_income_merge['nj_median_income_prev']) * 100\n",
    "median_income_merge['us_median_income_change'] = ((median_income_merge['usa_median_income_latest'] - median_income_merge['usa_median_income_prev']) / median_income_merge['usa_median_income_prev']) * 100\n"
   ]
  },
  {
   "cell_type": "code",
   "execution_count": 16,
   "metadata": {
    "collapsed": false
   },
   "outputs": [],
   "source": [
    "median_income_merge = median_income_merge[[ u'GEOdisplaylabel', u'GEO.id2',\n",
    "        u'GEOLevel1', u'GEOLevel2',u'Median_income_latest', u'MOE_latest', u'MOE_per_latest',\n",
    "         u'Median_income_prev',  u'MOE_prev', u'MOE_per_prev', u'Median_income_prev_winf',\n",
    "       u'nj_median_income_latest', u'nj_median_income_prev',\n",
    "       u'usa_median_income_latest', u'usa_median_income_prev',\n",
    "       u'median_income_per_change', u'nj_median_income_change',\n",
    "       u'us_median_income_change']]"
   ]
  },
  {
   "cell_type": "code",
   "execution_count": 17,
   "metadata": {
    "collapsed": false
   },
   "outputs": [
    {
     "data": {
      "text/html": [
       "<div>\n",
       "<table border=\"1\" class=\"dataframe\">\n",
       "  <thead>\n",
       "    <tr style=\"text-align: right;\">\n",
       "      <th></th>\n",
       "      <th>GEOdisplaylabel</th>\n",
       "      <th>GEO.id2</th>\n",
       "      <th>GEOLevel1</th>\n",
       "      <th>GEOLevel2</th>\n",
       "      <th>Median_income_latest</th>\n",
       "      <th>MOE_latest</th>\n",
       "      <th>MOE_per_latest</th>\n",
       "      <th>Median_income_prev</th>\n",
       "      <th>MOE_prev</th>\n",
       "      <th>MOE_per_prev</th>\n",
       "      <th>Median_income_prev_winf</th>\n",
       "      <th>nj_median_income_latest</th>\n",
       "      <th>nj_median_income_prev</th>\n",
       "      <th>usa_median_income_latest</th>\n",
       "      <th>usa_median_income_prev</th>\n",
       "      <th>median_income_per_change</th>\n",
       "      <th>nj_median_income_change</th>\n",
       "      <th>us_median_income_change</th>\n",
       "    </tr>\n",
       "  </thead>\n",
       "  <tbody>\n",
       "    <tr>\n",
       "      <th>577</th>\n",
       "      <td>Atlantic County</td>\n",
       "      <td>34001</td>\n",
       "      <td>Atlantic County</td>\n",
       "      <td>New Jersey</td>\n",
       "      <td>57514.0</td>\n",
       "      <td>1710.0</td>\n",
       "      <td>2.973189</td>\n",
       "      <td>54559.0</td>\n",
       "      <td>1127.0</td>\n",
       "      <td>2.065654</td>\n",
       "      <td>58247.1884</td>\n",
       "      <td>76475</td>\n",
       "      <td>76436.679</td>\n",
       "      <td>57652</td>\n",
       "      <td>56600.082</td>\n",
       "      <td>-1.258753</td>\n",
       "      <td>0.050134</td>\n",
       "      <td>1.85851</td>\n",
       "    </tr>\n",
       "    <tr>\n",
       "      <th>98</th>\n",
       "      <td>Absecon city, Atlantic County</td>\n",
       "      <td>3400100100</td>\n",
       "      <td>Absecon city</td>\n",
       "      <td>Atlantic County</td>\n",
       "      <td>63887.0</td>\n",
       "      <td>10922.0</td>\n",
       "      <td>17.095810</td>\n",
       "      <td>63602.0</td>\n",
       "      <td>5330.0</td>\n",
       "      <td>8.380240</td>\n",
       "      <td>67901.4952</td>\n",
       "      <td>76475</td>\n",
       "      <td>76436.679</td>\n",
       "      <td>57652</td>\n",
       "      <td>56600.082</td>\n",
       "      <td>-5.912234</td>\n",
       "      <td>0.050134</td>\n",
       "      <td>1.85851</td>\n",
       "    </tr>\n",
       "    <tr>\n",
       "      <th>121</th>\n",
       "      <td>Atlantic City city, Atlantic County</td>\n",
       "      <td>3400102080</td>\n",
       "      <td>Atlantic City city</td>\n",
       "      <td>Atlantic County</td>\n",
       "      <td>26006.0</td>\n",
       "      <td>1641.0</td>\n",
       "      <td>6.310082</td>\n",
       "      <td>29886.0</td>\n",
       "      <td>1923.0</td>\n",
       "      <td>6.434451</td>\n",
       "      <td>31906.2936</td>\n",
       "      <td>76475</td>\n",
       "      <td>76436.679</td>\n",
       "      <td>57652</td>\n",
       "      <td>56600.082</td>\n",
       "      <td>-18.492570</td>\n",
       "      <td>0.050134</td>\n",
       "      <td>1.85851</td>\n",
       "    </tr>\n",
       "    <tr>\n",
       "      <th>109</th>\n",
       "      <td>Brigantine city, Atlantic County</td>\n",
       "      <td>3400107810</td>\n",
       "      <td>Brigantine city</td>\n",
       "      <td>Atlantic County</td>\n",
       "      <td>65724.0</td>\n",
       "      <td>6858.0</td>\n",
       "      <td>10.434544</td>\n",
       "      <td>63119.0</td>\n",
       "      <td>4369.0</td>\n",
       "      <td>6.921846</td>\n",
       "      <td>67385.8444</td>\n",
       "      <td>76475</td>\n",
       "      <td>76436.679</td>\n",
       "      <td>57652</td>\n",
       "      <td>56600.082</td>\n",
       "      <td>-2.466162</td>\n",
       "      <td>0.050134</td>\n",
       "      <td>1.85851</td>\n",
       "    </tr>\n",
       "    <tr>\n",
       "      <th>112</th>\n",
       "      <td>Buena borough, Atlantic County</td>\n",
       "      <td>3400108680</td>\n",
       "      <td>Buena borough</td>\n",
       "      <td>Atlantic County</td>\n",
       "      <td>50804.0</td>\n",
       "      <td>14991.0</td>\n",
       "      <td>29.507519</td>\n",
       "      <td>48722.0</td>\n",
       "      <td>15380.0</td>\n",
       "      <td>31.566849</td>\n",
       "      <td>52015.6072</td>\n",
       "      <td>76475</td>\n",
       "      <td>76436.679</td>\n",
       "      <td>57652</td>\n",
       "      <td>56600.082</td>\n",
       "      <td>-2.329315</td>\n",
       "      <td>0.050134</td>\n",
       "      <td>1.85851</td>\n",
       "    </tr>\n",
       "  </tbody>\n",
       "</table>\n",
       "</div>"
      ],
      "text/plain": [
       "                         GEOdisplaylabel     GEO.id2           GEOLevel1  \\\n",
       "577                      Atlantic County       34001     Atlantic County   \n",
       "98         Absecon city, Atlantic County  3400100100        Absecon city   \n",
       "121  Atlantic City city, Atlantic County  3400102080  Atlantic City city   \n",
       "109     Brigantine city, Atlantic County  3400107810     Brigantine city   \n",
       "112       Buena borough, Atlantic County  3400108680       Buena borough   \n",
       "\n",
       "           GEOLevel2  Median_income_latest  MOE_latest  MOE_per_latest  \\\n",
       "577       New Jersey               57514.0      1710.0        2.973189   \n",
       "98   Atlantic County               63887.0     10922.0       17.095810   \n",
       "121  Atlantic County               26006.0      1641.0        6.310082   \n",
       "109  Atlantic County               65724.0      6858.0       10.434544   \n",
       "112  Atlantic County               50804.0     14991.0       29.507519   \n",
       "\n",
       "     Median_income_prev  MOE_prev  MOE_per_prev  Median_income_prev_winf  \\\n",
       "577             54559.0    1127.0      2.065654               58247.1884   \n",
       "98              63602.0    5330.0      8.380240               67901.4952   \n",
       "121             29886.0    1923.0      6.434451               31906.2936   \n",
       "109             63119.0    4369.0      6.921846               67385.8444   \n",
       "112             48722.0   15380.0     31.566849               52015.6072   \n",
       "\n",
       "     nj_median_income_latest  nj_median_income_prev  usa_median_income_latest  \\\n",
       "577                    76475              76436.679                     57652   \n",
       "98                     76475              76436.679                     57652   \n",
       "121                    76475              76436.679                     57652   \n",
       "109                    76475              76436.679                     57652   \n",
       "112                    76475              76436.679                     57652   \n",
       "\n",
       "     usa_median_income_prev  median_income_per_change  \\\n",
       "577               56600.082                 -1.258753   \n",
       "98                56600.082                 -5.912234   \n",
       "121               56600.082                -18.492570   \n",
       "109               56600.082                 -2.466162   \n",
       "112               56600.082                 -2.329315   \n",
       "\n",
       "     nj_median_income_change  us_median_income_change  \n",
       "577                 0.050134                  1.85851  \n",
       "98                  0.050134                  1.85851  \n",
       "121                 0.050134                  1.85851  \n",
       "109                 0.050134                  1.85851  \n",
       "112                 0.050134                  1.85851  "
      ]
     },
     "execution_count": 17,
     "metadata": {},
     "output_type": "execute_result"
    }
   ],
   "source": [
    "median_income_merge.head()"
   ]
  },
  {
   "cell_type": "code",
   "execution_count": 18,
   "metadata": {
    "collapsed": false
   },
   "outputs": [],
   "source": [
    "median_income_merge.to_csv('median_income_data_towns_clean.csv', header=True, index=False)"
   ]
  },
  {
   "cell_type": "code",
   "execution_count": null,
   "metadata": {
    "collapsed": true
   },
   "outputs": [],
   "source": []
  }
 ],
 "metadata": {
  "kernelspec": {
   "display_name": "Python 2",
   "language": "python",
   "name": "python2"
  },
  "language_info": {
   "codemirror_mode": {
    "name": "ipython",
    "version": 2
   },
   "file_extension": ".py",
   "mimetype": "text/x-python",
   "name": "python",
   "nbconvert_exporter": "python",
   "pygments_lexer": "ipython2",
   "version": "2.7.12"
  }
 },
 "nbformat": 4,
 "nbformat_minor": 0
}
