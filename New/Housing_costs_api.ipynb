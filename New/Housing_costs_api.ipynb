{
 "cells": [
  {
   "cell_type": "code",
   "execution_count": 1,
   "metadata": {
    "collapsed": true
   },
   "outputs": [],
   "source": [
    "#importing necessary libraries\n",
    "import pandas as pd\n",
    "import requests"
   ]
  },
  {
   "cell_type": "code",
   "execution_count": 2,
   "metadata": {
    "collapsed": true
   },
   "outputs": [],
   "source": [
    "#variables that will change each YEAR\n",
    "\n",
    "#monetary values only\n",
    "inflation_rate = .0676\n",
    "\n",
    "#years you need\n",
    "lastest_year = '2017/acs'\n",
    "oldest_year = '2012'\n",
    "\n",
    "#please change these as well\n",
    "years = ['2012', '2017']\n",
    "\n",
    "#ignore this\n",
    "top_geogs = ['us:1', 'state:34']"
   ]
  },
  {
   "cell_type": "code",
   "execution_count": 3,
   "metadata": {
    "collapsed": true
   },
   "outputs": [],
   "source": [
    "#variables that will change each DATASET\n",
    "\n",
    "#name of the variable you need and its margin of error (from https://api.census.gov/data/2017/acs/acs5/subject/variables.html)\n",
    "api_variable = 'B25105_001E'\n",
    "api_moe = 'B25105_001M'\n",
    "\n",
    "#give it a name so that the column names line up right. Lowercase plz\n",
    "api_name = 'housing_cost'"
   ]
  },
  {
   "cell_type": "code",
   "execution_count": 4,
   "metadata": {
    "collapsed": false
   },
   "outputs": [],
   "source": [
    "#this pulls the data you need for country and state columns\n",
    "def create_top_dfs():\n",
    "    my_data = {}\n",
    "    for n in years:\n",
    "        for d in top_geogs:\n",
    "            url = 'https://api.census.gov/data/'+ n +'/acs/acs5?get='+ api_variable + ',NAME&for=' + d +  '&key=37e80b2543b3d018cfbeb06c5dca27cf33e789e7'\n",
    "            r = requests.get(url)\n",
    "            x = r.json()\n",
    "            df = pd.DataFrame(x[1:],columns=x[0])\n",
    "            df = df.replace(to_replace=['-555555555.0','-555555555',], value='')\n",
    "            raw_result = pd.to_numeric(df[api_variable][0])\n",
    "            if n == '2012':\n",
    "                my_data[n + d] = raw_result * inflation_rate + raw_result\n",
    "            my_data[n + d] = raw_result\n",
    "    return my_data"
   ]
  },
  {
   "cell_type": "code",
   "execution_count": 5,
   "metadata": {
    "collapsed": false
   },
   "outputs": [],
   "source": [
    "top_df_dict = create_top_dfs()\n",
    "\n",
    "#set the absolute values you will use later on\n",
    "us_previous = top_df_dict['2012us:1']\n",
    "us_latest = top_df_dict['2017us:1']\n",
    "nj_previous = top_df_dict['2012state:34']\n",
    "nj_latest = top_df_dict['2017state:34']"
   ]
  },
  {
   "cell_type": "code",
   "execution_count": 6,
   "metadata": {
    "collapsed": false
   },
   "outputs": [],
   "source": [
    "#pulls the data for the years and geography level you specify\n",
    "def create_local_dfs(year, geography):\n",
    "    df_list = []\n",
    "    url = 'https://api.census.gov/data/'+ year +'/acs5?get=NAME,'+ api_variable +',' + api_moe + '&for=' + geography +  '&in=state:34&key=37e80b2543b3d018cfbeb06c5dca27cf33e789e7'\n",
    "    print url\n",
    "    r = requests.get(url)\n",
    "    x = r.json()\n",
    "    df = pd.DataFrame(x[1:], columns=x[0])\n",
    "    #some null values will return as large negative numbers\n",
    "    df = df.replace(to_replace=['-555555555.0','-555555555',], value='')\n",
    "    #all variables returned as strings at first\n",
    "    df[api_variable] = pd.to_numeric(df[api_variable], errors='coerce')\n",
    "    df[api_moe] = pd.to_numeric(df[api_moe], errors='coerce')\n",
    "    return df"
   ]
  },
  {
   "cell_type": "code",
   "execution_count": 7,
   "metadata": {
    "collapsed": false
   },
   "outputs": [],
   "source": [
    "#data cleaning function\n",
    "def clean_local_dfs(year, label):\n",
    "        muni = create_local_dfs(year, 'county%20subdivision:*')\n",
    "        cty = create_local_dfs(year, 'county:*')\n",
    "        #combines muni and county data\n",
    "        local_df = muni.append(cty).reset_index().drop(labels='index', axis=1)\n",
    "        local_df['county subdivision'] = local_df['county subdivision'].fillna('')\n",
    "        #create FIPS code, since it initially returns as separate columns\n",
    "        local_df['GEO.id2'] = local_df.state + local_df.county + local_df['county subdivision']\n",
    "        local_df = local_df[[api_variable, api_moe, u'NAME',\n",
    "                  u'GEO.id2']]\n",
    "        #create \"geography levels\" for separate muni, county columns\n",
    "        local_df['GEOLevel1'] = local_df['NAME'].str.split(', ', expand=True)[0]\n",
    "        local_df['GEOLevel2'] = local_df['NAME'].str.split(', ', expand=True)[1]\n",
    "        #calculate margin of errors's percent of value\n",
    "        local_df['moe_pct'] = (local_df[api_moe] / local_df[api_variable]) * 100\n",
    "        #rename from api variable to nice topic name\n",
    "        local_df = local_df.rename(columns={api_variable: api_name, api_moe: api_name + '_moe', 'NAME':'GEOdisplaylabel'})\n",
    "        local_df['GEOdisplaylabel'] = local_df['GEOdisplaylabel'].replace(to_replace=', New Jersey', value='', regex=True)\n",
    "        if label == 'prev':\n",
    "            local_df[api_name + '_prev_winf'] = local_df[api_name] * inflation_rate + local_df[api_name]\n",
    "        return local_df"
   ]
  },
  {
   "cell_type": "code",
   "execution_count": 8,
   "metadata": {
    "collapsed": false,
    "scrolled": true
   },
   "outputs": [
    {
     "name": "stdout",
     "output_type": "stream",
     "text": [
      "https://api.census.gov/data/2017/acs/acs5?get=NAME,B25105_001E,B25105_001M&for=county%20subdivision:*&in=state:34&key=37e80b2543b3d018cfbeb06c5dca27cf33e789e7\n",
      "https://api.census.gov/data/2017/acs/acs5?get=NAME,B25105_001E,B25105_001M&for=county:*&in=state:34&key=37e80b2543b3d018cfbeb06c5dca27cf33e789e7\n",
      "https://api.census.gov/data/2012/acs5?get=NAME,B25105_001E,B25105_001M&for=county%20subdivision:*&in=state:34&key=37e80b2543b3d018cfbeb06c5dca27cf33e789e7\n",
      "https://api.census.gov/data/2012/acs5?get=NAME,B25105_001E,B25105_001M&for=county:*&in=state:34&key=37e80b2543b3d018cfbeb06c5dca27cf33e789e7\n"
     ]
    }
   ],
   "source": [
    "var_latest = clean_local_dfs(lastest_year, 'latest')\n",
    "var_prev = clean_local_dfs(oldest_year, 'prev')"
   ]
  },
  {
   "cell_type": "code",
   "execution_count": 9,
   "metadata": {
    "collapsed": false
   },
   "outputs": [],
   "source": [
    "#Merge \n",
    "var_merge = pd.merge(var_latest, var_prev, left_on='GEO.id2', right_on='GEO.id2', how='outer', suffixes=('_latest', '_prev'))"
   ]
  },
  {
   "cell_type": "code",
   "execution_count": 10,
   "metadata": {
    "collapsed": false
   },
   "outputs": [],
   "source": [
    "#drop unneccessary columns and rename ones that need it\n",
    "var_merge = var_merge.drop(['GEOdisplaylabel_prev', 'GEOLevel1_latest', 'GEOLevel2_latest'], axis=1)\n",
    "var_merge.rename(columns={'GEOdisplaylabel_latest': 'GEOdisplaylabel', 'GEOLevel1_prev': 'GEOLevel1','GEOLevel2_prev':'GEOLevel2', 'GEO.id_latest': 'GEO.id', 'GEOdisplaylabel_long_x': 'GEOdisplaylabel_long'}, inplace=True)"
   ]
  },
  {
   "cell_type": "code",
   "execution_count": 11,
   "metadata": {
    "collapsed": false
   },
   "outputs": [],
   "source": [
    "#Take out County subdivisions not defined\n",
    "var_merge = var_merge[var_merge['GEOdisplaylabel'].str.contains(\"County subdivisions not defined\") == False]\n",
    "var_merge = var_merge.sort_values(by=['GEO.id2'])"
   ]
  },
  {
   "cell_type": "code",
   "execution_count": 12,
   "metadata": {
    "collapsed": false
   },
   "outputs": [],
   "source": [
    "#Add NJ and Nationwide\n",
    "var_merge['nj_' + api_name+'_latest'] = nj_latest\n",
    "var_merge['nj_' + api_name+'_prev'] = nj_previous\n",
    "var_merge['usa_' + api_name+'_latest'] = us_latest\n",
    "var_merge['usa_' + api_name+'_prev'] = us_previous\n",
    "var_merge[api_name+'_per_change'] = ((var_merge[api_name+'_latest'] - var_merge[api_name+'_prev']) / var_merge[api_name+'_prev']) * 100\n",
    "var_merge['nj_' + api_name+'_change'] = ((var_merge['nj_' + api_name+'_latest'] - var_merge['nj_' + api_name+'_prev']) / var_merge['nj_' + api_name+'_prev']) * 100\n",
    "var_merge['us_' + api_name+'_change'] = ((var_merge['usa_' + api_name+'_latest'] - var_merge['usa_' + api_name+'_prev']) / var_merge['usa_' + api_name+'_prev']) * 100"
   ]
  },
  {
   "cell_type": "code",
   "execution_count": 13,
   "metadata": {
    "collapsed": false
   },
   "outputs": [
    {
     "data": {
      "text/plain": [
       "Index([u'housing_cost_latest', u'housing_cost_moe_latest', u'GEOdisplaylabel',\n",
       "       u'GEO.id2', u'moe_pct_latest', u'housing_cost_prev',\n",
       "       u'housing_cost_moe_prev', u'GEOLevel1', u'GEOLevel2', u'moe_pct_prev',\n",
       "       u'housing_cost_prev_winf', u'nj_housing_cost_latest',\n",
       "       u'nj_housing_cost_prev', u'usa_housing_cost_latest',\n",
       "       u'usa_housing_cost_prev', u'housing_cost_per_change',\n",
       "       u'nj_housing_cost_change', u'us_housing_cost_change'],\n",
       "      dtype='object')"
      ]
     },
     "execution_count": 13,
     "metadata": {},
     "output_type": "execute_result"
    }
   ],
   "source": [
    "var_merge.columns"
   ]
  },
  {
   "cell_type": "code",
   "execution_count": 15,
   "metadata": {
    "collapsed": false
   },
   "outputs": [],
   "source": [
    "# re-ordering columns the way I want them\n",
    "\n",
    "var_merge = var_merge[[ u'GEOdisplaylabel', u'GEO.id2',\n",
    "        u'GEOLevel1', u'GEOLevel2',api_name + '_latest', api_name + '_moe_latest', \n",
    "        'moe_pct_latest',\n",
    "        api_name + '_prev', api_name + '_moe_prev', 'moe_pct_prev', 'housing_cost_prev_winf',\n",
    "       u'nj_' + api_name+'_latest', u'nj_' + api_name+'_prev',\n",
    "       u'usa_' + api_name+'_latest', u'usa_' + api_name+'_prev',\n",
    "       api_name + '_per_change', u'nj_' + api_name+'_change',\n",
    "       u'us_' + api_name+'_change']]"
   ]
  },
  {
   "cell_type": "code",
   "execution_count": 16,
   "metadata": {
    "collapsed": false
   },
   "outputs": [
    {
     "data": {
      "text/html": [
       "<div>\n",
       "<table border=\"1\" class=\"dataframe\">\n",
       "  <thead>\n",
       "    <tr style=\"text-align: right;\">\n",
       "      <th></th>\n",
       "      <th>GEOdisplaylabel</th>\n",
       "      <th>GEO.id2</th>\n",
       "      <th>GEOLevel1</th>\n",
       "      <th>GEOLevel2</th>\n",
       "      <th>housing_cost_latest</th>\n",
       "      <th>housing_cost_moe_latest</th>\n",
       "      <th>moe_pct_latest</th>\n",
       "      <th>housing_cost_prev</th>\n",
       "      <th>housing_cost_moe_prev</th>\n",
       "      <th>moe_pct_prev</th>\n",
       "      <th>housing_cost_prev_winf</th>\n",
       "      <th>nj_housing_cost_latest</th>\n",
       "      <th>nj_housing_cost_prev</th>\n",
       "      <th>usa_housing_cost_latest</th>\n",
       "      <th>usa_housing_cost_prev</th>\n",
       "      <th>housing_cost_per_change</th>\n",
       "      <th>nj_housing_cost_change</th>\n",
       "      <th>us_housing_cost_change</th>\n",
       "    </tr>\n",
       "  </thead>\n",
       "  <tbody>\n",
       "    <tr>\n",
       "      <th>577</th>\n",
       "      <td>Atlantic County</td>\n",
       "      <td>34001</td>\n",
       "      <td>Atlantic County</td>\n",
       "      <td>New Jersey</td>\n",
       "      <td>1355.0</td>\n",
       "      <td>19.0</td>\n",
       "      <td>1.402214</td>\n",
       "      <td>1312.0</td>\n",
       "      <td>20.0</td>\n",
       "      <td>1.524390</td>\n",
       "      <td>1400.6912</td>\n",
       "      <td>1548</td>\n",
       "      <td>1533</td>\n",
       "      <td>1037</td>\n",
       "      <td>1015</td>\n",
       "      <td>3.277439</td>\n",
       "      <td>0.978474</td>\n",
       "      <td>2.167488</td>\n",
       "    </tr>\n",
       "    <tr>\n",
       "      <th>98</th>\n",
       "      <td>Absecon city, Atlantic County</td>\n",
       "      <td>3400100100</td>\n",
       "      <td>Absecon city</td>\n",
       "      <td>Atlantic County</td>\n",
       "      <td>1488.0</td>\n",
       "      <td>71.0</td>\n",
       "      <td>4.771505</td>\n",
       "      <td>1658.0</td>\n",
       "      <td>120.0</td>\n",
       "      <td>7.237636</td>\n",
       "      <td>1770.0808</td>\n",
       "      <td>1548</td>\n",
       "      <td>1533</td>\n",
       "      <td>1037</td>\n",
       "      <td>1015</td>\n",
       "      <td>-10.253317</td>\n",
       "      <td>0.978474</td>\n",
       "      <td>2.167488</td>\n",
       "    </tr>\n",
       "    <tr>\n",
       "      <th>121</th>\n",
       "      <td>Atlantic City city, Atlantic County</td>\n",
       "      <td>3400102080</td>\n",
       "      <td>Atlantic City city</td>\n",
       "      <td>Atlantic County</td>\n",
       "      <td>937.0</td>\n",
       "      <td>24.0</td>\n",
       "      <td>2.561366</td>\n",
       "      <td>921.0</td>\n",
       "      <td>34.0</td>\n",
       "      <td>3.691640</td>\n",
       "      <td>983.2596</td>\n",
       "      <td>1548</td>\n",
       "      <td>1533</td>\n",
       "      <td>1037</td>\n",
       "      <td>1015</td>\n",
       "      <td>1.737242</td>\n",
       "      <td>0.978474</td>\n",
       "      <td>2.167488</td>\n",
       "    </tr>\n",
       "    <tr>\n",
       "      <th>109</th>\n",
       "      <td>Brigantine city, Atlantic County</td>\n",
       "      <td>3400107810</td>\n",
       "      <td>Brigantine city</td>\n",
       "      <td>Atlantic County</td>\n",
       "      <td>1368.0</td>\n",
       "      <td>83.0</td>\n",
       "      <td>6.067251</td>\n",
       "      <td>1269.0</td>\n",
       "      <td>97.0</td>\n",
       "      <td>7.643814</td>\n",
       "      <td>1354.7844</td>\n",
       "      <td>1548</td>\n",
       "      <td>1533</td>\n",
       "      <td>1037</td>\n",
       "      <td>1015</td>\n",
       "      <td>7.801418</td>\n",
       "      <td>0.978474</td>\n",
       "      <td>2.167488</td>\n",
       "    </tr>\n",
       "    <tr>\n",
       "      <th>112</th>\n",
       "      <td>Buena borough, Atlantic County</td>\n",
       "      <td>3400108680</td>\n",
       "      <td>Buena borough</td>\n",
       "      <td>Atlantic County</td>\n",
       "      <td>1097.0</td>\n",
       "      <td>166.0</td>\n",
       "      <td>15.132179</td>\n",
       "      <td>1151.0</td>\n",
       "      <td>106.0</td>\n",
       "      <td>9.209383</td>\n",
       "      <td>1228.8076</td>\n",
       "      <td>1548</td>\n",
       "      <td>1533</td>\n",
       "      <td>1037</td>\n",
       "      <td>1015</td>\n",
       "      <td>-4.691573</td>\n",
       "      <td>0.978474</td>\n",
       "      <td>2.167488</td>\n",
       "    </tr>\n",
       "  </tbody>\n",
       "</table>\n",
       "</div>"
      ],
      "text/plain": [
       "                         GEOdisplaylabel     GEO.id2           GEOLevel1  \\\n",
       "577                      Atlantic County       34001     Atlantic County   \n",
       "98         Absecon city, Atlantic County  3400100100        Absecon city   \n",
       "121  Atlantic City city, Atlantic County  3400102080  Atlantic City city   \n",
       "109     Brigantine city, Atlantic County  3400107810     Brigantine city   \n",
       "112       Buena borough, Atlantic County  3400108680       Buena borough   \n",
       "\n",
       "           GEOLevel2  housing_cost_latest  housing_cost_moe_latest  \\\n",
       "577       New Jersey               1355.0                     19.0   \n",
       "98   Atlantic County               1488.0                     71.0   \n",
       "121  Atlantic County                937.0                     24.0   \n",
       "109  Atlantic County               1368.0                     83.0   \n",
       "112  Atlantic County               1097.0                    166.0   \n",
       "\n",
       "     moe_pct_latest  housing_cost_prev  housing_cost_moe_prev  moe_pct_prev  \\\n",
       "577        1.402214             1312.0                   20.0      1.524390   \n",
       "98         4.771505             1658.0                  120.0      7.237636   \n",
       "121        2.561366              921.0                   34.0      3.691640   \n",
       "109        6.067251             1269.0                   97.0      7.643814   \n",
       "112       15.132179             1151.0                  106.0      9.209383   \n",
       "\n",
       "     housing_cost_prev_winf  nj_housing_cost_latest  nj_housing_cost_prev  \\\n",
       "577               1400.6912                    1548                  1533   \n",
       "98                1770.0808                    1548                  1533   \n",
       "121                983.2596                    1548                  1533   \n",
       "109               1354.7844                    1548                  1533   \n",
       "112               1228.8076                    1548                  1533   \n",
       "\n",
       "     usa_housing_cost_latest  usa_housing_cost_prev  housing_cost_per_change  \\\n",
       "577                     1037                   1015                 3.277439   \n",
       "98                      1037                   1015               -10.253317   \n",
       "121                     1037                   1015                 1.737242   \n",
       "109                     1037                   1015                 7.801418   \n",
       "112                     1037                   1015                -4.691573   \n",
       "\n",
       "     nj_housing_cost_change  us_housing_cost_change  \n",
       "577                0.978474                2.167488  \n",
       "98                 0.978474                2.167488  \n",
       "121                0.978474                2.167488  \n",
       "109                0.978474                2.167488  \n",
       "112                0.978474                2.167488  "
      ]
     },
     "execution_count": 16,
     "metadata": {},
     "output_type": "execute_result"
    }
   ],
   "source": [
    "var_merge.head()"
   ]
  },
  {
   "cell_type": "code",
   "execution_count": 18,
   "metadata": {
    "collapsed": false
   },
   "outputs": [],
   "source": [
    "var_merge.to_csv('median_housing_costs_data_towns_clean.csv', header=True, index=False)"
   ]
  },
  {
   "cell_type": "code",
   "execution_count": null,
   "metadata": {
    "collapsed": true
   },
   "outputs": [],
   "source": []
  }
 ],
 "metadata": {
  "kernelspec": {
   "display_name": "Python 2",
   "language": "python",
   "name": "python2"
  },
  "language_info": {
   "codemirror_mode": {
    "name": "ipython",
    "version": 2
   },
   "file_extension": ".py",
   "mimetype": "text/x-python",
   "name": "python",
   "nbconvert_exporter": "python",
   "pygments_lexer": "ipython2",
   "version": "2.7.12"
  }
 },
 "nbformat": 4,
 "nbformat_minor": 0
}
