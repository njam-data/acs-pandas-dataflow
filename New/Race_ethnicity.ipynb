{
 "cells": [
  {
   "cell_type": "code",
   "execution_count": 1,
   "metadata": {
    "collapsed": true
   },
   "outputs": [],
   "source": [
    "import pandas as pd"
   ]
  },
  {
   "cell_type": "code",
   "execution_count": 2,
   "metadata": {
    "collapsed": true
   },
   "outputs": [],
   "source": [
    "us11 = pd.read_csv('12_national/ACS_12_5YR_B03002_with_ann.csv')\n",
    "us_prev_tot = pd.to_numeric(us11[1:]['HD01_VD01'][1])\n",
    "us_prev_wh = pd.to_numeric(us11[1:]['HD01_VD03'][1])\n",
    "us_prev_bl = pd.to_numeric(us11[1:]['HD01_VD04'][1])\n",
    "us_prev_as = pd.to_numeric(us11[1:]['HD01_VD06'][1])\n",
    "us_prev_hisp = pd.to_numeric(us11[1:]['HD01_VD12'][1])\n",
    "\n",
    "us16 = pd.read_csv('17_national/ACS_17_5YR_B03002_with_ann.csv')\n",
    "us_latest_tot = pd.to_numeric(us16[1:]['HD01_VD01'][1])\n",
    "us_latest_wh = pd.to_numeric(us16[1:]['HD01_VD03'][1])\n",
    "us_latest_bl = pd.to_numeric(us16[1:]['HD01_VD04'][1])\n",
    "us_latest_as = pd.to_numeric(us16[1:]['HD01_VD06'][1])\n",
    "us_latest_hisp = pd.to_numeric(us16[1:]['HD01_VD12'][1])\n",
    "\n",
    "nj11 = pd.read_csv('12_state/ACS_12_5YR_B03002_with_ann.csv')\n",
    "nj_prev_tot = pd.to_numeric(nj11[1:]['HD01_VD01'][1])\n",
    "nj_prev_wh = pd.to_numeric(nj11[1:]['HD01_VD03'][1])\n",
    "nj_prev_bl = pd.to_numeric(nj11[1:]['HD01_VD04'][1])\n",
    "nj_prev_as = pd.to_numeric(nj11[1:]['HD01_VD06'][1])\n",
    "nj_prev_hisp = pd.to_numeric(nj11[1:]['HD01_VD12'][1])\n",
    "\n",
    "nj16 = pd.read_csv('17_state/ACS_17_5YR_B03002_with_ann.csv')\n",
    "nj_latest_tot = pd.to_numeric(nj16[1:]['HD01_VD01'][1])\n",
    "nj_latest_wh = pd.to_numeric(nj16[1:]['HD01_VD03'][1])\n",
    "nj_latest_bl = pd.to_numeric(nj16[1:]['HD01_VD04'][1])\n",
    "nj_latest_as = pd.to_numeric(nj16[1:]['HD01_VD06'][1])\n",
    "nj_latest_hisp = pd.to_numeric(nj16[1:]['HD01_VD12'][1])"
   ]
  },
  {
   "cell_type": "code",
   "execution_count": 3,
   "metadata": {
    "collapsed": false
   },
   "outputs": [],
   "source": [
    "muni16 = pd.read_csv('17_muni/ACS_17_5YR_B03002_with_ann.csv', \n",
    "                     na_values=['-', '**', '***', '*****'], \n",
    "                     names = ['GEO.id', 'GEO.id2', 'GEOdisplaylabel_long', 'tot_latest', 'tot_latest_moe',\n",
    "       'HD01_VD02', 'HD02_VD02', 'white_latest', 'white_latest_moe', 'black_latest',\n",
    "       'black_latest_moe', 'HD01_VD05', 'HD02_VD05', 'asian_latest', 'asian_latest_moe',\n",
    "       'HD01_VD07', 'HD02_VD07', 'HD01_VD08', 'HD02_VD08', 'HD01_VD09',\n",
    "       'HD02_VD09', 'HD01_VD10', 'HD02_VD10', 'HD01_VD11', 'HD02_VD11',\n",
    "       'hispanic_latest', 'hispanic_latest_moe', 'HD01_VD13', 'HD02_VD13', 'HD01_VD14',\n",
    "       'HD02_VD14', 'HD01_VD15', 'HD02_VD15', 'HD01_VD16', 'HD02_VD16',\n",
    "       'HD01_VD17', 'HD02_VD17', 'HD01_VD18', 'HD02_VD18', 'HD01_VD19',\n",
    "       'HD02_VD19', 'HD01_VD20', 'HD02_VD20', 'HD01_VD21', 'HD02_VD21'],\n",
    "                     usecols = ['GEO.id', 'GEO.id2', 'GEOdisplaylabel_long', 'tot_latest', 'tot_latest_moe',\n",
    "       'white_latest', 'white_latest_moe', 'black_latest',\n",
    "       'black_latest_moe',  'asian_latest', 'asian_latest_moe',\n",
    "       'hispanic_latest', 'hispanic_latest_moe'],\n",
    "                     header=None,\n",
    "                     skiprows=2,\n",
    "                     dtype = {'tot_latest':float, 'tot_latest_moe':float,\n",
    "       'white_latest':float, 'white_latest_moe':float, 'black_latest':float,\n",
    "       'black_latest_moe':float,  'asian_latest':float, 'asian_latest_moe':float,\n",
    "       'hispanic_latest':float, 'hispanic_latest_moe':float}\n",
    "                    )\n",
    "\n",
    "cty16 = pd.read_csv('17_county/ACS_17_5YR_B03002_with_ann.csv',\n",
    "                    na_values=['-', '**', '***', '*****'], \n",
    "                     names = ['GEO.id', 'GEO.id2', 'GEOdisplaylabel_long', 'tot_latest', 'tot_latest_moe',\n",
    "       'HD01_VD02', 'HD02_VD02', 'white_latest', 'white_latest_moe', 'black_latest',\n",
    "       'black_latest_moe', 'HD01_VD05', 'HD02_VD05', 'asian_latest', 'asian_latest_moe',\n",
    "       'HD01_VD07', 'HD02_VD07', 'HD01_VD08', 'HD02_VD08', 'HD01_VD09',\n",
    "       'HD02_VD09', 'HD01_VD10', 'HD02_VD10', 'HD01_VD11', 'HD02_VD11',\n",
    "       'hispanic_latest', 'hispanic_latest_moe', 'HD01_VD13', 'HD02_VD13', 'HD01_VD14',\n",
    "       'HD02_VD14', 'HD01_VD15', 'HD02_VD15', 'HD01_VD16', 'HD02_VD16',\n",
    "       'HD01_VD17', 'HD02_VD17', 'HD01_VD18', 'HD02_VD18', 'HD01_VD19',\n",
    "       'HD02_VD19', 'HD01_VD20', 'HD02_VD20', 'HD01_VD21', 'HD02_VD21'],\n",
    "                     usecols = ['GEO.id', 'GEO.id2', 'GEOdisplaylabel_long', 'tot_latest', 'tot_latest_moe',\n",
    "       'white_latest', 'white_latest_moe', 'black_latest',\n",
    "       'black_latest_moe',  'asian_latest', 'asian_latest_moe',\n",
    "       'hispanic_latest', 'hispanic_latest_moe'],\n",
    "                     header=None,\n",
    "                     skiprows=2,\n",
    "                    dtype = {'tot_latest':float, 'tot_latest_moe':float,\n",
    "       'white_latest':float, 'white_latest_moe':float, 'black_latest':float,\n",
    "       'black_latest_moe':float,  'asian_latest':float, 'asian_latest_moe':float,\n",
    "       'hispanic_latest':float, 'hispanic_latest_moe':float}\n",
    "                    )\n",
    "\n",
    "re16 = muni16.append(cty16).reset_index().drop(labels='index', axis=1)"
   ]
  },
  {
   "cell_type": "code",
   "execution_count": 4,
   "metadata": {
    "collapsed": false
   },
   "outputs": [
    {
     "data": {
      "text/html": [
       "<div>\n",
       "<table border=\"1\" class=\"dataframe\">\n",
       "  <thead>\n",
       "    <tr style=\"text-align: right;\">\n",
       "      <th></th>\n",
       "      <th>GEO.id</th>\n",
       "      <th>GEO.id2</th>\n",
       "      <th>GEOdisplaylabel_long</th>\n",
       "      <th>tot_latest</th>\n",
       "      <th>tot_latest_moe</th>\n",
       "      <th>white_latest</th>\n",
       "      <th>white_latest_moe</th>\n",
       "      <th>black_latest</th>\n",
       "      <th>black_latest_moe</th>\n",
       "      <th>asian_latest</th>\n",
       "      <th>asian_latest_moe</th>\n",
       "      <th>hispanic_latest</th>\n",
       "      <th>hispanic_latest_moe</th>\n",
       "    </tr>\n",
       "  </thead>\n",
       "  <tbody>\n",
       "    <tr>\n",
       "      <th>0</th>\n",
       "      <td>0500000US34001</td>\n",
       "      <td>34001</td>\n",
       "      <td>Atlantic County, New Jersey</td>\n",
       "      <td>272926.0</td>\n",
       "      <td>NaN</td>\n",
       "      <td>153899.0</td>\n",
       "      <td>116.0</td>\n",
       "      <td>38978.0</td>\n",
       "      <td>740.0</td>\n",
       "      <td>22856.0</td>\n",
       "      <td>465.0</td>\n",
       "      <td>50510.0</td>\n",
       "      <td>NaN</td>\n",
       "    </tr>\n",
       "    <tr>\n",
       "      <th>1</th>\n",
       "      <td>0500000US34003</td>\n",
       "      <td>34003</td>\n",
       "      <td>Bergen County, New Jersey</td>\n",
       "      <td>937920.0</td>\n",
       "      <td>NaN</td>\n",
       "      <td>542226.0</td>\n",
       "      <td>340.0</td>\n",
       "      <td>49842.0</td>\n",
       "      <td>773.0</td>\n",
       "      <td>151869.0</td>\n",
       "      <td>939.0</td>\n",
       "      <td>176933.0</td>\n",
       "      <td>NaN</td>\n",
       "    </tr>\n",
       "    <tr>\n",
       "      <th>2</th>\n",
       "      <td>0500000US34005</td>\n",
       "      <td>34005</td>\n",
       "      <td>Burlington County, New Jersey</td>\n",
       "      <td>449192.0</td>\n",
       "      <td>NaN</td>\n",
       "      <td>306647.0</td>\n",
       "      <td>451.0</td>\n",
       "      <td>70545.0</td>\n",
       "      <td>979.0</td>\n",
       "      <td>21696.0</td>\n",
       "      <td>550.0</td>\n",
       "      <td>34356.0</td>\n",
       "      <td>NaN</td>\n",
       "    </tr>\n",
       "    <tr>\n",
       "      <th>3</th>\n",
       "      <td>0500000US34007</td>\n",
       "      <td>34007</td>\n",
       "      <td>Camden County, New Jersey</td>\n",
       "      <td>510996.0</td>\n",
       "      <td>NaN</td>\n",
       "      <td>293604.0</td>\n",
       "      <td>557.0</td>\n",
       "      <td>92554.0</td>\n",
       "      <td>920.0</td>\n",
       "      <td>29317.0</td>\n",
       "      <td>438.0</td>\n",
       "      <td>82396.0</td>\n",
       "      <td>NaN</td>\n",
       "    </tr>\n",
       "    <tr>\n",
       "      <th>4</th>\n",
       "      <td>0500000US34009</td>\n",
       "      <td>34009</td>\n",
       "      <td>Cape May County, New Jersey</td>\n",
       "      <td>94549.0</td>\n",
       "      <td>NaN</td>\n",
       "      <td>80953.0</td>\n",
       "      <td>60.0</td>\n",
       "      <td>4230.0</td>\n",
       "      <td>283.0</td>\n",
       "      <td>903.0</td>\n",
       "      <td>128.0</td>\n",
       "      <td>6954.0</td>\n",
       "      <td>NaN</td>\n",
       "    </tr>\n",
       "  </tbody>\n",
       "</table>\n",
       "</div>"
      ],
      "text/plain": [
       "           GEO.id  GEO.id2           GEOdisplaylabel_long  tot_latest  \\\n",
       "0  0500000US34001    34001    Atlantic County, New Jersey    272926.0   \n",
       "1  0500000US34003    34003      Bergen County, New Jersey    937920.0   \n",
       "2  0500000US34005    34005  Burlington County, New Jersey    449192.0   \n",
       "3  0500000US34007    34007      Camden County, New Jersey    510996.0   \n",
       "4  0500000US34009    34009    Cape May County, New Jersey     94549.0   \n",
       "\n",
       "   tot_latest_moe  white_latest  white_latest_moe  black_latest  \\\n",
       "0             NaN      153899.0             116.0       38978.0   \n",
       "1             NaN      542226.0             340.0       49842.0   \n",
       "2             NaN      306647.0             451.0       70545.0   \n",
       "3             NaN      293604.0             557.0       92554.0   \n",
       "4             NaN       80953.0              60.0        4230.0   \n",
       "\n",
       "   black_latest_moe  asian_latest  asian_latest_moe  hispanic_latest  \\\n",
       "0             740.0       22856.0             465.0          50510.0   \n",
       "1             773.0      151869.0             939.0         176933.0   \n",
       "2             979.0       21696.0             550.0          34356.0   \n",
       "3             920.0       29317.0             438.0          82396.0   \n",
       "4             283.0         903.0             128.0           6954.0   \n",
       "\n",
       "   hispanic_latest_moe  \n",
       "0                  NaN  \n",
       "1                  NaN  \n",
       "2                  NaN  \n",
       "3                  NaN  \n",
       "4                  NaN  "
      ]
     },
     "execution_count": 4,
     "metadata": {},
     "output_type": "execute_result"
    }
   ],
   "source": [
    "cty16.head()"
   ]
  },
  {
   "cell_type": "code",
   "execution_count": 5,
   "metadata": {
    "collapsed": false
   },
   "outputs": [],
   "source": [
    "muni11 = pd.read_csv('12_muni/ACS_12_5YR_B03002_with_ann.csv', \n",
    "                     na_values=['-', '**', '***', '*****'], \n",
    "                     names = ['GEO.id', 'GEO.id2', 'GEOdisplaylabel_long', 'tot_prev', 'tot_prev_moe',\n",
    "       'HD01_VD02', 'HD02_VD02', 'white_prev', 'white_prev_moe', 'black_prev',\n",
    "       'black_prev_moe', 'HD01_VD05', 'HD02_VD05', 'asian_prev', 'asian_prev_moe',\n",
    "       'HD01_VD07', 'HD02_VD07', 'HD01_VD08', 'HD02_VD08', 'HD01_VD09',\n",
    "       'HD02_VD09', 'HD01_VD10', 'HD02_VD10', 'HD01_VD11', 'HD02_VD11',\n",
    "       'hispanic_prev', 'hispanic_prev_moe', 'HD01_VD13', 'HD02_VD13', 'HD01_VD14',\n",
    "       'HD02_VD14', 'HD01_VD15', 'HD02_VD15', 'HD01_VD16', 'HD02_VD16',\n",
    "       'HD01_VD17', 'HD02_VD17', 'HD01_VD18', 'HD02_VD18', 'HD01_VD19',\n",
    "       'HD02_VD19', 'HD01_VD20', 'HD02_VD20', 'HD01_VD21', 'HD02_VD21'],\n",
    "                     usecols = ['GEO.id', 'GEO.id2', 'GEOdisplaylabel_long', 'tot_prev', 'tot_prev_moe',\n",
    "       'white_prev', 'white_prev_moe', 'black_prev',\n",
    "       'black_prev_moe',  'asian_prev', 'asian_prev_moe',\n",
    "       'hispanic_prev', 'hispanic_prev_moe'],\n",
    "                     header=None,\n",
    "                     skiprows=2,\n",
    "                    dtype = {'tot_prev':float, 'tot_prev_moe':float,\n",
    "       'white_prev':float, 'white_prev_moe':float, 'black_prev':float,\n",
    "       'black_prev_moe':float,  'asian_prev':float, 'asian_prev_moe':float,\n",
    "       'hispanic_prev':float, 'hispanic_prev_moe':float}\n",
    "                    )\n",
    "\n",
    "\n",
    "\n",
    "cty11 = pd.read_csv('12_county/ACS_12_5YR_B03002_with_ann.csv',\n",
    "                    na_values=['-', '**', '***', '*****'], \n",
    "                    names = ['GEO.id', 'GEO.id2', 'GEOdisplaylabel_long', 'tot_prev', 'tot_prev_moe',\n",
    "       'HD01_VD02', 'HD02_VD02', 'white_prev', 'white_prev_moe', 'black_prev',\n",
    "       'black_prev_moe', 'HD01_VD05', 'HD02_VD05', 'asian_prev', 'asian_prev_moe',\n",
    "       'HD01_VD07', 'HD02_VD07', 'HD01_VD08', 'HD02_VD08', 'HD01_VD09',\n",
    "       'HD02_VD09', 'HD01_VD10', 'HD02_VD10', 'HD01_VD11', 'HD02_VD11',\n",
    "       'hispanic_prev', 'hispanic_prev_moe', 'HD01_VD13', 'HD02_VD13', 'HD01_VD14',\n",
    "       'HD02_VD14', 'HD01_VD15', 'HD02_VD15', 'HD01_VD16', 'HD02_VD16',\n",
    "       'HD01_VD17', 'HD02_VD17', 'HD01_VD18', 'HD02_VD18', 'HD01_VD19',\n",
    "       'HD02_VD19', 'HD01_VD20', 'HD02_VD20', 'HD01_VD21', 'HD02_VD21'],\n",
    "                     usecols = ['GEO.id', 'GEO.id2', 'GEOdisplaylabel_long', 'tot_prev', 'tot_prev_moe',\n",
    "       'white_prev', 'white_prev_moe', 'black_prev',\n",
    "       'black_prev_moe',  'asian_prev', 'asian_prev_moe',\n",
    "       'hispanic_prev', 'hispanic_prev_moe'],\n",
    "                     header=None,\n",
    "                     skiprows=2,\n",
    "                    dtype = {'tot_prev':float, 'tot_prev_moe':float,\n",
    "       'white_prev':float, 'white_prev_moe':float, 'black_prev':float,\n",
    "       'black_prev_moe':float,  'asian_prev':float, 'asian_prev_moe':float,\n",
    "       'hispanic_prev':float, 'hispanic_prev_moe':float}\n",
    "                    )\n",
    "\n",
    "\n",
    "re11 = muni11.append(cty11).reset_index().drop(labels='index', axis=1)"
   ]
  },
  {
   "cell_type": "code",
   "execution_count": 6,
   "metadata": {
    "collapsed": true
   },
   "outputs": [],
   "source": [
    "re16['GEOdisplaylabel_long'] = re16['GEOdisplaylabel_long'].replace(to_replace=', New Jersey', value='', regex=True)\n",
    "re11['GEOdisplaylabel_long'] = re11['GEOdisplaylabel_long'].replace(to_replace=', New Jersey', value='', regex=True)"
   ]
  },
  {
   "cell_type": "code",
   "execution_count": 7,
   "metadata": {
    "collapsed": false
   },
   "outputs": [],
   "source": [
    "re_cols = pd.DataFrame(re16.GEOdisplaylabel_long.str.split(',',1).tolist(), columns = ['GEOdisplaylabel', 'County'])\n",
    "re16 = pd.concat([re16, re_cols ], axis=1)\n",
    "re16['County'] = re16['County'].replace(to_replace='County', value='', regex=True)"
   ]
  },
  {
   "cell_type": "code",
   "execution_count": 8,
   "metadata": {
    "collapsed": true
   },
   "outputs": [],
   "source": [
    "re = pd.merge(re16, re11, on='GEO.id2', how='left')"
   ]
  },
  {
   "cell_type": "code",
   "execution_count": 9,
   "metadata": {
    "collapsed": false
   },
   "outputs": [
    {
     "data": {
      "text/plain": [
       "Index([u'GEO.id_x', u'GEO.id2', u'GEOdisplaylabel_long_x', u'tot_latest',\n",
       "       u'tot_latest_moe', u'white_latest', u'white_latest_moe',\n",
       "       u'black_latest', u'black_latest_moe', u'asian_latest',\n",
       "       u'asian_latest_moe', u'hispanic_latest', u'hispanic_latest_moe',\n",
       "       u'GEOdisplaylabel', u'County', u'GEO.id_y', u'GEOdisplaylabel_long_y',\n",
       "       u'tot_prev', u'tot_prev_moe', u'white_prev', u'white_prev_moe',\n",
       "       u'black_prev', u'black_prev_moe', u'asian_prev', u'asian_prev_moe',\n",
       "       u'hispanic_prev', u'hispanic_prev_moe'],\n",
       "      dtype='object')"
      ]
     },
     "execution_count": 9,
     "metadata": {},
     "output_type": "execute_result"
    }
   ],
   "source": [
    "re.columns"
   ]
  },
  {
   "cell_type": "code",
   "execution_count": 10,
   "metadata": {
    "collapsed": false
   },
   "outputs": [],
   "source": [
    "re_simp = re[[u'GEO.id_x', u'GEO.id2', u'GEOdisplaylabel', u'GEOdisplaylabel_long_x',u'County', 'tot_latest',\n",
    "        u'tot_latest_moe', u'white_latest', u'white_latest_moe',\n",
    "       u'black_latest', u'black_latest_moe', u'asian_latest',\n",
    "       u'asian_latest_moe', u'hispanic_latest', u'hispanic_latest_moe',\n",
    "        u'tot_prev', u'tot_prev_moe', u'white_prev', u'white_prev_moe',\n",
    "       u'black_prev', u'black_prev_moe', u'asian_prev', u'asian_prev_moe',\n",
    "       u'hispanic_prev', u'hispanic_prev_moe'\n",
    "               ]].rename(columns={'GEO.id_x':'GEO.id', \n",
    "                                                'GEOdisplaylabel_long_x':'GEOdisplaylabel_long'})"
   ]
  },
  {
   "cell_type": "code",
   "execution_count": 11,
   "metadata": {
    "collapsed": true
   },
   "outputs": [],
   "source": [
    "re_simp = re_simp[re_simp['GEOdisplaylabel'] != 'County subdivisions not defined']"
   ]
  },
  {
   "cell_type": "code",
   "execution_count": 12,
   "metadata": {
    "collapsed": true
   },
   "outputs": [],
   "source": [
    "re_raw = re_simp"
   ]
  },
  {
   "cell_type": "code",
   "execution_count": 13,
   "metadata": {
    "collapsed": true
   },
   "outputs": [],
   "source": [
    "re_raw['tot_latest_moe_per'] = re_raw['tot_latest_moe'] / re_raw['tot_latest']\n",
    "re_raw['white_latest_moe_per'] = re_raw['white_latest_moe'] / re_raw['white_latest']\n",
    "re_raw['black_latest_moe_per'] = re_raw['black_latest_moe'] / re_raw['black_latest']\n",
    "re_raw['asian_latest_moe_per'] = re_raw['asian_latest_moe'] / re_raw['asian_latest']\n",
    "re_raw['hispanic_latest_moe_per'] = re_raw['hispanic_latest_moe'] / re_raw['hispanic_latest']\n",
    "\n"
   ]
  },
  {
   "cell_type": "code",
   "execution_count": 14,
   "metadata": {
    "collapsed": true
   },
   "outputs": [],
   "source": [
    "re_raw['tot_prev_moe_per'] = re_raw['tot_prev_moe'] / re_raw['tot_prev']\n",
    "re_raw['white_prev_moe_per'] = re_raw['white_prev_moe'] / re_raw['white_prev']\n",
    "re_raw['black_prev_moe_per'] = re_raw['black_prev_moe'] / re_raw['black_prev']\n",
    "re_raw['asian_prev_moe_per'] = re_raw['asian_prev_moe'] / re_raw['asian_prev']\n",
    "re_raw['hispanic_prev_moe_per'] = re_raw['hispanic_prev_moe'] / re_raw['hispanic_prev']\n"
   ]
  },
  {
   "cell_type": "code",
   "execution_count": 15,
   "metadata": {
    "collapsed": false
   },
   "outputs": [
    {
     "data": {
      "text/plain": [
       "1764520"
      ]
     },
     "execution_count": 15,
     "metadata": {},
     "output_type": "execute_result"
    }
   ],
   "source": [
    "us_prev_tot \n",
    "us_prev_wh \n",
    "us_prev_bl\n",
    "us_prev_as \n",
    "us_prev_hisp\n",
    "\n",
    "us_latest_tot\n",
    "us_latest_wh \n",
    "us_latest_bl \n",
    "us_latest_as \n",
    "us_latest_hisp \n",
    "\n",
    "nj_prev_tot \n",
    "nj_prev_wh \n",
    "nj_prev_bl\n",
    "nj_prev_as \n",
    "nj_prev_hisp \n",
    "\n",
    "nj_latest_tot \n",
    "nj_latest_wh \n",
    "nj_latest_bl \n",
    "nj_latest_as \n",
    "nj_latest_hisp "
   ]
  },
  {
   "cell_type": "code",
   "execution_count": 16,
   "metadata": {
    "collapsed": true
   },
   "outputs": [],
   "source": [
    "#Add NJ and Nationwide\n",
    "re_raw['nj_latest_tot'] = nj_latest_tot\n",
    "re_raw['nj_latest_wh'] = nj_latest_wh\n",
    "re_raw['nj_latest_bl'] = nj_latest_bl\n",
    "re_raw['nj_latest_as'] = nj_latest_as\n",
    "re_raw['nj_latest_hisp'] = nj_latest_hisp\n",
    "\n",
    "re_raw['nj_prev_tot'] = nj_prev_tot\n",
    "re_raw['nj_prev_wh'] = nj_prev_wh\n",
    "re_raw['nj_prev_bl'] = nj_prev_bl\n",
    "re_raw['nj_prev_as'] = nj_prev_as\n",
    "re_raw['nj_prev_hisp'] = nj_prev_hisp\n",
    "\n",
    "re_raw['us_latest_tot'] = us_latest_tot\n",
    "re_raw['us_latest_wh'] = us_latest_wh\n",
    "re_raw['us_latest_bl'] = us_latest_bl\n",
    "re_raw['us_latest_as'] = us_latest_as\n",
    "re_raw['us_latest_hisp'] = us_latest_hisp\n",
    "\n",
    "re_raw['us_prev_tot'] = us_prev_tot\n",
    "re_raw['us_prev_wh'] = us_prev_wh\n",
    "re_raw['us_prev_bl'] = us_prev_bl\n",
    "re_raw['us_prev_as'] = us_prev_as\n",
    "re_raw['us_prev_hisp'] = us_prev_hisp"
   ]
  },
  {
   "cell_type": "code",
   "execution_count": 17,
   "metadata": {
    "collapsed": true
   },
   "outputs": [],
   "source": [
    "re_raw['tot_per_change'] = ((re_raw['tot_latest'] - re_raw['tot_prev']) / re_raw['tot_prev']) * 100\n",
    "re_raw['white_per_change'] = ((re_raw['white_latest'] - re_raw['white_prev']) / re_raw['white_prev']) * 100\n",
    "re_raw['black_per_change'] = ((re_raw['black_latest'] - re_raw['black_prev']) / re_raw['black_prev']) * 100\n",
    "re_raw['asian_per_change'] = ((re_raw['asian_latest'] - re_raw['asian_prev']) / re_raw['asian_prev']) * 100\n",
    "re_raw['hispanic_per_change'] = ((re_raw['hispanic_latest'] - re_raw['hispanic_prev']) / re_raw['hispanic_prev']) * 100\n"
   ]
  },
  {
   "cell_type": "code",
   "execution_count": 18,
   "metadata": {
    "collapsed": true
   },
   "outputs": [],
   "source": [
    "re_raw['nj_tot_per_change'] = ((re_raw['nj_latest_tot'] - re_raw['nj_prev_tot']) / re_raw['nj_prev_tot']) * 100\n",
    "re_raw['nj_white_per_change'] = ((re_raw['nj_latest_wh'] - re_raw['nj_prev_wh']) / re_raw['nj_prev_wh']) * 100\n",
    "re_raw['nj_black_per_change'] = ((re_raw['nj_latest_bl'] - re_raw['nj_prev_bl']) / re_raw['nj_prev_bl']) * 100\n",
    "re_raw['nj_asian_per_change'] = ((re_raw['nj_latest_as'] - re_raw['nj_prev_as']) / re_raw['nj_prev_as']) * 100\n",
    "re_raw['nj_hispanic_per_change'] = ((re_raw['nj_latest_hisp'] - re_raw['nj_prev_hisp']) / re_raw['nj_prev_hisp']) * 100\n"
   ]
  },
  {
   "cell_type": "code",
   "execution_count": 19,
   "metadata": {
    "collapsed": true
   },
   "outputs": [],
   "source": [
    "re_raw['us_tot_per_change'] = ((re_raw['us_latest_tot'] - re_raw['us_prev_tot']) / re_raw['us_prev_tot']) * 100\n",
    "re_raw['us_white_per_change'] = ((re_raw['us_latest_wh'] - re_raw['us_prev_wh']) / re_raw['us_prev_wh']) * 100\n",
    "re_raw['us_black_per_change'] = ((re_raw['us_latest_bl'] - re_raw['us_prev_bl']) / re_raw['us_prev_bl']) * 100\n",
    "re_raw['us_asian_per_change'] = ((re_raw['us_latest_as'] - re_raw['us_prev_as']) / re_raw['us_prev_as']) * 100\n",
    "re_raw['us_hispanic_per_change'] = ((re_raw['us_latest_hisp'] - re_raw['us_prev_hisp']) / re_raw['us_prev_hisp']) * 100"
   ]
  },
  {
   "cell_type": "code",
   "execution_count": 20,
   "metadata": {
    "collapsed": false
   },
   "outputs": [],
   "source": [
    "# re_raw.to_csv('raw_race_ethnicity_town_by_town.csv', index=False)"
   ]
  },
  {
   "cell_type": "code",
   "execution_count": 21,
   "metadata": {
    "collapsed": false
   },
   "outputs": [
    {
     "data": {
      "text/plain": [
       "Index([u'GEO.id', u'GEO.id2', u'GEOdisplaylabel', u'GEOdisplaylabel_long',\n",
       "       u'County', u'tot_latest', u'tot_latest_moe', u'white_latest',\n",
       "       u'white_latest_moe', u'black_latest', u'black_latest_moe',\n",
       "       u'asian_latest', u'asian_latest_moe', u'hispanic_latest',\n",
       "       u'hispanic_latest_moe', u'tot_prev', u'tot_prev_moe', u'white_prev',\n",
       "       u'white_prev_moe', u'black_prev', u'black_prev_moe', u'asian_prev',\n",
       "       u'asian_prev_moe', u'hispanic_prev', u'hispanic_prev_moe',\n",
       "       u'tot_latest_moe_per', u'white_latest_moe_per', u'black_latest_moe_per',\n",
       "       u'asian_latest_moe_per', u'hispanic_latest_moe_per',\n",
       "       u'tot_prev_moe_per', u'white_prev_moe_per', u'black_prev_moe_per',\n",
       "       u'asian_prev_moe_per', u'hispanic_prev_moe_per', u'nj_latest_tot',\n",
       "       u'nj_latest_wh', u'nj_latest_bl', u'nj_latest_as', u'nj_latest_hisp',\n",
       "       u'nj_prev_tot', u'nj_prev_wh', u'nj_prev_bl', u'nj_prev_as',\n",
       "       u'nj_prev_hisp', u'us_latest_tot', u'us_latest_wh', u'us_latest_bl',\n",
       "       u'us_latest_as', u'us_latest_hisp', u'us_prev_tot', u'us_prev_wh',\n",
       "       u'us_prev_bl', u'us_prev_as', u'us_prev_hisp', u'tot_per_change',\n",
       "       u'white_per_change', u'black_per_change', u'asian_per_change',\n",
       "       u'hispanic_per_change', u'nj_tot_per_change', u'nj_white_per_change',\n",
       "       u'nj_black_per_change', u'nj_asian_per_change',\n",
       "       u'nj_hispanic_per_change', u'us_tot_per_change', u'us_white_per_change',\n",
       "       u'us_black_per_change', u'us_asian_per_change',\n",
       "       u'us_hispanic_per_change'],\n",
       "      dtype='object')"
      ]
     },
     "execution_count": 21,
     "metadata": {},
     "output_type": "execute_result"
    }
   ],
   "source": [
    "re_simp.columns"
   ]
  },
  {
   "cell_type": "code",
   "execution_count": 22,
   "metadata": {
    "collapsed": true
   },
   "outputs": [],
   "source": [
    "re_simp[['per_white_latest', 'per_black_latest', \n",
    "         'per_asian_latest', 'per_hispanic_latest']] = re_simp[['white_latest', 'black_latest', \n",
    "         'asian_latest', 'hispanic_latest']].div(re_simp.tot_latest, axis=0)\n",
    "re_simp[['per_white_prev', 'per_black_prev', \n",
    "         'per_asian_prev', 'per_hispanic_prev']] = re_simp[['white_prev', 'black_prev', \n",
    "         'asian_prev', 'hispanic_prev']].div(re_simp.tot_prev, axis=0)"
   ]
  },
  {
   "cell_type": "code",
   "execution_count": 23,
   "metadata": {
    "collapsed": true
   },
   "outputs": [],
   "source": [
    "re_simp[['nj_per_white_latest', 'nj_per_black_latest', \n",
    "         'nj_per_asian_latest', 'nj_per_hispanic_latest']] = re_simp[['nj_latest_wh', 'nj_latest_bl', \n",
    "         'nj_latest_as', 'nj_latest_hisp']].div(re_simp.nj_latest_tot, axis=0)\n",
    "re_simp[['nj_per_white_prev', 'nj_per_black_prev', \n",
    "         'nj_per_asian_prev', 'nj_per_hispanic_prev']] = re_simp[['nj_prev_wh', 'nj_prev_bl', \n",
    "         'nj_prev_as', 'nj_prev_hisp']].div(re_simp.nj_prev_tot, axis=0)"
   ]
  },
  {
   "cell_type": "code",
   "execution_count": 24,
   "metadata": {
    "collapsed": true
   },
   "outputs": [],
   "source": [
    "re_simp[['us_per_white_latest', 'us_per_black_latest', \n",
    "         'us_per_asian_latest', 'us_per_hispanic_latest']] = re_simp[['us_latest_wh', 'us_latest_bl', \n",
    "         'us_latest_as', 'us_latest_hisp']].div(re_simp.us_latest_tot, axis=0)\n",
    "re_simp[['us_per_white_prev', 'us_per_black_prev', \n",
    "         'us_per_asian_prev', 'us_per_hispanic_prev']] = re_simp[['us_prev_wh', 'us_prev_bl', \n",
    "         'us_prev_as', 'us_prev_hisp']].div(re_simp.us_prev_tot, axis=0)"
   ]
  },
  {
   "cell_type": "code",
   "execution_count": 25,
   "metadata": {
    "collapsed": false
   },
   "outputs": [],
   "source": [
    "re_simp['white_change'] = re_simp['per_white_latest'] - re_simp['per_white_prev']\n",
    "re_simp['black_change'] = re_simp['per_black_latest'] - re_simp['per_black_prev']\n",
    "re_simp['asian_change'] = re_simp['per_asian_latest'] - re_simp['per_asian_prev']\n",
    "re_simp['hispanic_change'] = re_simp['per_hispanic_latest'] - re_simp['per_hispanic_prev']\n"
   ]
  },
  {
   "cell_type": "code",
   "execution_count": 26,
   "metadata": {
    "collapsed": true
   },
   "outputs": [],
   "source": [
    "re_simp['nj_white_change'] = re_simp['nj_per_white_latest'] - re_simp['nj_per_white_prev']\n",
    "re_simp['nj_black_change'] = re_simp['nj_per_black_latest'] - re_simp['nj_per_black_prev']\n",
    "re_simp['nj_asian_change'] = re_simp['nj_per_asian_latest'] - re_simp['nj_per_asian_prev']\n",
    "re_simp['nj_hispanic_change'] = re_simp['nj_per_hispanic_latest'] - re_simp['nj_per_hispanic_prev']"
   ]
  },
  {
   "cell_type": "code",
   "execution_count": 27,
   "metadata": {
    "collapsed": true
   },
   "outputs": [],
   "source": [
    "re_simp['us_white_change'] = re_simp['us_per_white_latest'] - re_simp['us_per_white_prev']\n",
    "re_simp['us_black_change'] = re_simp['us_per_black_latest'] - re_simp['us_per_black_prev']\n",
    "re_simp['us_asian_change'] = re_simp['us_per_asian_latest'] - re_simp['us_per_asian_prev']\n",
    "re_simp['us_hispanic_change'] = re_simp['us_per_hispanic_latest'] - re_simp['us_per_hispanic_prev']"
   ]
  },
  {
   "cell_type": "code",
   "execution_count": 28,
   "metadata": {
    "collapsed": false
   },
   "outputs": [
    {
     "data": {
      "text/plain": [
       "Index([u'GEO.id', u'GEO.id2', u'GEOdisplaylabel', u'GEOdisplaylabel_long',\n",
       "       u'County', u'tot_latest', u'tot_latest_moe', u'white_latest',\n",
       "       u'white_latest_moe', u'black_latest', u'black_latest_moe',\n",
       "       u'asian_latest', u'asian_latest_moe', u'hispanic_latest',\n",
       "       u'hispanic_latest_moe', u'tot_prev', u'tot_prev_moe', u'white_prev',\n",
       "       u'white_prev_moe', u'black_prev', u'black_prev_moe', u'asian_prev',\n",
       "       u'asian_prev_moe', u'hispanic_prev', u'hispanic_prev_moe',\n",
       "       u'tot_latest_moe_per', u'white_latest_moe_per', u'black_latest_moe_per',\n",
       "       u'asian_latest_moe_per', u'hispanic_latest_moe_per'],\n",
       "      dtype='object')"
      ]
     },
     "execution_count": 28,
     "metadata": {},
     "output_type": "execute_result"
    }
   ],
   "source": [
    "re_simp.columns[0:30]"
   ]
  },
  {
   "cell_type": "code",
   "execution_count": 29,
   "metadata": {
    "collapsed": false
   },
   "outputs": [
    {
     "data": {
      "text/plain": [
       "Index([u'white_latest_moe_per', u'black_latest_moe_per',\n",
       "       u'asian_latest_moe_per', u'hispanic_latest_moe_per'],\n",
       "      dtype='object')"
      ]
     },
     "execution_count": 29,
     "metadata": {},
     "output_type": "execute_result"
    }
   ],
   "source": [
    "re_simp.columns[26:30]"
   ]
  },
  {
   "cell_type": "code",
   "execution_count": 30,
   "metadata": {
    "collapsed": false
   },
   "outputs": [
    {
     "data": {
      "text/plain": [
       "Index([u'tot_prev_moe_per', u'white_prev_moe_per', u'black_prev_moe_per',\n",
       "       u'asian_prev_moe_per', u'hispanic_prev_moe_per'],\n",
       "      dtype='object')"
      ]
     },
     "execution_count": 30,
     "metadata": {},
     "output_type": "execute_result"
    }
   ],
   "source": [
    "re_simp.columns[30:35]"
   ]
  },
  {
   "cell_type": "code",
   "execution_count": 31,
   "metadata": {
    "collapsed": false
   },
   "outputs": [
    {
     "data": {
      "text/plain": [
       "Index([u'tot_prev_moe_per', u'white_prev_moe_per', u'black_prev_moe_per',\n",
       "       u'asian_prev_moe_per', u'hispanic_prev_moe_per', u'nj_latest_tot',\n",
       "       u'nj_latest_wh', u'nj_latest_bl', u'nj_latest_as', u'nj_latest_hisp',\n",
       "       u'nj_prev_tot', u'nj_prev_wh', u'nj_prev_bl', u'nj_prev_as',\n",
       "       u'nj_prev_hisp', u'us_latest_tot', u'us_latest_wh', u'us_latest_bl',\n",
       "       u'us_latest_as', u'us_latest_hisp', u'us_prev_tot', u'us_prev_wh',\n",
       "       u'us_prev_bl', u'us_prev_as', u'us_prev_hisp', u'tot_per_change',\n",
       "       u'white_per_change', u'black_per_change', u'asian_per_change',\n",
       "       u'hispanic_per_change'],\n",
       "      dtype='object')"
      ]
     },
     "execution_count": 31,
     "metadata": {},
     "output_type": "execute_result"
    }
   ],
   "source": [
    "re_simp.columns[30:60]"
   ]
  },
  {
   "cell_type": "code",
   "execution_count": 32,
   "metadata": {
    "collapsed": false
   },
   "outputs": [
    {
     "data": {
      "text/plain": [
       "Index([u'nj_tot_per_change', u'nj_white_per_change', u'nj_black_per_change',\n",
       "       u'nj_asian_per_change', u'nj_hispanic_per_change', u'us_tot_per_change',\n",
       "       u'us_white_per_change', u'us_black_per_change', u'us_asian_per_change',\n",
       "       u'us_hispanic_per_change', u'per_white_latest', u'per_black_latest',\n",
       "       u'per_asian_latest', u'per_hispanic_latest', u'per_white_prev',\n",
       "       u'per_black_prev', u'per_asian_prev', u'per_hispanic_prev',\n",
       "       u'nj_per_white_latest', u'nj_per_black_latest', u'nj_per_asian_latest',\n",
       "       u'nj_per_hispanic_latest', u'nj_per_white_prev', u'nj_per_black_prev',\n",
       "       u'nj_per_asian_prev', u'nj_per_hispanic_prev', u'us_per_white_latest',\n",
       "       u'us_per_black_latest', u'us_per_asian_latest',\n",
       "       u'us_per_hispanic_latest'],\n",
       "      dtype='object')"
      ]
     },
     "execution_count": 32,
     "metadata": {},
     "output_type": "execute_result"
    }
   ],
   "source": [
    "re_simp.columns[60:90]"
   ]
  },
  {
   "cell_type": "code",
   "execution_count": 33,
   "metadata": {
    "collapsed": false
   },
   "outputs": [
    {
     "data": {
      "text/plain": [
       "Index([u'per_white_latest', u'per_black_latest', u'per_asian_latest',\n",
       "       u'per_hispanic_latest', u'per_white_prev', u'per_black_prev',\n",
       "       u'per_asian_prev', u'per_hispanic_prev'],\n",
       "      dtype='object')"
      ]
     },
     "execution_count": 33,
     "metadata": {},
     "output_type": "execute_result"
    }
   ],
   "source": [
    "re_simp.columns[70:78]"
   ]
  },
  {
   "cell_type": "code",
   "execution_count": 34,
   "metadata": {
    "collapsed": false
   },
   "outputs": [
    {
     "data": {
      "text/plain": [
       "Index([u'us_per_white_prev', u'us_per_black_prev', u'us_per_asian_prev',\n",
       "       u'us_per_hispanic_prev', u'white_change', u'black_change',\n",
       "       u'asian_change', u'hispanic_change', u'nj_white_change',\n",
       "       u'nj_black_change', u'nj_asian_change', u'nj_hispanic_change',\n",
       "       u'us_white_change', u'us_black_change', u'us_asian_change',\n",
       "       u'us_hispanic_change'],\n",
       "      dtype='object')"
      ]
     },
     "execution_count": 34,
     "metadata": {},
     "output_type": "execute_result"
    }
   ],
   "source": [
    "re_simp.columns[90:120]"
   ]
  },
  {
   "cell_type": "code",
   "execution_count": 35,
   "metadata": {
    "collapsed": false
   },
   "outputs": [],
   "source": [
    "re_simp_simp = pd.concat([re_simp.iloc[0:,0:5], \n",
    "                          re_simp.iloc[0:,70:78], \n",
    "                          re_simp.iloc[0:,26:30], \n",
    "                         re_simp.iloc[0:,31:35], \n",
    "                          re_simp.iloc[0:,78:]], axis=1)"
   ]
  },
  {
   "cell_type": "code",
   "execution_count": 36,
   "metadata": {
    "collapsed": false
   },
   "outputs": [],
   "source": [
    "re_simp_simp.iloc[0:,5:] = re_simp_simp.multiply(100)"
   ]
  },
  {
   "cell_type": "code",
   "execution_count": 38,
   "metadata": {
    "collapsed": true
   },
   "outputs": [],
   "source": [
    "#  re_simp.to_csv('all_data_race_ethnicity_town_by_town.csv', index=False)"
   ]
  },
  {
   "cell_type": "code",
   "execution_count": 40,
   "metadata": {
    "collapsed": false
   },
   "outputs": [],
   "source": [
    "# re_simp_simp.to_csv('percent_race_ethnicity_town_by_town.csv', index=False)"
   ]
  }
 ],
 "metadata": {
  "kernelspec": {
   "display_name": "Python 2",
   "language": "python",
   "name": "python2"
  },
  "language_info": {
   "codemirror_mode": {
    "name": "ipython",
    "version": 2
   },
   "file_extension": ".py",
   "mimetype": "text/x-python",
   "name": "python",
   "nbconvert_exporter": "python",
   "pygments_lexer": "ipython2",
   "version": "2.7.12"
  }
 },
 "nbformat": 4,
 "nbformat_minor": 2
}
