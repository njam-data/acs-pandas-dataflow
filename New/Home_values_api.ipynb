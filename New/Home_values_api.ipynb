{
 "cells": [
  {
   "cell_type": "code",
   "execution_count": 17,
   "metadata": {
    "collapsed": true
   },
   "outputs": [],
   "source": [
    "#importing necessary libraries\n",
    "import pandas as pd\n",
    "import requests"
   ]
  },
  {
   "cell_type": "code",
   "execution_count": 18,
   "metadata": {
    "collapsed": true
   },
   "outputs": [],
   "source": [
    "#variables that will change each YEAR\n",
    "\n",
    "#monetary values only\n",
    "inflation_rate = .0676\n",
    "\n",
    "#years you need\n",
    "lastest_year = '2017/acs'\n",
    "oldest_year = '2012'\n",
    "\n",
    "#please change these as well\n",
    "years = ['2012', '2017']\n",
    "\n",
    "#ignore this\n",
    "top_geogs = ['us:1', 'state:34']"
   ]
  },
  {
   "cell_type": "code",
   "execution_count": 19,
   "metadata": {
    "collapsed": true
   },
   "outputs": [],
   "source": [
    "#variables that will change each DATASET\n",
    "\n",
    "#name of the variable you need and its margin of error (from https://api.census.gov/data/2017/acs/acs5/subject/variables.html)\n",
    "api_variable = 'B25077_001E'\n",
    "api_moe = 'B25077_001M'\n",
    "\n",
    "#give it a name so that the column names line up right. Lowercase plz\n",
    "api_name = 'home_value'"
   ]
  },
  {
   "cell_type": "code",
   "execution_count": 20,
   "metadata": {
    "collapsed": false
   },
   "outputs": [],
   "source": [
    "#this pulls the data you need for country and state columns\n",
    "def create_top_dfs():\n",
    "    my_data = {}\n",
    "    for n in years:\n",
    "        for d in top_geogs:\n",
    "            url = 'https://api.census.gov/data/'+ n +'/acs/acs5?get='+ api_variable + ',NAME&for=' + d +  '&key=37e80b2543b3d018cfbeb06c5dca27cf33e789e7'\n",
    "            r = requests.get(url)\n",
    "            x = r.json()\n",
    "            df = pd.DataFrame(x[1:],columns=x[0])\n",
    "            df = df.replace(to_replace=['-555555555.0','-555555555',], value='')\n",
    "            raw_result = pd.to_numeric(df[api_variable][0])\n",
    "            if n == '2012':\n",
    "                my_data[n + d] = raw_result * inflation_rate + raw_result\n",
    "            my_data[n + d] = raw_result\n",
    "    return my_data"
   ]
  },
  {
   "cell_type": "code",
   "execution_count": 21,
   "metadata": {
    "collapsed": false
   },
   "outputs": [],
   "source": [
    "top_df_dict = create_top_dfs()\n",
    "\n",
    "#set the absolute values you will use later on\n",
    "us_previous = top_df_dict['2012us:1']\n",
    "us_latest = top_df_dict['2017us:1']\n",
    "nj_previous = top_df_dict['2012state:34']\n",
    "nj_latest = top_df_dict['2017state:34']"
   ]
  },
  {
   "cell_type": "code",
   "execution_count": 22,
   "metadata": {
    "collapsed": false
   },
   "outputs": [],
   "source": [
    "#pulls the data for the years and geography level you specify\n",
    "def create_local_dfs(year, geography):\n",
    "    df_list = []\n",
    "    url = 'https://api.census.gov/data/'+ year +'/acs5?get=NAME,'+ api_variable +',' + api_moe + '&for=' + geography +  '&in=state:34&key=37e80b2543b3d018cfbeb06c5dca27cf33e789e7'\n",
    "    print url\n",
    "    r = requests.get(url)\n",
    "    x = r.json()\n",
    "    df = pd.DataFrame(x[1:], columns=x[0])\n",
    "    #some null values will return as large negative numbers\n",
    "    df = df.replace(to_replace=['-555555555.0','-555555555',], value='')\n",
    "    #all variables returned as strings at first\n",
    "    df[api_variable] = pd.to_numeric(df[api_variable], errors='coerce')\n",
    "    df[api_moe] = pd.to_numeric(df[api_moe], errors='coerce')\n",
    "    return df"
   ]
  },
  {
   "cell_type": "code",
   "execution_count": 23,
   "metadata": {
    "collapsed": false
   },
   "outputs": [],
   "source": [
    "#data cleaning function\n",
    "def clean_local_dfs(year, label):\n",
    "        muni = create_local_dfs(year, 'county%20subdivision:*')\n",
    "        cty = create_local_dfs(year, 'county:*')\n",
    "        #combines muni and county data\n",
    "        local_df = muni.append(cty).reset_index().drop(labels='index', axis=1)\n",
    "        local_df['county subdivision'] = local_df['county subdivision'].fillna('')\n",
    "        #create FIPS code, since it initially returns as separate columns\n",
    "        local_df['GEO.id2'] = local_df.state + local_df.county + local_df['county subdivision']\n",
    "        local_df = local_df[[api_variable, api_moe, u'NAME',\n",
    "                  u'GEO.id2']]\n",
    "        #create \"geography levels\" for separate muni, county columns\n",
    "        local_df['GEOLevel1'] = local_df['NAME'].str.split(', ', expand=True)[0]\n",
    "        local_df['GEOLevel2'] = local_df['NAME'].str.split(', ', expand=True)[1]\n",
    "        #calculate margin of errors's percent of value\n",
    "        local_df['moe_pct'] = (local_df[api_moe] / local_df[api_variable]) * 100\n",
    "        #rename from api variable to nice topic name\n",
    "        local_df = local_df.rename(columns={api_variable: api_name, api_moe: api_name + '_moe', 'NAME':'GEOdisplaylabel'})\n",
    "        local_df['GEOdisplaylabel'] = local_df['GEOdisplaylabel'].replace(to_replace=', New Jersey', value='', regex=True)\n",
    "        if label == 'prev':\n",
    "            local_df[api_name + '_prev_winf'] = local_df[api_name] * inflation_rate + local_df[api_name]\n",
    "        return local_df"
   ]
  },
  {
   "cell_type": "code",
   "execution_count": 24,
   "metadata": {
    "collapsed": false,
    "scrolled": true
   },
   "outputs": [
    {
     "name": "stdout",
     "output_type": "stream",
     "text": [
      "https://api.census.gov/data/2017/acs/acs5?get=NAME,B25077_001E,B25077_001M&for=county%20subdivision:*&in=state:34&key=37e80b2543b3d018cfbeb06c5dca27cf33e789e7\n",
      "https://api.census.gov/data/2017/acs/acs5?get=NAME,B25077_001E,B25077_001M&for=county:*&in=state:34&key=37e80b2543b3d018cfbeb06c5dca27cf33e789e7\n",
      "https://api.census.gov/data/2012/acs5?get=NAME,B25077_001E,B25077_001M&for=county%20subdivision:*&in=state:34&key=37e80b2543b3d018cfbeb06c5dca27cf33e789e7\n",
      "https://api.census.gov/data/2012/acs5?get=NAME,B25077_001E,B25077_001M&for=county:*&in=state:34&key=37e80b2543b3d018cfbeb06c5dca27cf33e789e7\n"
     ]
    }
   ],
   "source": [
    "var_latest = clean_local_dfs(lastest_year, 'latest')\n",
    "var_prev = clean_local_dfs(oldest_year, 'prev')"
   ]
  },
  {
   "cell_type": "code",
   "execution_count": 25,
   "metadata": {
    "collapsed": false
   },
   "outputs": [],
   "source": [
    "#Merge \n",
    "var_merge = pd.merge(var_latest, var_prev, left_on='GEO.id2', right_on='GEO.id2', how='outer', suffixes=('_latest', '_prev'))"
   ]
  },
  {
   "cell_type": "code",
   "execution_count": 26,
   "metadata": {
    "collapsed": false
   },
   "outputs": [],
   "source": [
    "#drop unneccessary columns and rename ones that need it\n",
    "var_merge = var_merge.drop(['GEOdisplaylabel_prev', 'GEOLevel1_latest', 'GEOLevel2_latest'], axis=1)\n",
    "var_merge.rename(columns={'GEOdisplaylabel_latest': 'GEOdisplaylabel', 'GEOLevel1_prev': 'GEOLevel1','GEOLevel2_prev':'GEOLevel2', 'GEO.id_latest': 'GEO.id', 'GEOdisplaylabel_long_x': 'GEOdisplaylabel_long'}, inplace=True)"
   ]
  },
  {
   "cell_type": "code",
   "execution_count": 27,
   "metadata": {
    "collapsed": false
   },
   "outputs": [],
   "source": [
    "#Take out County subdivisions not defined\n",
    "var_merge = var_merge[var_merge['GEOdisplaylabel'].str.contains(\"County subdivisions not defined\") == False]\n",
    "var_merge = var_merge.sort_values(by=['GEO.id2'])"
   ]
  },
  {
   "cell_type": "code",
   "execution_count": 28,
   "metadata": {
    "collapsed": false
   },
   "outputs": [],
   "source": [
    "#Add NJ and Nationwide\n",
    "var_merge['nj_' + api_name+'_latest'] = nj_latest\n",
    "var_merge['nj_' + api_name+'_prev'] = nj_previous\n",
    "var_merge['usa_' + api_name+'_latest'] = us_latest\n",
    "var_merge['usa_' + api_name+'_prev'] = us_previous\n",
    "var_merge[api_name+'_per_change'] = ((var_merge[api_name+'_latest'] - var_merge[api_name+'_prev']) / var_merge[api_name+'_prev']) * 100\n",
    "var_merge['nj_' + api_name+'_change'] = ((var_merge['nj_' + api_name+'_latest'] - var_merge['nj_' + api_name+'_prev']) / var_merge['nj_' + api_name+'_prev']) * 100\n",
    "var_merge['us_' + api_name+'_change'] = ((var_merge['usa_' + api_name+'_latest'] - var_merge['usa_' + api_name+'_prev']) / var_merge['usa_' + api_name+'_prev']) * 100"
   ]
  },
  {
   "cell_type": "code",
   "execution_count": 29,
   "metadata": {
    "collapsed": false
   },
   "outputs": [
    {
     "data": {
      "text/plain": [
       "Index([u'home_value_latest', u'home_value_moe_latest', u'GEOdisplaylabel',\n",
       "       u'GEO.id2', u'moe_pct_latest', u'home_value_prev',\n",
       "       u'home_value_moe_prev', u'GEOLevel1', u'GEOLevel2', u'moe_pct_prev',\n",
       "       u'home_value_prev_winf', u'nj_home_value_latest', u'nj_home_value_prev',\n",
       "       u'usa_home_value_latest', u'usa_home_value_prev',\n",
       "       u'home_value_per_change', u'nj_home_value_change',\n",
       "       u'us_home_value_change'],\n",
       "      dtype='object')"
      ]
     },
     "execution_count": 29,
     "metadata": {},
     "output_type": "execute_result"
    }
   ],
   "source": [
    "var_merge.columns"
   ]
  },
  {
   "cell_type": "code",
   "execution_count": 30,
   "metadata": {
    "collapsed": false
   },
   "outputs": [],
   "source": [
    "# re-ordering columns the way I want them\n",
    "\n",
    "var_merge = var_merge[[ u'GEOdisplaylabel', u'GEO.id2',\n",
    "        u'GEOLevel1', u'GEOLevel2',api_name + '_latest', api_name + '_moe_latest', \n",
    "        'moe_pct_latest',\n",
    "        api_name + '_prev', api_name + '_moe_prev', 'moe_pct_prev', 'home_value_prev_winf',\n",
    "       u'nj_' + api_name+'_latest', u'nj_' + api_name+'_prev',\n",
    "       u'usa_' + api_name+'_latest', u'usa_' + api_name+'_prev',\n",
    "       api_name + '_per_change', u'nj_' + api_name+'_change',\n",
    "       u'us_' + api_name+'_change']]"
   ]
  },
  {
   "cell_type": "code",
   "execution_count": 31,
   "metadata": {
    "collapsed": false
   },
   "outputs": [
    {
     "data": {
      "text/html": [
       "<div>\n",
       "<table border=\"1\" class=\"dataframe\">\n",
       "  <thead>\n",
       "    <tr style=\"text-align: right;\">\n",
       "      <th></th>\n",
       "      <th>GEOdisplaylabel</th>\n",
       "      <th>GEO.id2</th>\n",
       "      <th>GEOLevel1</th>\n",
       "      <th>GEOLevel2</th>\n",
       "      <th>home_value_latest</th>\n",
       "      <th>home_value_moe_latest</th>\n",
       "      <th>moe_pct_latest</th>\n",
       "      <th>home_value_prev</th>\n",
       "      <th>home_value_moe_prev</th>\n",
       "      <th>moe_pct_prev</th>\n",
       "      <th>home_value_prev_winf</th>\n",
       "      <th>nj_home_value_latest</th>\n",
       "      <th>nj_home_value_prev</th>\n",
       "      <th>usa_home_value_latest</th>\n",
       "      <th>usa_home_value_prev</th>\n",
       "      <th>home_value_per_change</th>\n",
       "      <th>nj_home_value_change</th>\n",
       "      <th>us_home_value_change</th>\n",
       "    </tr>\n",
       "  </thead>\n",
       "  <tbody>\n",
       "    <tr>\n",
       "      <th>577</th>\n",
       "      <td>Atlantic County</td>\n",
       "      <td>34001</td>\n",
       "      <td>Atlantic County</td>\n",
       "      <td>New Jersey</td>\n",
       "      <td>219000.0</td>\n",
       "      <td>2698.0</td>\n",
       "      <td>1.231963</td>\n",
       "      <td>248100.0</td>\n",
       "      <td>3154.0</td>\n",
       "      <td>1.271262</td>\n",
       "      <td>264871.56</td>\n",
       "      <td>321100</td>\n",
       "      <td>337900</td>\n",
       "      <td>193500</td>\n",
       "      <td>181400</td>\n",
       "      <td>-11.729141</td>\n",
       "      <td>-4.971885</td>\n",
       "      <td>6.670342</td>\n",
       "    </tr>\n",
       "    <tr>\n",
       "      <th>98</th>\n",
       "      <td>Absecon city, Atlantic County</td>\n",
       "      <td>3400100100</td>\n",
       "      <td>Absecon city</td>\n",
       "      <td>Atlantic County</td>\n",
       "      <td>196100.0</td>\n",
       "      <td>9883.0</td>\n",
       "      <td>5.039776</td>\n",
       "      <td>246600.0</td>\n",
       "      <td>14572.0</td>\n",
       "      <td>5.909165</td>\n",
       "      <td>263270.16</td>\n",
       "      <td>321100</td>\n",
       "      <td>337900</td>\n",
       "      <td>193500</td>\n",
       "      <td>181400</td>\n",
       "      <td>-20.478508</td>\n",
       "      <td>-4.971885</td>\n",
       "      <td>6.670342</td>\n",
       "    </tr>\n",
       "    <tr>\n",
       "      <th>121</th>\n",
       "      <td>Atlantic City city, Atlantic County</td>\n",
       "      <td>3400102080</td>\n",
       "      <td>Atlantic City city</td>\n",
       "      <td>Atlantic County</td>\n",
       "      <td>168800.0</td>\n",
       "      <td>7371.0</td>\n",
       "      <td>4.366706</td>\n",
       "      <td>220400.0</td>\n",
       "      <td>9245.0</td>\n",
       "      <td>4.194646</td>\n",
       "      <td>235299.04</td>\n",
       "      <td>321100</td>\n",
       "      <td>337900</td>\n",
       "      <td>193500</td>\n",
       "      <td>181400</td>\n",
       "      <td>-23.411978</td>\n",
       "      <td>-4.971885</td>\n",
       "      <td>6.670342</td>\n",
       "    </tr>\n",
       "    <tr>\n",
       "      <th>109</th>\n",
       "      <td>Brigantine city, Atlantic County</td>\n",
       "      <td>3400107810</td>\n",
       "      <td>Brigantine city</td>\n",
       "      <td>Atlantic County</td>\n",
       "      <td>348900.0</td>\n",
       "      <td>14425.0</td>\n",
       "      <td>4.134422</td>\n",
       "      <td>417700.0</td>\n",
       "      <td>22658.0</td>\n",
       "      <td>5.424467</td>\n",
       "      <td>445936.52</td>\n",
       "      <td>321100</td>\n",
       "      <td>337900</td>\n",
       "      <td>193500</td>\n",
       "      <td>181400</td>\n",
       "      <td>-16.471152</td>\n",
       "      <td>-4.971885</td>\n",
       "      <td>6.670342</td>\n",
       "    </tr>\n",
       "    <tr>\n",
       "      <th>112</th>\n",
       "      <td>Buena borough, Atlantic County</td>\n",
       "      <td>3400108680</td>\n",
       "      <td>Buena borough</td>\n",
       "      <td>Atlantic County</td>\n",
       "      <td>182900.0</td>\n",
       "      <td>12682.0</td>\n",
       "      <td>6.933844</td>\n",
       "      <td>195900.0</td>\n",
       "      <td>12373.0</td>\n",
       "      <td>6.315978</td>\n",
       "      <td>209142.84</td>\n",
       "      <td>321100</td>\n",
       "      <td>337900</td>\n",
       "      <td>193500</td>\n",
       "      <td>181400</td>\n",
       "      <td>-6.636039</td>\n",
       "      <td>-4.971885</td>\n",
       "      <td>6.670342</td>\n",
       "    </tr>\n",
       "  </tbody>\n",
       "</table>\n",
       "</div>"
      ],
      "text/plain": [
       "                         GEOdisplaylabel     GEO.id2           GEOLevel1  \\\n",
       "577                      Atlantic County       34001     Atlantic County   \n",
       "98         Absecon city, Atlantic County  3400100100        Absecon city   \n",
       "121  Atlantic City city, Atlantic County  3400102080  Atlantic City city   \n",
       "109     Brigantine city, Atlantic County  3400107810     Brigantine city   \n",
       "112       Buena borough, Atlantic County  3400108680       Buena borough   \n",
       "\n",
       "           GEOLevel2  home_value_latest  home_value_moe_latest  \\\n",
       "577       New Jersey           219000.0                 2698.0   \n",
       "98   Atlantic County           196100.0                 9883.0   \n",
       "121  Atlantic County           168800.0                 7371.0   \n",
       "109  Atlantic County           348900.0                14425.0   \n",
       "112  Atlantic County           182900.0                12682.0   \n",
       "\n",
       "     moe_pct_latest  home_value_prev  home_value_moe_prev  moe_pct_prev  \\\n",
       "577        1.231963         248100.0               3154.0      1.271262   \n",
       "98         5.039776         246600.0              14572.0      5.909165   \n",
       "121        4.366706         220400.0               9245.0      4.194646   \n",
       "109        4.134422         417700.0              22658.0      5.424467   \n",
       "112        6.933844         195900.0              12373.0      6.315978   \n",
       "\n",
       "     home_value_prev_winf  nj_home_value_latest  nj_home_value_prev  \\\n",
       "577             264871.56                321100              337900   \n",
       "98              263270.16                321100              337900   \n",
       "121             235299.04                321100              337900   \n",
       "109             445936.52                321100              337900   \n",
       "112             209142.84                321100              337900   \n",
       "\n",
       "     usa_home_value_latest  usa_home_value_prev  home_value_per_change  \\\n",
       "577                 193500               181400             -11.729141   \n",
       "98                  193500               181400             -20.478508   \n",
       "121                 193500               181400             -23.411978   \n",
       "109                 193500               181400             -16.471152   \n",
       "112                 193500               181400              -6.636039   \n",
       "\n",
       "     nj_home_value_change  us_home_value_change  \n",
       "577             -4.971885              6.670342  \n",
       "98              -4.971885              6.670342  \n",
       "121             -4.971885              6.670342  \n",
       "109             -4.971885              6.670342  \n",
       "112             -4.971885              6.670342  "
      ]
     },
     "execution_count": 31,
     "metadata": {},
     "output_type": "execute_result"
    }
   ],
   "source": [
    "var_merge.head()"
   ]
  },
  {
   "cell_type": "code",
   "execution_count": 33,
   "metadata": {
    "collapsed": false
   },
   "outputs": [],
   "source": [
    "# var_merge.to_csv('median_home_value_data_towns_clean.csv', header=True, index=False)"
   ]
  },
  {
   "cell_type": "code",
   "execution_count": null,
   "metadata": {
    "collapsed": true
   },
   "outputs": [],
   "source": []
  }
 ],
 "metadata": {
  "kernelspec": {
   "display_name": "Python 2",
   "language": "python",
   "name": "python2"
  },
  "language_info": {
   "codemirror_mode": {
    "name": "ipython",
    "version": 2
   },
   "file_extension": ".py",
   "mimetype": "text/x-python",
   "name": "python",
   "nbconvert_exporter": "python",
   "pygments_lexer": "ipython2",
   "version": "2.7.12"
  }
 },
 "nbformat": 4,
 "nbformat_minor": 0
}
