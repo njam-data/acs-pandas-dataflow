{
 "cells": [
  {
   "cell_type": "code",
   "execution_count": 43,
   "metadata": {
    "collapsed": true
   },
   "outputs": [],
   "source": [
    "import pandas as pd\n",
    "import requests"
   ]
  },
  {
   "cell_type": "code",
   "execution_count": 44,
   "metadata": {
    "collapsed": true
   },
   "outputs": [],
   "source": [
    "inflation_rate = .067\n",
    "\n",
    "lastest_year = '2017/acs'\n",
    "\n",
    "oldest_year = '2012'"
   ]
  },
  {
   "cell_type": "code",
   "execution_count": 45,
   "metadata": {
    "collapsed": true
   },
   "outputs": [],
   "source": [
    "years = ['2012', '2017']\n",
    "top_geogs = ['us:1', 'state:34']"
   ]
  },
  {
   "cell_type": "code",
   "execution_count": 46,
   "metadata": {
    "collapsed": false
   },
   "outputs": [],
   "source": [
    "def create_top_dfs():\n",
    "    my_data = {}\n",
    "    for n in years:\n",
    "        for d in top_geogs:\n",
    "            url = 'https://api.census.gov/data/'+ n +'/acs/acs5?get=B00001_001E,NAME&for=' + d +  '&key=37e80b2543b3d018cfbeb06c5dca27cf33e789e7'\n",
    "            r = requests.get(url)\n",
    "            x = r.json()\n",
    "            df = pd.DataFrame(x[1:],columns=x[0])\n",
    "            raw_result = pd.to_numeric(df['B00001_001E'][0])\n",
    "            my_data[n + d] = raw_result\n",
    "    return my_data"
   ]
  },
  {
   "cell_type": "code",
   "execution_count": 47,
   "metadata": {
    "collapsed": false
   },
   "outputs": [],
   "source": [
    "top_df_dict = create_top_dfs()"
   ]
  },
  {
   "cell_type": "code",
   "execution_count": 48,
   "metadata": {
    "collapsed": false
   },
   "outputs": [],
   "source": [
    "us_previous = top_df_dict['2012us:1']\n",
    "us_latest = top_df_dict['2017us:1']\n",
    "nj_previous = top_df_dict['2012state:34']\n",
    "nj_latest = top_df_dict['2017state:34']"
   ]
  },
  {
   "cell_type": "code",
   "execution_count": 49,
   "metadata": {
    "collapsed": false
   },
   "outputs": [],
   "source": [
    "def create_local_dfs(year, geography):\n",
    "    df_list = []\n",
    "    url = 'https://api.census.gov/data/'+ year +'/acs5?get=NAME,B00001_001E&for=' + geography +  '&in=state:34&key=37e80b2543b3d018cfbeb06c5dca27cf33e789e7'\n",
    "    print url\n",
    "    r = requests.get(url)\n",
    "    x = r.json()\n",
    "    df = pd.DataFrame(x[1:], columns=x[0])\n",
    "    df['B00001_001E'] = df.B00001_001E.replace(to_replace=\"\\+\", value='', regex=True)\n",
    "    df['B00001_001E'] = pd.to_numeric(df.B00001_001E, errors='coerce')\n",
    "    return df"
   ]
  },
  {
   "cell_type": "code",
   "execution_count": 50,
   "metadata": {
    "collapsed": false
   },
   "outputs": [],
   "source": [
    "def clean_local_dfs(year, label):\n",
    "#     for n in years:\n",
    "        muni = create_local_dfs(year, 'county%20subdivision:*')\n",
    "        cty = create_local_dfs(year, 'county:*')\n",
    "        median_income = muni.append(cty).reset_index().drop(labels='index', axis=1)\n",
    "        median_income['county subdivision'] = median_income['county subdivision'].fillna('')\n",
    "        median_income['GEO.id2'] = median_income.state + median_income.county + median_income['county subdivision']\n",
    "        median_income = median_income[[u'B00001_001E', u'NAME',\n",
    "                  u'GEO.id2']]\n",
    "        median_income['GEOLevel1'] = median_income['NAME'].str.split(', ', expand=True)[0]\n",
    "        median_income['GEOLevel2'] = median_income['NAME'].str.split(', ', expand=True)[1]\n",
    "        median_income.columns = ['Population_'+ label, 'GEOdisplaylabel', 'GEO.id2','GEOLevel1', 'GEOLevel2']\n",
    "        median_income['GEOdisplaylabel'] = median_income['GEOdisplaylabel'].replace(to_replace=', New Jersey', value='', regex=True)\n",
    "        return median_income"
   ]
  },
  {
   "cell_type": "code",
   "execution_count": 51,
   "metadata": {
    "collapsed": false,
    "scrolled": true
   },
   "outputs": [
    {
     "name": "stdout",
     "output_type": "stream",
     "text": [
      "https://api.census.gov/data/2017/acs/acs5?get=NAME,B00001_001E&for=county%20subdivision:*&in=state:34&key=37e80b2543b3d018cfbeb06c5dca27cf33e789e7\n",
      "https://api.census.gov/data/2017/acs/acs5?get=NAME,B00001_001E&for=county:*&in=state:34&key=37e80b2543b3d018cfbeb06c5dca27cf33e789e7\n"
     ]
    }
   ],
   "source": [
    "pop_latest = clean_local_dfs(lastest_year, 'latest')"
   ]
  },
  {
   "cell_type": "code",
   "execution_count": 52,
   "metadata": {
    "collapsed": false
   },
   "outputs": [
    {
     "name": "stdout",
     "output_type": "stream",
     "text": [
      "https://api.census.gov/data/2012/acs5?get=NAME,B00001_001E&for=county%20subdivision:*&in=state:34&key=37e80b2543b3d018cfbeb06c5dca27cf33e789e7\n",
      "https://api.census.gov/data/2012/acs5?get=NAME,B00001_001E&for=county:*&in=state:34&key=37e80b2543b3d018cfbeb06c5dca27cf33e789e7\n"
     ]
    }
   ],
   "source": [
    "pop_prev = clean_local_dfs(oldest_year, 'prev')"
   ]
  },
  {
   "cell_type": "code",
   "execution_count": 53,
   "metadata": {
    "collapsed": false
   },
   "outputs": [],
   "source": [
    "#Merge Household Income\n",
    "pop_merge = pd.merge(pop_latest, pop_prev, left_on='GEO.id2', right_on='GEO.id2', how='outer')"
   ]
  },
  {
   "cell_type": "code",
   "execution_count": 54,
   "metadata": {
    "collapsed": false
   },
   "outputs": [
    {
     "data": {
      "text/html": [
       "<div>\n",
       "<table border=\"1\" class=\"dataframe\">\n",
       "  <thead>\n",
       "    <tr style=\"text-align: right;\">\n",
       "      <th></th>\n",
       "      <th>Population_latest</th>\n",
       "      <th>GEOdisplaylabel_x</th>\n",
       "      <th>GEO.id2</th>\n",
       "      <th>GEOLevel1_x</th>\n",
       "      <th>GEOLevel2_x</th>\n",
       "      <th>Population_prev</th>\n",
       "      <th>GEOdisplaylabel_y</th>\n",
       "      <th>GEOLevel1_y</th>\n",
       "      <th>GEOLevel2_y</th>\n",
       "    </tr>\n",
       "  </thead>\n",
       "  <tbody>\n",
       "    <tr>\n",
       "      <th>0</th>\n",
       "      <td>1830.0</td>\n",
       "      <td>West Windsor township, Mercer County</td>\n",
       "      <td>3402180240</td>\n",
       "      <td>West Windsor township</td>\n",
       "      <td>Mercer County</td>\n",
       "      <td>2011.0</td>\n",
       "      <td>West Windsor township, Mercer County</td>\n",
       "      <td>West Windsor township</td>\n",
       "      <td>Mercer County</td>\n",
       "    </tr>\n",
       "    <tr>\n",
       "      <th>1</th>\n",
       "      <td>1442.0</td>\n",
       "      <td>East Windsor township, Mercer County</td>\n",
       "      <td>3402119780</td>\n",
       "      <td>East Windsor township</td>\n",
       "      <td>Mercer County</td>\n",
       "      <td>1588.0</td>\n",
       "      <td>East Windsor township, Mercer County</td>\n",
       "      <td>East Windsor township</td>\n",
       "      <td>Mercer County</td>\n",
       "    </tr>\n",
       "    <tr>\n",
       "      <th>2</th>\n",
       "      <td>526.0</td>\n",
       "      <td>Hopewell borough, Mercer County</td>\n",
       "      <td>3402133150</td>\n",
       "      <td>Hopewell borough</td>\n",
       "      <td>Mercer County</td>\n",
       "      <td>554.0</td>\n",
       "      <td>Hopewell borough, Mercer County</td>\n",
       "      <td>Hopewell borough</td>\n",
       "      <td>Mercer County</td>\n",
       "    </tr>\n",
       "    <tr>\n",
       "      <th>3</th>\n",
       "      <td>253.0</td>\n",
       "      <td>Hightstown borough, Mercer County</td>\n",
       "      <td>3402131620</td>\n",
       "      <td>Hightstown borough</td>\n",
       "      <td>Mercer County</td>\n",
       "      <td>332.0</td>\n",
       "      <td>Hightstown borough, Mercer County</td>\n",
       "      <td>Hightstown borough</td>\n",
       "      <td>Mercer County</td>\n",
       "    </tr>\n",
       "    <tr>\n",
       "      <th>4</th>\n",
       "      <td>1255.0</td>\n",
       "      <td>Hopewell township, Mercer County</td>\n",
       "      <td>3402133180</td>\n",
       "      <td>Hopewell township</td>\n",
       "      <td>Mercer County</td>\n",
       "      <td>1190.0</td>\n",
       "      <td>Hopewell township, Mercer County</td>\n",
       "      <td>Hopewell township</td>\n",
       "      <td>Mercer County</td>\n",
       "    </tr>\n",
       "  </tbody>\n",
       "</table>\n",
       "</div>"
      ],
      "text/plain": [
       "   Population_latest                     GEOdisplaylabel_x     GEO.id2  \\\n",
       "0             1830.0  West Windsor township, Mercer County  3402180240   \n",
       "1             1442.0  East Windsor township, Mercer County  3402119780   \n",
       "2              526.0       Hopewell borough, Mercer County  3402133150   \n",
       "3              253.0     Hightstown borough, Mercer County  3402131620   \n",
       "4             1255.0      Hopewell township, Mercer County  3402133180   \n",
       "\n",
       "             GEOLevel1_x    GEOLevel2_x  Population_prev  \\\n",
       "0  West Windsor township  Mercer County           2011.0   \n",
       "1  East Windsor township  Mercer County           1588.0   \n",
       "2       Hopewell borough  Mercer County            554.0   \n",
       "3     Hightstown borough  Mercer County            332.0   \n",
       "4      Hopewell township  Mercer County           1190.0   \n",
       "\n",
       "                      GEOdisplaylabel_y            GEOLevel1_y    GEOLevel2_y  \n",
       "0  West Windsor township, Mercer County  West Windsor township  Mercer County  \n",
       "1  East Windsor township, Mercer County  East Windsor township  Mercer County  \n",
       "2       Hopewell borough, Mercer County       Hopewell borough  Mercer County  \n",
       "3     Hightstown borough, Mercer County     Hightstown borough  Mercer County  \n",
       "4      Hopewell township, Mercer County      Hopewell township  Mercer County  "
      ]
     },
     "execution_count": 54,
     "metadata": {},
     "output_type": "execute_result"
    }
   ],
   "source": [
    "pop_merge.head()"
   ]
  },
  {
   "cell_type": "code",
   "execution_count": 55,
   "metadata": {
    "collapsed": false
   },
   "outputs": [],
   "source": [
    "pop_merge = pop_merge.drop(['GEOdisplaylabel_y', 'GEOLevel1_x', 'GEOLevel2_x'], axis=1)\n",
    "pop_merge.rename(columns={'GEOdisplaylabel_x': 'GEOdisplaylabel', 'GEOLevel1_y': 'GEOLevel1','GEOLevel2_y':'GEOLevel2', 'GEO.id_x': 'GEO.id', 'GEOdisplaylabel_long_x': 'GEOdisplaylabel_long'}, inplace=True)"
   ]
  },
  {
   "cell_type": "code",
   "execution_count": 56,
   "metadata": {
    "collapsed": true
   },
   "outputs": [],
   "source": [
    "#Take out County subdivisions not defined\n",
    "pop_merge = pop_merge[pop_merge['GEOdisplaylabel'].str.contains(\"County subdivisions not defined\") == False]\n",
    "pop_merge = pop_merge.sort_values(by=['GEO.id2'])"
   ]
  },
  {
   "cell_type": "code",
   "execution_count": 57,
   "metadata": {
    "collapsed": false
   },
   "outputs": [
    {
     "data": {
      "text/html": [
       "<div>\n",
       "<table border=\"1\" class=\"dataframe\">\n",
       "  <thead>\n",
       "    <tr style=\"text-align: right;\">\n",
       "      <th></th>\n",
       "      <th>Population_latest</th>\n",
       "      <th>GEOdisplaylabel</th>\n",
       "      <th>GEO.id2</th>\n",
       "      <th>Population_prev</th>\n",
       "      <th>GEOLevel1</th>\n",
       "      <th>GEOLevel2</th>\n",
       "    </tr>\n",
       "  </thead>\n",
       "  <tbody>\n",
       "    <tr>\n",
       "      <th>577</th>\n",
       "      <td>21206.0</td>\n",
       "      <td>Atlantic County</td>\n",
       "      <td>34001</td>\n",
       "      <td>20700.0</td>\n",
       "      <td>Atlantic County</td>\n",
       "      <td>New Jersey</td>\n",
       "    </tr>\n",
       "    <tr>\n",
       "      <th>98</th>\n",
       "      <td>626.0</td>\n",
       "      <td>Absecon city, Atlantic County</td>\n",
       "      <td>3400100100</td>\n",
       "      <td>634.0</td>\n",
       "      <td>Absecon city</td>\n",
       "      <td>Atlantic County</td>\n",
       "    </tr>\n",
       "    <tr>\n",
       "      <th>121</th>\n",
       "      <td>3090.0</td>\n",
       "      <td>Atlantic City city, Atlantic County</td>\n",
       "      <td>3400102080</td>\n",
       "      <td>2730.0</td>\n",
       "      <td>Atlantic City city</td>\n",
       "      <td>Atlantic County</td>\n",
       "    </tr>\n",
       "    <tr>\n",
       "      <th>109</th>\n",
       "      <td>887.0</td>\n",
       "      <td>Brigantine city, Atlantic County</td>\n",
       "      <td>3400107810</td>\n",
       "      <td>746.0</td>\n",
       "      <td>Brigantine city</td>\n",
       "      <td>Atlantic County</td>\n",
       "    </tr>\n",
       "    <tr>\n",
       "      <th>112</th>\n",
       "      <td>348.0</td>\n",
       "      <td>Buena borough, Atlantic County</td>\n",
       "      <td>3400108680</td>\n",
       "      <td>324.0</td>\n",
       "      <td>Buena borough</td>\n",
       "      <td>Atlantic County</td>\n",
       "    </tr>\n",
       "  </tbody>\n",
       "</table>\n",
       "</div>"
      ],
      "text/plain": [
       "     Population_latest                      GEOdisplaylabel     GEO.id2  \\\n",
       "577            21206.0                      Atlantic County       34001   \n",
       "98               626.0        Absecon city, Atlantic County  3400100100   \n",
       "121             3090.0  Atlantic City city, Atlantic County  3400102080   \n",
       "109              887.0     Brigantine city, Atlantic County  3400107810   \n",
       "112              348.0       Buena borough, Atlantic County  3400108680   \n",
       "\n",
       "     Population_prev           GEOLevel1        GEOLevel2  \n",
       "577          20700.0     Atlantic County       New Jersey  \n",
       "98             634.0        Absecon city  Atlantic County  \n",
       "121           2730.0  Atlantic City city  Atlantic County  \n",
       "109            746.0     Brigantine city  Atlantic County  \n",
       "112            324.0       Buena borough  Atlantic County  "
      ]
     },
     "execution_count": 57,
     "metadata": {},
     "output_type": "execute_result"
    }
   ],
   "source": [
    "pop_merge.head()"
   ]
  },
  {
   "cell_type": "code",
   "execution_count": 58,
   "metadata": {
    "collapsed": false
   },
   "outputs": [],
   "source": [
    "#Add NJ and Nationwide\n",
    "pop_merge['nj_pop_latest'] = nj_latest\n",
    "pop_merge['nj_pop_prev'] = nj_previous\n",
    "pop_merge['usa_pop_latest'] = us_latest\n",
    "pop_merge['usa_pop_prev'] = us_previous\n",
    "pop_merge['pop_per_change'] = ((pop_merge['Population_latest'] - pop_merge['Population_prev']) / pop_merge['Population_prev']) * 100\n",
    "pop_merge['nj_pop_change'] = ((pop_merge['nj_pop_latest'] - pop_merge['nj_pop_prev']) / pop_merge['nj_pop_prev']) * 100\n",
    "pop_merge['us_pop_change'] = ((pop_merge['usa_pop_latest'] - pop_merge['usa_pop_prev']) / pop_merge['usa_pop_prev']) * 100\n"
   ]
  },
  {
   "cell_type": "code",
   "execution_count": 60,
   "metadata": {
    "collapsed": false
   },
   "outputs": [],
   "source": [
    "pop_merge = pop_merge[[ u'GEOdisplaylabel', u'GEO.id2',\n",
    "        u'GEOLevel1', u'GEOLevel2',u'Population_latest', \n",
    "         u'Population_prev',\n",
    "       u'nj_pop_latest', u'nj_pop_prev',\n",
    "       u'usa_pop_latest', u'usa_pop_prev',\n",
    "       u'pop_per_change', u'nj_pop_change',\n",
    "       u'us_pop_change']]"
   ]
  },
  {
   "cell_type": "code",
   "execution_count": 61,
   "metadata": {
    "collapsed": false
   },
   "outputs": [
    {
     "data": {
      "text/html": [
       "<div>\n",
       "<table border=\"1\" class=\"dataframe\">\n",
       "  <thead>\n",
       "    <tr style=\"text-align: right;\">\n",
       "      <th></th>\n",
       "      <th>GEOdisplaylabel</th>\n",
       "      <th>GEO.id2</th>\n",
       "      <th>GEOLevel1</th>\n",
       "      <th>GEOLevel2</th>\n",
       "      <th>Population_latest</th>\n",
       "      <th>Population_prev</th>\n",
       "      <th>nj_pop_latest</th>\n",
       "      <th>nj_pop_prev</th>\n",
       "      <th>usa_pop_latest</th>\n",
       "      <th>usa_pop_prev</th>\n",
       "      <th>pop_per_change</th>\n",
       "      <th>nj_pop_change</th>\n",
       "      <th>us_pop_change</th>\n",
       "    </tr>\n",
       "  </thead>\n",
       "  <tbody>\n",
       "    <tr>\n",
       "      <th>577</th>\n",
       "      <td>Atlantic County</td>\n",
       "      <td>34001</td>\n",
       "      <td>Atlantic County</td>\n",
       "      <td>New Jersey</td>\n",
       "      <td>21206.0</td>\n",
       "      <td>20700.0</td>\n",
       "      <td>681807</td>\n",
       "      <td>655989</td>\n",
       "      <td>26328166</td>\n",
       "      <td>24458387</td>\n",
       "      <td>2.444444</td>\n",
       "      <td>3.935737</td>\n",
       "      <td>7.644736</td>\n",
       "    </tr>\n",
       "    <tr>\n",
       "      <th>98</th>\n",
       "      <td>Absecon city, Atlantic County</td>\n",
       "      <td>3400100100</td>\n",
       "      <td>Absecon city</td>\n",
       "      <td>Atlantic County</td>\n",
       "      <td>626.0</td>\n",
       "      <td>634.0</td>\n",
       "      <td>681807</td>\n",
       "      <td>655989</td>\n",
       "      <td>26328166</td>\n",
       "      <td>24458387</td>\n",
       "      <td>-1.261830</td>\n",
       "      <td>3.935737</td>\n",
       "      <td>7.644736</td>\n",
       "    </tr>\n",
       "    <tr>\n",
       "      <th>121</th>\n",
       "      <td>Atlantic City city, Atlantic County</td>\n",
       "      <td>3400102080</td>\n",
       "      <td>Atlantic City city</td>\n",
       "      <td>Atlantic County</td>\n",
       "      <td>3090.0</td>\n",
       "      <td>2730.0</td>\n",
       "      <td>681807</td>\n",
       "      <td>655989</td>\n",
       "      <td>26328166</td>\n",
       "      <td>24458387</td>\n",
       "      <td>13.186813</td>\n",
       "      <td>3.935737</td>\n",
       "      <td>7.644736</td>\n",
       "    </tr>\n",
       "    <tr>\n",
       "      <th>109</th>\n",
       "      <td>Brigantine city, Atlantic County</td>\n",
       "      <td>3400107810</td>\n",
       "      <td>Brigantine city</td>\n",
       "      <td>Atlantic County</td>\n",
       "      <td>887.0</td>\n",
       "      <td>746.0</td>\n",
       "      <td>681807</td>\n",
       "      <td>655989</td>\n",
       "      <td>26328166</td>\n",
       "      <td>24458387</td>\n",
       "      <td>18.900804</td>\n",
       "      <td>3.935737</td>\n",
       "      <td>7.644736</td>\n",
       "    </tr>\n",
       "    <tr>\n",
       "      <th>112</th>\n",
       "      <td>Buena borough, Atlantic County</td>\n",
       "      <td>3400108680</td>\n",
       "      <td>Buena borough</td>\n",
       "      <td>Atlantic County</td>\n",
       "      <td>348.0</td>\n",
       "      <td>324.0</td>\n",
       "      <td>681807</td>\n",
       "      <td>655989</td>\n",
       "      <td>26328166</td>\n",
       "      <td>24458387</td>\n",
       "      <td>7.407407</td>\n",
       "      <td>3.935737</td>\n",
       "      <td>7.644736</td>\n",
       "    </tr>\n",
       "  </tbody>\n",
       "</table>\n",
       "</div>"
      ],
      "text/plain": [
       "                         GEOdisplaylabel     GEO.id2           GEOLevel1  \\\n",
       "577                      Atlantic County       34001     Atlantic County   \n",
       "98         Absecon city, Atlantic County  3400100100        Absecon city   \n",
       "121  Atlantic City city, Atlantic County  3400102080  Atlantic City city   \n",
       "109     Brigantine city, Atlantic County  3400107810     Brigantine city   \n",
       "112       Buena borough, Atlantic County  3400108680       Buena borough   \n",
       "\n",
       "           GEOLevel2  Population_latest  Population_prev  nj_pop_latest  \\\n",
       "577       New Jersey            21206.0          20700.0         681807   \n",
       "98   Atlantic County              626.0            634.0         681807   \n",
       "121  Atlantic County             3090.0           2730.0         681807   \n",
       "109  Atlantic County              887.0            746.0         681807   \n",
       "112  Atlantic County              348.0            324.0         681807   \n",
       "\n",
       "     nj_pop_prev  usa_pop_latest  usa_pop_prev  pop_per_change  nj_pop_change  \\\n",
       "577       655989        26328166      24458387        2.444444       3.935737   \n",
       "98        655989        26328166      24458387       -1.261830       3.935737   \n",
       "121       655989        26328166      24458387       13.186813       3.935737   \n",
       "109       655989        26328166      24458387       18.900804       3.935737   \n",
       "112       655989        26328166      24458387        7.407407       3.935737   \n",
       "\n",
       "     us_pop_change  \n",
       "577       7.644736  \n",
       "98        7.644736  \n",
       "121       7.644736  \n",
       "109       7.644736  \n",
       "112       7.644736  "
      ]
     },
     "execution_count": 61,
     "metadata": {},
     "output_type": "execute_result"
    }
   ],
   "source": [
    "pop_merge.head()"
   ]
  },
  {
   "cell_type": "code",
   "execution_count": 62,
   "metadata": {
    "collapsed": false
   },
   "outputs": [],
   "source": [
    "# pop_merge.to_csv('pop_data_towns_clean.csv', header=True, index=False)"
   ]
  },
  {
   "cell_type": "code",
   "execution_count": null,
   "metadata": {
    "collapsed": true
   },
   "outputs": [],
   "source": []
  }
 ],
 "metadata": {
  "kernelspec": {
   "display_name": "Python 2",
   "language": "python",
   "name": "python2"
  },
  "language_info": {
   "codemirror_mode": {
    "name": "ipython",
    "version": 2
   },
   "file_extension": ".py",
   "mimetype": "text/x-python",
   "name": "python",
   "nbconvert_exporter": "python",
   "pygments_lexer": "ipython2",
   "version": "2.7.12"
  }
 },
 "nbformat": 4,
 "nbformat_minor": 0
}
