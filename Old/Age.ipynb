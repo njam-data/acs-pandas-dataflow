{
 "cells": [
  {
   "cell_type": "code",
   "execution_count": 1,
   "metadata": {
    "collapsed": true
   },
   "outputs": [],
   "source": [
    "import pandas as pd"
   ]
  },
  {
   "cell_type": "code",
   "execution_count": 16,
   "metadata": {
    "collapsed": false
   },
   "outputs": [],
   "source": [
    "us11 = pd.read_csv('11_national.csv')\n",
    "us_previous = pd.to_numeric(us11[1:]['HD01_VD02'][1])\n",
    "us16 = pd.read_csv('16_national.csv')\n",
    "us_latest = pd.to_numeric(us16[1:]['HD01_VD02'][1]) \n",
    "nj11 = pd.read_csv('11_state.csv')\n",
    "nj_previous =pd.to_numeric(nj11[1:]['HD01_VD02'][1])\n",
    "nj16 = pd.read_csv('16_state.csv')\n",
    "nj_latest = pd.to_numeric(nj16[1:]['HD01_VD02'][1]) "
   ]
  },
  {
   "cell_type": "code",
   "execution_count": 18,
   "metadata": {
    "collapsed": false
   },
   "outputs": [
    {
     "data": {
      "text/plain": [
       "39.5"
      ]
     },
     "execution_count": 18,
     "metadata": {},
     "output_type": "execute_result"
    }
   ],
   "source": [
    "nj_latest"
   ]
  },
  {
   "cell_type": "code",
   "execution_count": 41,
   "metadata": {
    "collapsed": false
   },
   "outputs": [],
   "source": [
    "muni16 = pd.read_csv('16_muni.csv', \n",
    "                     na_values=['-', '**', '***'], \n",
    "                     usecols = [ 'GEO.id', 'GEO.id2','GEOdisplaylabel_long', \n",
    "                           'median_age_latest','median_age_latest_moe' ],\n",
    "                     header=None,\n",
    "                     skiprows=2,\n",
    "                    names=[ 'GEO.id', 'GEO.id2','GEOdisplaylabel_long', \n",
    "                           'median_age_latest','median_age_latest_moe' ])\n",
    "cty16 = pd.read_csv('16_county.csv',\n",
    "                    na_values=['-', '**','***'],\n",
    "                   usecols = [ 'GEO.id', 'GEO.id2','GEOdisplaylabel_long', \n",
    "                           'median_age_latest','median_age_latest_moe' ],\n",
    "                    header=None,\n",
    "                    skiprows=2,\n",
    "                   names=[ 'GEO.id', 'GEO.id2','GEOdisplaylabel_long', \n",
    "                           'median_age_latest','median_age_latest_moe' ])\n",
    "\n",
    "age16 = muni16.append(cty16).reset_index().drop(labels='index', axis=1)"
   ]
  },
  {
   "cell_type": "code",
   "execution_count": 46,
   "metadata": {
    "collapsed": false
   },
   "outputs": [],
   "source": [
    "muni11 = pd.read_csv('11_muni.csv', \n",
    "                     na_values=['-', '**', '***'], \n",
    "                     usecols = [ 'GEO.id', 'GEO.id2','GEOdisplaylabel_long', \n",
    "                           'median_age_prev','median_age_prev_moe' ],\n",
    "                     header=None,\n",
    "                     skiprows=2,\n",
    "                    names=[ 'GEO.id', 'GEO.id2','GEOdisplaylabel_long', \n",
    "                           'median_age_prev','median_age_prev_moe' ])\n",
    "cty11 = pd.read_csv('11_county.csv',\n",
    "                    na_values=['-', '**','***'],\n",
    "                   usecols = [ 'GEO.id', 'GEO.id2','GEOdisplaylabel_long', \n",
    "                           'median_age_prev','median_age_prev_moe' ],\n",
    "                    header=None,\n",
    "                    skiprows=2,\n",
    "                   names=[ 'GEO.id', 'GEO.id2','GEOdisplaylabel_long', \n",
    "                           'median_age_prev','median_age_prev_moe' ])\n",
    "\n",
    "age11 = muni11.append(cty11).reset_index().drop(labels='index', axis=1)"
   ]
  },
  {
   "cell_type": "code",
   "execution_count": 51,
   "metadata": {
    "collapsed": false
   },
   "outputs": [],
   "source": [
    "age16['GEOdisplaylabel_long'] = age16['GEOdisplaylabel_long'].replace(to_replace=', New Jersey', value='', regex=True)\n",
    "age11['GEOdisplaylabel_long'] = age11['GEOdisplaylabel_long'].replace(to_replace=', New Jersey', value='', regex=True)\n"
   ]
  },
  {
   "cell_type": "code",
   "execution_count": 54,
   "metadata": {
    "collapsed": false
   },
   "outputs": [],
   "source": [
    "age_cols = pd.DataFrame(age16.GEOdisplaylabel_long.str.split(',',1).tolist(), columns = ['GEOdisplaylabel', 'County'])"
   ]
  },
  {
   "cell_type": "code",
   "execution_count": 62,
   "metadata": {
    "collapsed": false
   },
   "outputs": [
    {
     "data": {
      "text/html": [
       "<div>\n",
       "<table border=\"1\" class=\"dataframe\">\n",
       "  <thead>\n",
       "    <tr style=\"text-align: right;\">\n",
       "      <th></th>\n",
       "      <th>GEO.id</th>\n",
       "      <th>GEO.id2</th>\n",
       "      <th>GEOdisplaylabel_long</th>\n",
       "      <th>median_age_latest</th>\n",
       "      <th>median_age_latest_moe</th>\n",
       "      <th>GEOdisplaylabel</th>\n",
       "      <th>County</th>\n",
       "    </tr>\n",
       "  </thead>\n",
       "  <tbody>\n",
       "    <tr>\n",
       "      <th>0</th>\n",
       "      <td>0600000US3400100000</td>\n",
       "      <td>3400100000</td>\n",
       "      <td>County subdivisions not defined, Atlantic County</td>\n",
       "      <td>NaN</td>\n",
       "      <td>NaN</td>\n",
       "      <td>County subdivisions not defined</td>\n",
       "      <td>Atlantic</td>\n",
       "    </tr>\n",
       "    <tr>\n",
       "      <th>1</th>\n",
       "      <td>0600000US3400100100</td>\n",
       "      <td>3400100100</td>\n",
       "      <td>Absecon city, Atlantic County</td>\n",
       "      <td>46.0</td>\n",
       "      <td>1.7</td>\n",
       "      <td>Absecon city</td>\n",
       "      <td>Atlantic</td>\n",
       "    </tr>\n",
       "    <tr>\n",
       "      <th>2</th>\n",
       "      <td>0600000US3400102080</td>\n",
       "      <td>3400102080</td>\n",
       "      <td>Atlantic City city, Atlantic County</td>\n",
       "      <td>35.7</td>\n",
       "      <td>1.3</td>\n",
       "      <td>Atlantic City city</td>\n",
       "      <td>Atlantic</td>\n",
       "    </tr>\n",
       "    <tr>\n",
       "      <th>3</th>\n",
       "      <td>0600000US3400107810</td>\n",
       "      <td>3400107810</td>\n",
       "      <td>Brigantine city, Atlantic County</td>\n",
       "      <td>53.5</td>\n",
       "      <td>2.6</td>\n",
       "      <td>Brigantine city</td>\n",
       "      <td>Atlantic</td>\n",
       "    </tr>\n",
       "    <tr>\n",
       "      <th>4</th>\n",
       "      <td>0600000US3400108680</td>\n",
       "      <td>3400108680</td>\n",
       "      <td>Buena borough, Atlantic County</td>\n",
       "      <td>41.8</td>\n",
       "      <td>2.1</td>\n",
       "      <td>Buena borough</td>\n",
       "      <td>Atlantic</td>\n",
       "    </tr>\n",
       "  </tbody>\n",
       "</table>\n",
       "</div>"
      ],
      "text/plain": [
       "                GEO.id     GEO.id2  \\\n",
       "0  0600000US3400100000  3400100000   \n",
       "1  0600000US3400100100  3400100100   \n",
       "2  0600000US3400102080  3400102080   \n",
       "3  0600000US3400107810  3400107810   \n",
       "4  0600000US3400108680  3400108680   \n",
       "\n",
       "                               GEOdisplaylabel_long  median_age_latest  \\\n",
       "0  County subdivisions not defined, Atlantic County                NaN   \n",
       "1                     Absecon city, Atlantic County               46.0   \n",
       "2               Atlantic City city, Atlantic County               35.7   \n",
       "3                  Brigantine city, Atlantic County               53.5   \n",
       "4                    Buena borough, Atlantic County               41.8   \n",
       "\n",
       "   median_age_latest_moe                  GEOdisplaylabel      County  \n",
       "0                    NaN  County subdivisions not defined   Atlantic   \n",
       "1                    1.7                     Absecon city   Atlantic   \n",
       "2                    1.3               Atlantic City city   Atlantic   \n",
       "3                    2.6                  Brigantine city   Atlantic   \n",
       "4                    2.1                    Buena borough   Atlantic   "
      ]
     },
     "execution_count": 62,
     "metadata": {},
     "output_type": "execute_result"
    }
   ],
   "source": [
    "age16 = pd.concat([age16, age_cols ], axis=1)\n",
    "age16['County'] = age16['County'].replace(to_replace='County', value='', regex=True)\n",
    "age16.head()"
   ]
  },
  {
   "cell_type": "code",
   "execution_count": 63,
   "metadata": {
    "collapsed": true
   },
   "outputs": [],
   "source": [
    "age = pd.merge(age16, age11, on='GEO.id2', how='left')"
   ]
  },
  {
   "cell_type": "code",
   "execution_count": 65,
   "metadata": {
    "collapsed": false
   },
   "outputs": [
    {
     "data": {
      "text/plain": [
       "Index([u'GEO.id_x', u'GEO.id2', u'GEOdisplaylabel_long_x',\n",
       "       u'median_age_latest', u'median_age_latest_moe', u'GEOdisplaylabel',\n",
       "       u'County', u'GEO.id_y', u'GEOdisplaylabel_long_y', u'median_age_prev',\n",
       "       u'median_age_prev_moe'],\n",
       "      dtype='object')"
      ]
     },
     "execution_count": 65,
     "metadata": {},
     "output_type": "execute_result"
    }
   ],
   "source": [
    "age.columns"
   ]
  },
  {
   "cell_type": "code",
   "execution_count": 68,
   "metadata": {
    "collapsed": false
   },
   "outputs": [],
   "source": [
    "age_simp = age[[u'GEO.id_x', u'GEO.id2', u'GEOdisplaylabel', u'GEOdisplaylabel_long_x',u'County',\n",
    "       u'median_age_latest', u'median_age_latest_moe', \n",
    "        u'median_age_prev',\n",
    "       u'median_age_prev_moe']].rename(columns={'GEO.id_x':'GEO.id', \n",
    "                                                'GEOdisplaylabel_long_x':'GEOdisplaylabel_long'})"
   ]
  },
  {
   "cell_type": "code",
   "execution_count": 71,
   "metadata": {
    "collapsed": false
   },
   "outputs": [],
   "source": [
    "age_simp = age_simp[age_simp['GEOdisplaylabel'] != 'County subdivisions not defined']"
   ]
  },
  {
   "cell_type": "code",
   "execution_count": 72,
   "metadata": {
    "collapsed": false
   },
   "outputs": [
    {
     "data": {
      "text/html": [
       "<div>\n",
       "<table border=\"1\" class=\"dataframe\">\n",
       "  <thead>\n",
       "    <tr style=\"text-align: right;\">\n",
       "      <th></th>\n",
       "      <th>GEO.id</th>\n",
       "      <th>GEO.id2</th>\n",
       "      <th>GEOdisplaylabel</th>\n",
       "      <th>GEOdisplaylabel_long</th>\n",
       "      <th>County</th>\n",
       "      <th>median_age_latest</th>\n",
       "      <th>median_age_latest_moe</th>\n",
       "      <th>median_age_prev</th>\n",
       "      <th>median_age_prev_moe</th>\n",
       "    </tr>\n",
       "  </thead>\n",
       "  <tbody>\n",
       "    <tr>\n",
       "      <th>1</th>\n",
       "      <td>0600000US3400100100</td>\n",
       "      <td>3400100100</td>\n",
       "      <td>Absecon city</td>\n",
       "      <td>Absecon city, Atlantic County</td>\n",
       "      <td>Atlantic</td>\n",
       "      <td>46.0</td>\n",
       "      <td>1.7</td>\n",
       "      <td>45.7</td>\n",
       "      <td>1.4</td>\n",
       "    </tr>\n",
       "    <tr>\n",
       "      <th>2</th>\n",
       "      <td>0600000US3400102080</td>\n",
       "      <td>3400102080</td>\n",
       "      <td>Atlantic City city</td>\n",
       "      <td>Atlantic City city, Atlantic County</td>\n",
       "      <td>Atlantic</td>\n",
       "      <td>35.7</td>\n",
       "      <td>1.3</td>\n",
       "      <td>35.7</td>\n",
       "      <td>1.2</td>\n",
       "    </tr>\n",
       "    <tr>\n",
       "      <th>3</th>\n",
       "      <td>0600000US3400107810</td>\n",
       "      <td>3400107810</td>\n",
       "      <td>Brigantine city</td>\n",
       "      <td>Brigantine city, Atlantic County</td>\n",
       "      <td>Atlantic</td>\n",
       "      <td>53.5</td>\n",
       "      <td>2.6</td>\n",
       "      <td>48.4</td>\n",
       "      <td>2.8</td>\n",
       "    </tr>\n",
       "    <tr>\n",
       "      <th>4</th>\n",
       "      <td>0600000US3400108680</td>\n",
       "      <td>3400108680</td>\n",
       "      <td>Buena borough</td>\n",
       "      <td>Buena borough, Atlantic County</td>\n",
       "      <td>Atlantic</td>\n",
       "      <td>41.8</td>\n",
       "      <td>2.1</td>\n",
       "      <td>35.1</td>\n",
       "      <td>4.0</td>\n",
       "    </tr>\n",
       "    <tr>\n",
       "      <th>5</th>\n",
       "      <td>0600000US3400108710</td>\n",
       "      <td>3400108710</td>\n",
       "      <td>Buena Vista township</td>\n",
       "      <td>Buena Vista township, Atlantic County</td>\n",
       "      <td>Atlantic</td>\n",
       "      <td>38.9</td>\n",
       "      <td>3.9</td>\n",
       "      <td>45.1</td>\n",
       "      <td>2.5</td>\n",
       "    </tr>\n",
       "  </tbody>\n",
       "</table>\n",
       "</div>"
      ],
      "text/plain": [
       "                GEO.id     GEO.id2       GEOdisplaylabel  \\\n",
       "1  0600000US3400100100  3400100100          Absecon city   \n",
       "2  0600000US3400102080  3400102080    Atlantic City city   \n",
       "3  0600000US3400107810  3400107810       Brigantine city   \n",
       "4  0600000US3400108680  3400108680         Buena borough   \n",
       "5  0600000US3400108710  3400108710  Buena Vista township   \n",
       "\n",
       "                    GEOdisplaylabel_long      County  median_age_latest  \\\n",
       "1          Absecon city, Atlantic County   Atlantic                46.0   \n",
       "2    Atlantic City city, Atlantic County   Atlantic                35.7   \n",
       "3       Brigantine city, Atlantic County   Atlantic                53.5   \n",
       "4         Buena borough, Atlantic County   Atlantic                41.8   \n",
       "5  Buena Vista township, Atlantic County   Atlantic                38.9   \n",
       "\n",
       "   median_age_latest_moe  median_age_prev  median_age_prev_moe  \n",
       "1                    1.7             45.7                  1.4  \n",
       "2                    1.3             35.7                  1.2  \n",
       "3                    2.6             48.4                  2.8  \n",
       "4                    2.1             35.1                  4.0  \n",
       "5                    3.9             45.1                  2.5  "
      ]
     },
     "execution_count": 72,
     "metadata": {},
     "output_type": "execute_result"
    }
   ],
   "source": [
    "age_simp.head()"
   ]
  },
  {
   "cell_type": "code",
   "execution_count": 73,
   "metadata": {
    "collapsed": false
   },
   "outputs": [
    {
     "name": "stdout",
     "output_type": "stream",
     "text": [
      "<class 'pandas.core.frame.DataFrame'>\n",
      "Int64Index: 586 entries, 1 to 590\n",
      "Data columns (total 9 columns):\n",
      "GEO.id                   586 non-null object\n",
      "GEO.id2                  586 non-null int64\n",
      "GEOdisplaylabel          586 non-null object\n",
      "GEOdisplaylabel_long     586 non-null object\n",
      "County                   565 non-null object\n",
      "median_age_latest        586 non-null float64\n",
      "median_age_latest_moe    586 non-null float64\n",
      "median_age_prev          586 non-null float64\n",
      "median_age_prev_moe      586 non-null float64\n",
      "dtypes: float64(4), int64(1), object(4)\n",
      "memory usage: 45.8+ KB\n"
     ]
    }
   ],
   "source": [
    "age_simp.info()"
   ]
  },
  {
   "cell_type": "code",
   "execution_count": 75,
   "metadata": {
    "collapsed": false
   },
   "outputs": [],
   "source": [
    "age_simp['age_moe_latest_per'] = (age_simp['median_age_latest_moe']/age_simp['median_age_latest'])*100 \n",
    "age_simp['age_moe_prev_per'] = (age_simp['median_age_prev_moe']/age_simp['median_age_prev'])*100 "
   ]
  },
  {
   "cell_type": "code",
   "execution_count": 76,
   "metadata": {
    "collapsed": false
   },
   "outputs": [
    {
     "data": {
      "text/html": [
       "<div>\n",
       "<table border=\"1\" class=\"dataframe\">\n",
       "  <thead>\n",
       "    <tr style=\"text-align: right;\">\n",
       "      <th></th>\n",
       "      <th>GEO.id</th>\n",
       "      <th>GEO.id2</th>\n",
       "      <th>GEOdisplaylabel</th>\n",
       "      <th>GEOdisplaylabel_long</th>\n",
       "      <th>County</th>\n",
       "      <th>median_age_latest</th>\n",
       "      <th>median_age_latest_moe</th>\n",
       "      <th>median_age_prev</th>\n",
       "      <th>median_age_prev_moe</th>\n",
       "      <th>age_moe_latest_per</th>\n",
       "      <th>age_moe_prev_per</th>\n",
       "    </tr>\n",
       "  </thead>\n",
       "  <tbody>\n",
       "    <tr>\n",
       "      <th>1</th>\n",
       "      <td>0600000US3400100100</td>\n",
       "      <td>3400100100</td>\n",
       "      <td>Absecon city</td>\n",
       "      <td>Absecon city, Atlantic County</td>\n",
       "      <td>Atlantic</td>\n",
       "      <td>46.0</td>\n",
       "      <td>1.7</td>\n",
       "      <td>45.7</td>\n",
       "      <td>1.4</td>\n",
       "      <td>3.695652</td>\n",
       "      <td>3.063457</td>\n",
       "    </tr>\n",
       "    <tr>\n",
       "      <th>2</th>\n",
       "      <td>0600000US3400102080</td>\n",
       "      <td>3400102080</td>\n",
       "      <td>Atlantic City city</td>\n",
       "      <td>Atlantic City city, Atlantic County</td>\n",
       "      <td>Atlantic</td>\n",
       "      <td>35.7</td>\n",
       "      <td>1.3</td>\n",
       "      <td>35.7</td>\n",
       "      <td>1.2</td>\n",
       "      <td>3.641457</td>\n",
       "      <td>3.361345</td>\n",
       "    </tr>\n",
       "    <tr>\n",
       "      <th>3</th>\n",
       "      <td>0600000US3400107810</td>\n",
       "      <td>3400107810</td>\n",
       "      <td>Brigantine city</td>\n",
       "      <td>Brigantine city, Atlantic County</td>\n",
       "      <td>Atlantic</td>\n",
       "      <td>53.5</td>\n",
       "      <td>2.6</td>\n",
       "      <td>48.4</td>\n",
       "      <td>2.8</td>\n",
       "      <td>4.859813</td>\n",
       "      <td>5.785124</td>\n",
       "    </tr>\n",
       "    <tr>\n",
       "      <th>4</th>\n",
       "      <td>0600000US3400108680</td>\n",
       "      <td>3400108680</td>\n",
       "      <td>Buena borough</td>\n",
       "      <td>Buena borough, Atlantic County</td>\n",
       "      <td>Atlantic</td>\n",
       "      <td>41.8</td>\n",
       "      <td>2.1</td>\n",
       "      <td>35.1</td>\n",
       "      <td>4.0</td>\n",
       "      <td>5.023923</td>\n",
       "      <td>11.396011</td>\n",
       "    </tr>\n",
       "    <tr>\n",
       "      <th>5</th>\n",
       "      <td>0600000US3400108710</td>\n",
       "      <td>3400108710</td>\n",
       "      <td>Buena Vista township</td>\n",
       "      <td>Buena Vista township, Atlantic County</td>\n",
       "      <td>Atlantic</td>\n",
       "      <td>38.9</td>\n",
       "      <td>3.9</td>\n",
       "      <td>45.1</td>\n",
       "      <td>2.5</td>\n",
       "      <td>10.025707</td>\n",
       "      <td>5.543237</td>\n",
       "    </tr>\n",
       "  </tbody>\n",
       "</table>\n",
       "</div>"
      ],
      "text/plain": [
       "                GEO.id     GEO.id2       GEOdisplaylabel  \\\n",
       "1  0600000US3400100100  3400100100          Absecon city   \n",
       "2  0600000US3400102080  3400102080    Atlantic City city   \n",
       "3  0600000US3400107810  3400107810       Brigantine city   \n",
       "4  0600000US3400108680  3400108680         Buena borough   \n",
       "5  0600000US3400108710  3400108710  Buena Vista township   \n",
       "\n",
       "                    GEOdisplaylabel_long      County  median_age_latest  \\\n",
       "1          Absecon city, Atlantic County   Atlantic                46.0   \n",
       "2    Atlantic City city, Atlantic County   Atlantic                35.7   \n",
       "3       Brigantine city, Atlantic County   Atlantic                53.5   \n",
       "4         Buena borough, Atlantic County   Atlantic                41.8   \n",
       "5  Buena Vista township, Atlantic County   Atlantic                38.9   \n",
       "\n",
       "   median_age_latest_moe  median_age_prev  median_age_prev_moe  \\\n",
       "1                    1.7             45.7                  1.4   \n",
       "2                    1.3             35.7                  1.2   \n",
       "3                    2.6             48.4                  2.8   \n",
       "4                    2.1             35.1                  4.0   \n",
       "5                    3.9             45.1                  2.5   \n",
       "\n",
       "   age_moe_latest_per  age_moe_prev_per  \n",
       "1            3.695652          3.063457  \n",
       "2            3.641457          3.361345  \n",
       "3            4.859813          5.785124  \n",
       "4            5.023923         11.396011  \n",
       "5           10.025707          5.543237  "
      ]
     },
     "execution_count": 76,
     "metadata": {},
     "output_type": "execute_result"
    }
   ],
   "source": [
    "age_simp.head()"
   ]
  },
  {
   "cell_type": "code",
   "execution_count": 77,
   "metadata": {
    "collapsed": true
   },
   "outputs": [],
   "source": [
    "#Add NJ and Nationwide\n",
    "age_simp['nj_median_age_latest'] = nj_latest\n",
    "age_simp['nj_median_age_prev'] = nj_previous\n",
    "age_simp['usa_median_age_latest'] = us_latest\n",
    "age_simp['usa_median_age_prev'] = us_previous\n",
    "age_simp['median_age_per_change'] = ((age_simp['median_age_latest'] - age_simp['median_age_prev']) / age_simp['median_age_prev']) * 100\n",
    "age_simp['nj_median_age_change'] = ((age_simp['nj_median_age_latest'] - age_simp['nj_median_age_prev']) / age_simp['nj_median_age_prev']) * 100\n",
    "age_simp['us_median_age_change'] = ((age_simp['usa_median_age_latest'] - age_simp['usa_median_age_prev']) / age_simp['usa_median_age_prev']) * 100"
   ]
  },
  {
   "cell_type": "code",
   "execution_count": 78,
   "metadata": {
    "collapsed": false
   },
   "outputs": [
    {
     "data": {
      "text/html": [
       "<div>\n",
       "<table border=\"1\" class=\"dataframe\">\n",
       "  <thead>\n",
       "    <tr style=\"text-align: right;\">\n",
       "      <th></th>\n",
       "      <th>GEO.id</th>\n",
       "      <th>GEO.id2</th>\n",
       "      <th>GEOdisplaylabel</th>\n",
       "      <th>GEOdisplaylabel_long</th>\n",
       "      <th>County</th>\n",
       "      <th>median_age_latest</th>\n",
       "      <th>median_age_latest_moe</th>\n",
       "      <th>median_age_prev</th>\n",
       "      <th>median_age_prev_moe</th>\n",
       "      <th>age_moe_latest_per</th>\n",
       "      <th>age_moe_prev_per</th>\n",
       "      <th>nj_median_age_latest</th>\n",
       "      <th>nj_median_age_prev</th>\n",
       "      <th>usa_median_age_latest</th>\n",
       "      <th>usa_median_age_prev</th>\n",
       "      <th>median_age_per_change</th>\n",
       "      <th>nj_median_age_change</th>\n",
       "      <th>us_median_age_change</th>\n",
       "    </tr>\n",
       "  </thead>\n",
       "  <tbody>\n",
       "    <tr>\n",
       "      <th>1</th>\n",
       "      <td>0600000US3400100100</td>\n",
       "      <td>3400100100</td>\n",
       "      <td>Absecon city</td>\n",
       "      <td>Absecon city, Atlantic County</td>\n",
       "      <td>Atlantic</td>\n",
       "      <td>46.0</td>\n",
       "      <td>1.7</td>\n",
       "      <td>45.7</td>\n",
       "      <td>1.4</td>\n",
       "      <td>3.695652</td>\n",
       "      <td>3.063457</td>\n",
       "      <td>39.5</td>\n",
       "      <td>38.7</td>\n",
       "      <td>37.7</td>\n",
       "      <td>37.0</td>\n",
       "      <td>0.656455</td>\n",
       "      <td>2.067183</td>\n",
       "      <td>1.891892</td>\n",
       "    </tr>\n",
       "    <tr>\n",
       "      <th>2</th>\n",
       "      <td>0600000US3400102080</td>\n",
       "      <td>3400102080</td>\n",
       "      <td>Atlantic City city</td>\n",
       "      <td>Atlantic City city, Atlantic County</td>\n",
       "      <td>Atlantic</td>\n",
       "      <td>35.7</td>\n",
       "      <td>1.3</td>\n",
       "      <td>35.7</td>\n",
       "      <td>1.2</td>\n",
       "      <td>3.641457</td>\n",
       "      <td>3.361345</td>\n",
       "      <td>39.5</td>\n",
       "      <td>38.7</td>\n",
       "      <td>37.7</td>\n",
       "      <td>37.0</td>\n",
       "      <td>0.000000</td>\n",
       "      <td>2.067183</td>\n",
       "      <td>1.891892</td>\n",
       "    </tr>\n",
       "    <tr>\n",
       "      <th>3</th>\n",
       "      <td>0600000US3400107810</td>\n",
       "      <td>3400107810</td>\n",
       "      <td>Brigantine city</td>\n",
       "      <td>Brigantine city, Atlantic County</td>\n",
       "      <td>Atlantic</td>\n",
       "      <td>53.5</td>\n",
       "      <td>2.6</td>\n",
       "      <td>48.4</td>\n",
       "      <td>2.8</td>\n",
       "      <td>4.859813</td>\n",
       "      <td>5.785124</td>\n",
       "      <td>39.5</td>\n",
       "      <td>38.7</td>\n",
       "      <td>37.7</td>\n",
       "      <td>37.0</td>\n",
       "      <td>10.537190</td>\n",
       "      <td>2.067183</td>\n",
       "      <td>1.891892</td>\n",
       "    </tr>\n",
       "    <tr>\n",
       "      <th>4</th>\n",
       "      <td>0600000US3400108680</td>\n",
       "      <td>3400108680</td>\n",
       "      <td>Buena borough</td>\n",
       "      <td>Buena borough, Atlantic County</td>\n",
       "      <td>Atlantic</td>\n",
       "      <td>41.8</td>\n",
       "      <td>2.1</td>\n",
       "      <td>35.1</td>\n",
       "      <td>4.0</td>\n",
       "      <td>5.023923</td>\n",
       "      <td>11.396011</td>\n",
       "      <td>39.5</td>\n",
       "      <td>38.7</td>\n",
       "      <td>37.7</td>\n",
       "      <td>37.0</td>\n",
       "      <td>19.088319</td>\n",
       "      <td>2.067183</td>\n",
       "      <td>1.891892</td>\n",
       "    </tr>\n",
       "    <tr>\n",
       "      <th>5</th>\n",
       "      <td>0600000US3400108710</td>\n",
       "      <td>3400108710</td>\n",
       "      <td>Buena Vista township</td>\n",
       "      <td>Buena Vista township, Atlantic County</td>\n",
       "      <td>Atlantic</td>\n",
       "      <td>38.9</td>\n",
       "      <td>3.9</td>\n",
       "      <td>45.1</td>\n",
       "      <td>2.5</td>\n",
       "      <td>10.025707</td>\n",
       "      <td>5.543237</td>\n",
       "      <td>39.5</td>\n",
       "      <td>38.7</td>\n",
       "      <td>37.7</td>\n",
       "      <td>37.0</td>\n",
       "      <td>-13.747228</td>\n",
       "      <td>2.067183</td>\n",
       "      <td>1.891892</td>\n",
       "    </tr>\n",
       "  </tbody>\n",
       "</table>\n",
       "</div>"
      ],
      "text/plain": [
       "                GEO.id     GEO.id2       GEOdisplaylabel  \\\n",
       "1  0600000US3400100100  3400100100          Absecon city   \n",
       "2  0600000US3400102080  3400102080    Atlantic City city   \n",
       "3  0600000US3400107810  3400107810       Brigantine city   \n",
       "4  0600000US3400108680  3400108680         Buena borough   \n",
       "5  0600000US3400108710  3400108710  Buena Vista township   \n",
       "\n",
       "                    GEOdisplaylabel_long      County  median_age_latest  \\\n",
       "1          Absecon city, Atlantic County   Atlantic                46.0   \n",
       "2    Atlantic City city, Atlantic County   Atlantic                35.7   \n",
       "3       Brigantine city, Atlantic County   Atlantic                53.5   \n",
       "4         Buena borough, Atlantic County   Atlantic                41.8   \n",
       "5  Buena Vista township, Atlantic County   Atlantic                38.9   \n",
       "\n",
       "   median_age_latest_moe  median_age_prev  median_age_prev_moe  \\\n",
       "1                    1.7             45.7                  1.4   \n",
       "2                    1.3             35.7                  1.2   \n",
       "3                    2.6             48.4                  2.8   \n",
       "4                    2.1             35.1                  4.0   \n",
       "5                    3.9             45.1                  2.5   \n",
       "\n",
       "   age_moe_latest_per  age_moe_prev_per  nj_median_age_latest  \\\n",
       "1            3.695652          3.063457                  39.5   \n",
       "2            3.641457          3.361345                  39.5   \n",
       "3            4.859813          5.785124                  39.5   \n",
       "4            5.023923         11.396011                  39.5   \n",
       "5           10.025707          5.543237                  39.5   \n",
       "\n",
       "   nj_median_age_prev  usa_median_age_latest  usa_median_age_prev  \\\n",
       "1                38.7                   37.7                 37.0   \n",
       "2                38.7                   37.7                 37.0   \n",
       "3                38.7                   37.7                 37.0   \n",
       "4                38.7                   37.7                 37.0   \n",
       "5                38.7                   37.7                 37.0   \n",
       "\n",
       "   median_age_per_change  nj_median_age_change  us_median_age_change  \n",
       "1               0.656455              2.067183              1.891892  \n",
       "2               0.000000              2.067183              1.891892  \n",
       "3              10.537190              2.067183              1.891892  \n",
       "4              19.088319              2.067183              1.891892  \n",
       "5             -13.747228              2.067183              1.891892  "
      ]
     },
     "execution_count": 78,
     "metadata": {},
     "output_type": "execute_result"
    }
   ],
   "source": [
    "age_simp.head()"
   ]
  },
  {
   "cell_type": "code",
   "execution_count": 79,
   "metadata": {
    "collapsed": true
   },
   "outputs": [],
   "source": [
    "age_simp.to_csv('town_by_town_median_age.csv')"
   ]
  }
 ],
 "metadata": {
  "kernelspec": {
   "display_name": "Python 2",
   "language": "python",
   "name": "python2"
  },
  "language_info": {
   "codemirror_mode": {
    "name": "ipython",
    "version": 2
   },
   "file_extension": ".py",
   "mimetype": "text/x-python",
   "name": "python",
   "nbconvert_exporter": "python",
   "pygments_lexer": "ipython2",
   "version": "2.7.12"
  }
 },
 "nbformat": 4,
 "nbformat_minor": 2
}
