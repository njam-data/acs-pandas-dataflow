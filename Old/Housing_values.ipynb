{
 "cells": [
  {
   "cell_type": "code",
   "execution_count": 168,
   "metadata": {
    "collapsed": true
   },
   "outputs": [],
   "source": [
    "import pandas as pd"
   ]
  },
  {
   "cell_type": "code",
   "execution_count": 169,
   "metadata": {
    "collapsed": false
   },
   "outputs": [],
   "source": [
    "latestmuni = pd.read_csv(\"2015medianmuni/ACS_15_5YR_B25077_with_ann.csv\")\n",
    "prevmuni = pd.read_csv(\"09medianbytown/ACS_09_5YR_B25077_with_ann.csv\")\n",
    "prevcounty=pd.read_csv(\"09counties/ACS_09_5YR_B25077_with_ann.csv\")\n",
    "latestcounty=pd.read_csv(\"2015mediancounties/ACS_15_5YR_B25077_with_ann.csv\")"
   ]
  },
  {
   "cell_type": "code",
   "execution_count": 170,
   "metadata": {
    "collapsed": false
   },
   "outputs": [],
   "source": [
    "# Drop added row\n",
    "latestmuni = latestmuni[latestmuni['GEO.id'] != 'Id']\n",
    "prevmuni = prevmuni[prevmuni['GEO.id'] != 'Id']\n",
    "latestcounty = latestcounty[latestcounty['GEO.id'] != 'Id']\n",
    "prevcounty = prevcounty[prevcounty['GEO.id'] != 'Id']"
   ]
  },
  {
   "cell_type": "code",
   "execution_count": 171,
   "metadata": {
    "collapsed": false
   },
   "outputs": [],
   "source": [
    "latestframes= [latestmuni, latestcounty]\n",
    "prevframes=[prevmuni, prevcounty]\n",
    "latestmuni = pd.concat(latestframes, ignore_index=True)\n",
    "prevmuni = pd.concat(prevframes, ignore_index=True)"
   ]
  },
  {
   "cell_type": "code",
   "execution_count": 172,
   "metadata": {
    "collapsed": false
   },
   "outputs": [],
   "source": [
    "latestmuni = latestmuni.rename(columns={ # yes, we could have done this when we read in the CSV\n",
    "        'HD01_VD01': '2015value',\n",
    "        'HD02_VD01': '2015valuemoe',\n",
    "    })\n",
    "prevmuni = prevmuni.rename(columns={ # yes, we could have done this when we read in the CSV\n",
    "        'HD01_VD01': '2009valuewoinf',\n",
    "        'HD02_VD01': '2009valuemoewoinf',\n",
    "    })"
   ]
  },
  {
   "cell_type": "code",
   "execution_count": 173,
   "metadata": {
    "collapsed": false
   },
   "outputs": [],
   "source": [
    "# Remove \"new jersey\" label\n",
    "latestmuni['GEOdisplaylabel'] = latestmuni['GEO.display-label'].replace(to_replace=', New Jersey', value='', regex=True)\n",
    "prevmuni['GEOdisplaylabel'] = prevmuni['GEO.display-label'].replace(to_replace=', New Jersey', value='', regex=True)"
   ]
  },
  {
   "cell_type": "code",
   "execution_count": 174,
   "metadata": {
    "collapsed": false
   },
   "outputs": [
    {
     "data": {
      "text/html": [
       "<div>\n",
       "<table border=\"1\" class=\"dataframe\">\n",
       "  <thead>\n",
       "    <tr style=\"text-align: right;\">\n",
       "      <th></th>\n",
       "      <th>GEO.id</th>\n",
       "      <th>GEO.id2</th>\n",
       "      <th>GEO.display-label</th>\n",
       "      <th>2015value</th>\n",
       "      <th>2015valuemoe</th>\n",
       "      <th>GEOdisplaylabel</th>\n",
       "    </tr>\n",
       "  </thead>\n",
       "  <tbody>\n",
       "    <tr>\n",
       "      <th>0</th>\n",
       "      <td>0600000US3400100000</td>\n",
       "      <td>3400100000</td>\n",
       "      <td>County subdivisions not defined, Atlantic Coun...</td>\n",
       "      <td>-</td>\n",
       "      <td>**</td>\n",
       "      <td>County subdivisions not defined, Atlantic County</td>\n",
       "    </tr>\n",
       "    <tr>\n",
       "      <th>1</th>\n",
       "      <td>0600000US3400100100</td>\n",
       "      <td>3400100100</td>\n",
       "      <td>Absecon city, Atlantic County, New Jersey</td>\n",
       "      <td>206900</td>\n",
       "      <td>16458</td>\n",
       "      <td>Absecon city, Atlantic County</td>\n",
       "    </tr>\n",
       "    <tr>\n",
       "      <th>2</th>\n",
       "      <td>0600000US3400102080</td>\n",
       "      <td>3400102080</td>\n",
       "      <td>Atlantic City city, Atlantic County, New Jersey</td>\n",
       "      <td>198200</td>\n",
       "      <td>15644</td>\n",
       "      <td>Atlantic City city, Atlantic County</td>\n",
       "    </tr>\n",
       "    <tr>\n",
       "      <th>3</th>\n",
       "      <td>0600000US3400107810</td>\n",
       "      <td>3400107810</td>\n",
       "      <td>Brigantine city, Atlantic County, New Jersey</td>\n",
       "      <td>364000</td>\n",
       "      <td>15718</td>\n",
       "      <td>Brigantine city, Atlantic County</td>\n",
       "    </tr>\n",
       "    <tr>\n",
       "      <th>4</th>\n",
       "      <td>0600000US3400108680</td>\n",
       "      <td>3400108680</td>\n",
       "      <td>Buena borough, Atlantic County, New Jersey</td>\n",
       "      <td>187500</td>\n",
       "      <td>10554</td>\n",
       "      <td>Buena borough, Atlantic County</td>\n",
       "    </tr>\n",
       "  </tbody>\n",
       "</table>\n",
       "</div>"
      ],
      "text/plain": [
       "                GEO.id     GEO.id2  \\\n",
       "0  0600000US3400100000  3400100000   \n",
       "1  0600000US3400100100  3400100100   \n",
       "2  0600000US3400102080  3400102080   \n",
       "3  0600000US3400107810  3400107810   \n",
       "4  0600000US3400108680  3400108680   \n",
       "\n",
       "                                   GEO.display-label 2015value 2015valuemoe  \\\n",
       "0  County subdivisions not defined, Atlantic Coun...         -           **   \n",
       "1          Absecon city, Atlantic County, New Jersey    206900        16458   \n",
       "2    Atlantic City city, Atlantic County, New Jersey    198200        15644   \n",
       "3       Brigantine city, Atlantic County, New Jersey    364000        15718   \n",
       "4         Buena borough, Atlantic County, New Jersey    187500        10554   \n",
       "\n",
       "                                    GEOdisplaylabel  \n",
       "0  County subdivisions not defined, Atlantic County  \n",
       "1                     Absecon city, Atlantic County  \n",
       "2               Atlantic City city, Atlantic County  \n",
       "3                  Brigantine city, Atlantic County  \n",
       "4                    Buena borough, Atlantic County  "
      ]
     },
     "execution_count": 174,
     "metadata": {},
     "output_type": "execute_result"
    }
   ],
   "source": [
    "latestmuni.head()"
   ]
  },
  {
   "cell_type": "code",
   "execution_count": 175,
   "metadata": {
    "collapsed": true
   },
   "outputs": [],
   "source": [
    "# Split town and county names\n",
    "latest_newcols = pd.DataFrame(latestmuni.GEOdisplaylabel.str.split(',',1).tolist(), columns = ['GEOdisplaylabel', 'County'])\n",
    "prev_newcols = pd.DataFrame(prevmuni.GEOdisplaylabel.str.split(',',1).tolist(), columns = ['GEOdisplaylabel', 'County'])"
   ]
  },
  {
   "cell_type": "code",
   "execution_count": 176,
   "metadata": {
    "collapsed": false
   },
   "outputs": [],
   "source": [
    "latestmuni = pd.concat([latest_newcols, latestmuni], axis=1)\n",
    "prevmuni = pd.concat([prev_newcols, prevmuni], axis=1)"
   ]
  },
  {
   "cell_type": "code",
   "execution_count": 177,
   "metadata": {
    "collapsed": false
   },
   "outputs": [],
   "source": [
    "# Remove county label\n",
    "latestmuni['County'] = latestmuni['County'].replace(to_replace='County', value='', regex=True)\n",
    "prevmuni['County'] = prevmuni['County'].replace(to_replace='County', value='', regex=True)\n"
   ]
  },
  {
   "cell_type": "code",
   "execution_count": 178,
   "metadata": {
    "collapsed": true
   },
   "outputs": [],
   "source": [
    "muni_merge = pd.merge(latestmuni, prevmuni, left_on='GEO.id2', right_on='GEO.id2', how='left')"
   ]
  },
  {
   "cell_type": "code",
   "execution_count": 179,
   "metadata": {
    "collapsed": false
   },
   "outputs": [
    {
     "data": {
      "text/html": [
       "<div>\n",
       "<table border=\"1\" class=\"dataframe\">\n",
       "  <thead>\n",
       "    <tr style=\"text-align: right;\">\n",
       "      <th></th>\n",
       "      <th>GEOdisplaylabel_x</th>\n",
       "      <th>County_x</th>\n",
       "      <th>GEO.id_x</th>\n",
       "      <th>GEO.id2</th>\n",
       "      <th>GEO.display-label_x</th>\n",
       "      <th>2015value</th>\n",
       "      <th>2015valuemoe</th>\n",
       "      <th>GEOdisplaylabel_x</th>\n",
       "      <th>GEOdisplaylabel_y</th>\n",
       "      <th>County_y</th>\n",
       "      <th>GEO.id_y</th>\n",
       "      <th>GEO.display-label_y</th>\n",
       "      <th>2009valuewoinf</th>\n",
       "      <th>2009valuemoewoinf</th>\n",
       "      <th>GEOdisplaylabel_y</th>\n",
       "    </tr>\n",
       "  </thead>\n",
       "  <tbody>\n",
       "    <tr>\n",
       "      <th>0</th>\n",
       "      <td>County subdivisions not defined</td>\n",
       "      <td>Atlantic</td>\n",
       "      <td>0600000US3400100000</td>\n",
       "      <td>3400100000</td>\n",
       "      <td>County subdivisions not defined, Atlantic Coun...</td>\n",
       "      <td>-</td>\n",
       "      <td>**</td>\n",
       "      <td>County subdivisions not defined, Atlantic County</td>\n",
       "      <td>County subdivisions not defined</td>\n",
       "      <td>Atlantic</td>\n",
       "      <td>0600000US3400100000</td>\n",
       "      <td>County subdivisions not defined, Atlantic Coun...</td>\n",
       "      <td>-</td>\n",
       "      <td>**</td>\n",
       "      <td>County subdivisions not defined, Atlantic County</td>\n",
       "    </tr>\n",
       "    <tr>\n",
       "      <th>1</th>\n",
       "      <td>Absecon city</td>\n",
       "      <td>Atlantic</td>\n",
       "      <td>0600000US3400100100</td>\n",
       "      <td>3400100100</td>\n",
       "      <td>Absecon city, Atlantic County, New Jersey</td>\n",
       "      <td>206900</td>\n",
       "      <td>16458</td>\n",
       "      <td>Absecon city, Atlantic County</td>\n",
       "      <td>Absecon city</td>\n",
       "      <td>Atlantic</td>\n",
       "      <td>0600000US3400100100</td>\n",
       "      <td>Absecon city, Atlantic County, New Jersey</td>\n",
       "      <td>259100</td>\n",
       "      <td>17220</td>\n",
       "      <td>Absecon city, Atlantic County</td>\n",
       "    </tr>\n",
       "    <tr>\n",
       "      <th>2</th>\n",
       "      <td>Atlantic City city</td>\n",
       "      <td>Atlantic</td>\n",
       "      <td>0600000US3400102080</td>\n",
       "      <td>3400102080</td>\n",
       "      <td>Atlantic City city, Atlantic County, New Jersey</td>\n",
       "      <td>198200</td>\n",
       "      <td>15644</td>\n",
       "      <td>Atlantic City city, Atlantic County</td>\n",
       "      <td>Atlantic City city</td>\n",
       "      <td>Atlantic</td>\n",
       "      <td>0600000US3400102080</td>\n",
       "      <td>Atlantic City city, Atlantic County, New Jersey</td>\n",
       "      <td>231100</td>\n",
       "      <td>10782</td>\n",
       "      <td>Atlantic City city, Atlantic County</td>\n",
       "    </tr>\n",
       "    <tr>\n",
       "      <th>3</th>\n",
       "      <td>Brigantine city</td>\n",
       "      <td>Atlantic</td>\n",
       "      <td>0600000US3400107810</td>\n",
       "      <td>3400107810</td>\n",
       "      <td>Brigantine city, Atlantic County, New Jersey</td>\n",
       "      <td>364000</td>\n",
       "      <td>15718</td>\n",
       "      <td>Brigantine city, Atlantic County</td>\n",
       "      <td>Brigantine city</td>\n",
       "      <td>Atlantic</td>\n",
       "      <td>0600000US3400107810</td>\n",
       "      <td>Brigantine city, Atlantic County, New Jersey</td>\n",
       "      <td>448200</td>\n",
       "      <td>18508</td>\n",
       "      <td>Brigantine city, Atlantic County</td>\n",
       "    </tr>\n",
       "    <tr>\n",
       "      <th>4</th>\n",
       "      <td>Buena borough</td>\n",
       "      <td>Atlantic</td>\n",
       "      <td>0600000US3400108680</td>\n",
       "      <td>3400108680</td>\n",
       "      <td>Buena borough, Atlantic County, New Jersey</td>\n",
       "      <td>187500</td>\n",
       "      <td>10554</td>\n",
       "      <td>Buena borough, Atlantic County</td>\n",
       "      <td>Buena borough</td>\n",
       "      <td>Atlantic</td>\n",
       "      <td>0600000US3400108680</td>\n",
       "      <td>Buena borough, Atlantic County, New Jersey</td>\n",
       "      <td>199800</td>\n",
       "      <td>25289</td>\n",
       "      <td>Buena borough, Atlantic County</td>\n",
       "    </tr>\n",
       "  </tbody>\n",
       "</table>\n",
       "</div>"
      ],
      "text/plain": [
       "                 GEOdisplaylabel_x    County_x             GEO.id_x  \\\n",
       "0  County subdivisions not defined   Atlantic   0600000US3400100000   \n",
       "1                     Absecon city   Atlantic   0600000US3400100100   \n",
       "2               Atlantic City city   Atlantic   0600000US3400102080   \n",
       "3                  Brigantine city   Atlantic   0600000US3400107810   \n",
       "4                    Buena borough   Atlantic   0600000US3400108680   \n",
       "\n",
       "      GEO.id2                                GEO.display-label_x 2015value  \\\n",
       "0  3400100000  County subdivisions not defined, Atlantic Coun...         -   \n",
       "1  3400100100          Absecon city, Atlantic County, New Jersey    206900   \n",
       "2  3400102080    Atlantic City city, Atlantic County, New Jersey    198200   \n",
       "3  3400107810       Brigantine city, Atlantic County, New Jersey    364000   \n",
       "4  3400108680         Buena borough, Atlantic County, New Jersey    187500   \n",
       "\n",
       "  2015valuemoe                                 GEOdisplaylabel_x  \\\n",
       "0           **  County subdivisions not defined, Atlantic County   \n",
       "1        16458                     Absecon city, Atlantic County   \n",
       "2        15644               Atlantic City city, Atlantic County   \n",
       "3        15718                  Brigantine city, Atlantic County   \n",
       "4        10554                    Buena borough, Atlantic County   \n",
       "\n",
       "                 GEOdisplaylabel_y    County_y             GEO.id_y  \\\n",
       "0  County subdivisions not defined   Atlantic   0600000US3400100000   \n",
       "1                     Absecon city   Atlantic   0600000US3400100100   \n",
       "2               Atlantic City city   Atlantic   0600000US3400102080   \n",
       "3                  Brigantine city   Atlantic   0600000US3400107810   \n",
       "4                    Buena borough   Atlantic   0600000US3400108680   \n",
       "\n",
       "                                 GEO.display-label_y 2009valuewoinf  \\\n",
       "0  County subdivisions not defined, Atlantic Coun...              -   \n",
       "1          Absecon city, Atlantic County, New Jersey         259100   \n",
       "2    Atlantic City city, Atlantic County, New Jersey         231100   \n",
       "3       Brigantine city, Atlantic County, New Jersey         448200   \n",
       "4         Buena borough, Atlantic County, New Jersey         199800   \n",
       "\n",
       "  2009valuemoewoinf                                 GEOdisplaylabel_y  \n",
       "0                **  County subdivisions not defined, Atlantic County  \n",
       "1             17220                     Absecon city, Atlantic County  \n",
       "2             10782               Atlantic City city, Atlantic County  \n",
       "3             18508                  Brigantine city, Atlantic County  \n",
       "4             25289                    Buena borough, Atlantic County  "
      ]
     },
     "execution_count": 179,
     "metadata": {},
     "output_type": "execute_result"
    }
   ],
   "source": [
    "muni_merge.head()"
   ]
  },
  {
   "cell_type": "code",
   "execution_count": 180,
   "metadata": {
    "collapsed": false
   },
   "outputs": [],
   "source": [
    "muni_merge = muni_merge.drop([\"GEOdisplaylabel_y\",'GEO.display-label_y', 'County_y', 'GEO.id_y'], axis=1)\n",
    "muni_merge.rename(columns={'GEOdisplaylabel_x': 'GEOdisplaylabel', 'County_x': 'County', 'GEO.id_x': 'GEO.id', 'GEO.display-label_x': 'GEOdisplaylabel_long'}, inplace=True)"
   ]
  },
  {
   "cell_type": "code",
   "execution_count": 181,
   "metadata": {
    "collapsed": false
   },
   "outputs": [
    {
     "data": {
      "text/plain": [
       "GEOdisplaylabel         object\n",
       "County                  object\n",
       "GEO.id                  object\n",
       "GEO.id2                 object\n",
       "GEOdisplaylabel_long    object\n",
       "2015value               object\n",
       "2015valuemoe            object\n",
       "GEOdisplaylabel         object\n",
       "2009valuewoinf          object\n",
       "2009valuemoewoinf       object\n",
       "dtype: object"
      ]
     },
     "execution_count": 181,
     "metadata": {},
     "output_type": "execute_result"
    }
   ],
   "source": [
    "muni_merge.dtypes"
   ]
  },
  {
   "cell_type": "code",
   "execution_count": 182,
   "metadata": {
    "collapsed": false
   },
   "outputs": [],
   "source": [
    "muni_merge['2009_median_value_temp'] = pd.to_numeric(muni_merge['2009valuewoinf'], errors='coerce') * (.100469602)\n",
    "muni_merge[\"2009valuewoinf\"] = pd.to_numeric(muni_merge[\"2009valuewoinf\"], errors=\"coerce\")"
   ]
  },
  {
   "cell_type": "code",
   "execution_count": 183,
   "metadata": {
    "collapsed": false
   },
   "outputs": [],
   "source": [
    "muni_merge[\"2009_median_value\"] = muni_merge[\"2009valuewoinf\"] + muni_merge[\"2009_median_value_temp\"]"
   ]
  },
  {
   "cell_type": "code",
   "execution_count": 184,
   "metadata": {
    "collapsed": true
   },
   "outputs": [],
   "source": [
    "muni_merge['2009_moe_value_temp'] = pd.to_numeric(muni_merge['2009valuemoewoinf'], errors='coerce') * (.100469602)\n",
    "muni_merge[\"2009valuemoewoinf\"] = pd.to_numeric(muni_merge[\"2009valuemoewoinf\"], errors=\"coerce\")"
   ]
  },
  {
   "cell_type": "code",
   "execution_count": 185,
   "metadata": {
    "collapsed": false
   },
   "outputs": [],
   "source": [
    "muni_merge[\"2009_median_value_moe\"] = muni_merge[\"2009valuemoewoinf\"] + muni_merge[\"2009_moe_value_temp\"]"
   ]
  },
  {
   "cell_type": "code",
   "execution_count": 186,
   "metadata": {
    "collapsed": false
   },
   "outputs": [],
   "source": [
    "muni_merge = muni_merge.drop(['2009_median_value_temp', '2009_moe_value_temp'], axis=1)"
   ]
  },
  {
   "cell_type": "code",
   "execution_count": 187,
   "metadata": {
    "collapsed": false
   },
   "outputs": [
    {
     "data": {
      "text/html": [
       "<div>\n",
       "<table border=\"1\" class=\"dataframe\">\n",
       "  <thead>\n",
       "    <tr style=\"text-align: right;\">\n",
       "      <th></th>\n",
       "      <th>GEOdisplaylabel</th>\n",
       "      <th>County</th>\n",
       "      <th>GEO.id</th>\n",
       "      <th>GEO.id2</th>\n",
       "      <th>GEOdisplaylabel_long</th>\n",
       "      <th>2015value</th>\n",
       "      <th>2015valuemoe</th>\n",
       "      <th>GEOdisplaylabel</th>\n",
       "      <th>2009valuewoinf</th>\n",
       "      <th>2009valuemoewoinf</th>\n",
       "      <th>2009_median_value</th>\n",
       "      <th>2009_median_value_moe</th>\n",
       "    </tr>\n",
       "  </thead>\n",
       "  <tbody>\n",
       "    <tr>\n",
       "      <th>0</th>\n",
       "      <td>County subdivisions not defined</td>\n",
       "      <td>Atlantic</td>\n",
       "      <td>0600000US3400100000</td>\n",
       "      <td>3400100000</td>\n",
       "      <td>County subdivisions not defined, Atlantic Coun...</td>\n",
       "      <td>-</td>\n",
       "      <td>**</td>\n",
       "      <td>County subdivisions not defined, Atlantic County</td>\n",
       "      <td>NaN</td>\n",
       "      <td>NaN</td>\n",
       "      <td>NaN</td>\n",
       "      <td>NaN</td>\n",
       "    </tr>\n",
       "    <tr>\n",
       "      <th>1</th>\n",
       "      <td>Absecon city</td>\n",
       "      <td>Atlantic</td>\n",
       "      <td>0600000US3400100100</td>\n",
       "      <td>3400100100</td>\n",
       "      <td>Absecon city, Atlantic County, New Jersey</td>\n",
       "      <td>206900</td>\n",
       "      <td>16458</td>\n",
       "      <td>Absecon city, Atlantic County</td>\n",
       "      <td>259100.0</td>\n",
       "      <td>17220.0</td>\n",
       "      <td>285131.673878</td>\n",
       "      <td>18950.086546</td>\n",
       "    </tr>\n",
       "    <tr>\n",
       "      <th>2</th>\n",
       "      <td>Atlantic City city</td>\n",
       "      <td>Atlantic</td>\n",
       "      <td>0600000US3400102080</td>\n",
       "      <td>3400102080</td>\n",
       "      <td>Atlantic City city, Atlantic County, New Jersey</td>\n",
       "      <td>198200</td>\n",
       "      <td>15644</td>\n",
       "      <td>Atlantic City city, Atlantic County</td>\n",
       "      <td>231100.0</td>\n",
       "      <td>10782.0</td>\n",
       "      <td>254318.525022</td>\n",
       "      <td>11865.263249</td>\n",
       "    </tr>\n",
       "    <tr>\n",
       "      <th>3</th>\n",
       "      <td>Brigantine city</td>\n",
       "      <td>Atlantic</td>\n",
       "      <td>0600000US3400107810</td>\n",
       "      <td>3400107810</td>\n",
       "      <td>Brigantine city, Atlantic County, New Jersey</td>\n",
       "      <td>364000</td>\n",
       "      <td>15718</td>\n",
       "      <td>Brigantine city, Atlantic County</td>\n",
       "      <td>448200.0</td>\n",
       "      <td>18508.0</td>\n",
       "      <td>493230.475616</td>\n",
       "      <td>20367.491394</td>\n",
       "    </tr>\n",
       "    <tr>\n",
       "      <th>4</th>\n",
       "      <td>Buena borough</td>\n",
       "      <td>Atlantic</td>\n",
       "      <td>0600000US3400108680</td>\n",
       "      <td>3400108680</td>\n",
       "      <td>Buena borough, Atlantic County, New Jersey</td>\n",
       "      <td>187500</td>\n",
       "      <td>10554</td>\n",
       "      <td>Buena borough, Atlantic County</td>\n",
       "      <td>199800.0</td>\n",
       "      <td>25289.0</td>\n",
       "      <td>219873.826480</td>\n",
       "      <td>27829.775765</td>\n",
       "    </tr>\n",
       "  </tbody>\n",
       "</table>\n",
       "</div>"
      ],
      "text/plain": [
       "                   GEOdisplaylabel      County               GEO.id  \\\n",
       "0  County subdivisions not defined   Atlantic   0600000US3400100000   \n",
       "1                     Absecon city   Atlantic   0600000US3400100100   \n",
       "2               Atlantic City city   Atlantic   0600000US3400102080   \n",
       "3                  Brigantine city   Atlantic   0600000US3400107810   \n",
       "4                    Buena borough   Atlantic   0600000US3400108680   \n",
       "\n",
       "      GEO.id2                               GEOdisplaylabel_long 2015value  \\\n",
       "0  3400100000  County subdivisions not defined, Atlantic Coun...         -   \n",
       "1  3400100100          Absecon city, Atlantic County, New Jersey    206900   \n",
       "2  3400102080    Atlantic City city, Atlantic County, New Jersey    198200   \n",
       "3  3400107810       Brigantine city, Atlantic County, New Jersey    364000   \n",
       "4  3400108680         Buena borough, Atlantic County, New Jersey    187500   \n",
       "\n",
       "  2015valuemoe                                   GEOdisplaylabel  \\\n",
       "0           **  County subdivisions not defined, Atlantic County   \n",
       "1        16458                     Absecon city, Atlantic County   \n",
       "2        15644               Atlantic City city, Atlantic County   \n",
       "3        15718                  Brigantine city, Atlantic County   \n",
       "4        10554                    Buena borough, Atlantic County   \n",
       "\n",
       "   2009valuewoinf  2009valuemoewoinf  2009_median_value  2009_median_value_moe  \n",
       "0             NaN                NaN                NaN                    NaN  \n",
       "1        259100.0            17220.0      285131.673878           18950.086546  \n",
       "2        231100.0            10782.0      254318.525022           11865.263249  \n",
       "3        448200.0            18508.0      493230.475616           20367.491394  \n",
       "4        199800.0            25289.0      219873.826480           27829.775765  "
      ]
     },
     "execution_count": 187,
     "metadata": {},
     "output_type": "execute_result"
    }
   ],
   "source": [
    "muni_merge.head()"
   ]
  },
  {
   "cell_type": "code",
   "execution_count": 190,
   "metadata": {
    "collapsed": false
   },
   "outputs": [
    {
     "name": "stdout",
     "output_type": "stream",
     "text": [
      "392647.553994\n",
      "204027.064211\n"
     ]
    }
   ],
   "source": [
    "print(356800 * .100469602) + 356800\n",
    "print (185400 * .100469602) + 185400"
   ]
  },
  {
   "cell_type": "code",
   "execution_count": 193,
   "metadata": {
    "collapsed": false
   },
   "outputs": [],
   "source": [
    "muni_merge[\"2015valuemoeper\"] = pd.to_numeric(muni_merge[\"2015valuemoe\"],errors=\"coerce\")/ pd.to_numeric(muni_merge[\"2015value\"], errors=\"coerce\")\n",
    "muni_merge[\"2009valuemoeper\"] = pd.to_numeric(muni_merge[\"2009_median_value_moe\"],errors=\"coerce\") / pd.to_numeric(muni_merge[\"2009_median_value\"], errors=\"coerce\")"
   ]
  },
  {
   "cell_type": "code",
   "execution_count": 194,
   "metadata": {
    "collapsed": false
   },
   "outputs": [
    {
     "data": {
      "text/html": [
       "<div>\n",
       "<table border=\"1\" class=\"dataframe\">\n",
       "  <thead>\n",
       "    <tr style=\"text-align: right;\">\n",
       "      <th></th>\n",
       "      <th>GEOdisplaylabel</th>\n",
       "      <th>County</th>\n",
       "      <th>GEO.id</th>\n",
       "      <th>GEO.id2</th>\n",
       "      <th>GEOdisplaylabel_long</th>\n",
       "      <th>2015value</th>\n",
       "      <th>2015valuemoe</th>\n",
       "      <th>GEOdisplaylabel</th>\n",
       "      <th>2009valuewoinf</th>\n",
       "      <th>2009valuemoewoinf</th>\n",
       "      <th>2009_median_value</th>\n",
       "      <th>2009_median_value_moe</th>\n",
       "      <th>nj_latest</th>\n",
       "      <th>nj_previous</th>\n",
       "      <th>us_latest</th>\n",
       "      <th>us_previous</th>\n",
       "      <th>2015valuemoeper</th>\n",
       "      <th>2009valuemoeper</th>\n",
       "    </tr>\n",
       "  </thead>\n",
       "  <tbody>\n",
       "    <tr>\n",
       "      <th>0</th>\n",
       "      <td>County subdivisions not defined</td>\n",
       "      <td>Atlantic</td>\n",
       "      <td>0600000US3400100000</td>\n",
       "      <td>3400100000</td>\n",
       "      <td>County subdivisions not defined, Atlantic Coun...</td>\n",
       "      <td>-</td>\n",
       "      <td>**</td>\n",
       "      <td>County subdivisions not defined, Atlantic County</td>\n",
       "      <td>NaN</td>\n",
       "      <td>NaN</td>\n",
       "      <td>NaN</td>\n",
       "      <td>NaN</td>\n",
       "      <td>315900</td>\n",
       "      <td>392647.553994</td>\n",
       "      <td>178600</td>\n",
       "      <td>204027.064211</td>\n",
       "      <td>NaN</td>\n",
       "      <td>NaN</td>\n",
       "    </tr>\n",
       "    <tr>\n",
       "      <th>1</th>\n",
       "      <td>Absecon city</td>\n",
       "      <td>Atlantic</td>\n",
       "      <td>0600000US3400100100</td>\n",
       "      <td>3400100100</td>\n",
       "      <td>Absecon city, Atlantic County, New Jersey</td>\n",
       "      <td>206900</td>\n",
       "      <td>16458</td>\n",
       "      <td>Absecon city, Atlantic County</td>\n",
       "      <td>259100.0</td>\n",
       "      <td>17220.0</td>\n",
       "      <td>285131.673878</td>\n",
       "      <td>18950.086546</td>\n",
       "      <td>315900</td>\n",
       "      <td>392647.553994</td>\n",
       "      <td>178600</td>\n",
       "      <td>204027.064211</td>\n",
       "      <td>0.079546</td>\n",
       "      <td>0.066461</td>\n",
       "    </tr>\n",
       "    <tr>\n",
       "      <th>2</th>\n",
       "      <td>Atlantic City city</td>\n",
       "      <td>Atlantic</td>\n",
       "      <td>0600000US3400102080</td>\n",
       "      <td>3400102080</td>\n",
       "      <td>Atlantic City city, Atlantic County, New Jersey</td>\n",
       "      <td>198200</td>\n",
       "      <td>15644</td>\n",
       "      <td>Atlantic City city, Atlantic County</td>\n",
       "      <td>231100.0</td>\n",
       "      <td>10782.0</td>\n",
       "      <td>254318.525022</td>\n",
       "      <td>11865.263249</td>\n",
       "      <td>315900</td>\n",
       "      <td>392647.553994</td>\n",
       "      <td>178600</td>\n",
       "      <td>204027.064211</td>\n",
       "      <td>0.078930</td>\n",
       "      <td>0.046655</td>\n",
       "    </tr>\n",
       "    <tr>\n",
       "      <th>3</th>\n",
       "      <td>Brigantine city</td>\n",
       "      <td>Atlantic</td>\n",
       "      <td>0600000US3400107810</td>\n",
       "      <td>3400107810</td>\n",
       "      <td>Brigantine city, Atlantic County, New Jersey</td>\n",
       "      <td>364000</td>\n",
       "      <td>15718</td>\n",
       "      <td>Brigantine city, Atlantic County</td>\n",
       "      <td>448200.0</td>\n",
       "      <td>18508.0</td>\n",
       "      <td>493230.475616</td>\n",
       "      <td>20367.491394</td>\n",
       "      <td>315900</td>\n",
       "      <td>392647.553994</td>\n",
       "      <td>178600</td>\n",
       "      <td>204027.064211</td>\n",
       "      <td>0.043181</td>\n",
       "      <td>0.041294</td>\n",
       "    </tr>\n",
       "    <tr>\n",
       "      <th>4</th>\n",
       "      <td>Buena borough</td>\n",
       "      <td>Atlantic</td>\n",
       "      <td>0600000US3400108680</td>\n",
       "      <td>3400108680</td>\n",
       "      <td>Buena borough, Atlantic County, New Jersey</td>\n",
       "      <td>187500</td>\n",
       "      <td>10554</td>\n",
       "      <td>Buena borough, Atlantic County</td>\n",
       "      <td>199800.0</td>\n",
       "      <td>25289.0</td>\n",
       "      <td>219873.826480</td>\n",
       "      <td>27829.775765</td>\n",
       "      <td>315900</td>\n",
       "      <td>392647.553994</td>\n",
       "      <td>178600</td>\n",
       "      <td>204027.064211</td>\n",
       "      <td>0.056288</td>\n",
       "      <td>0.126572</td>\n",
       "    </tr>\n",
       "  </tbody>\n",
       "</table>\n",
       "</div>"
      ],
      "text/plain": [
       "                   GEOdisplaylabel      County               GEO.id  \\\n",
       "0  County subdivisions not defined   Atlantic   0600000US3400100000   \n",
       "1                     Absecon city   Atlantic   0600000US3400100100   \n",
       "2               Atlantic City city   Atlantic   0600000US3400102080   \n",
       "3                  Brigantine city   Atlantic   0600000US3400107810   \n",
       "4                    Buena borough   Atlantic   0600000US3400108680   \n",
       "\n",
       "      GEO.id2                               GEOdisplaylabel_long 2015value  \\\n",
       "0  3400100000  County subdivisions not defined, Atlantic Coun...         -   \n",
       "1  3400100100          Absecon city, Atlantic County, New Jersey    206900   \n",
       "2  3400102080    Atlantic City city, Atlantic County, New Jersey    198200   \n",
       "3  3400107810       Brigantine city, Atlantic County, New Jersey    364000   \n",
       "4  3400108680         Buena borough, Atlantic County, New Jersey    187500   \n",
       "\n",
       "  2015valuemoe                                   GEOdisplaylabel  \\\n",
       "0           **  County subdivisions not defined, Atlantic County   \n",
       "1        16458                     Absecon city, Atlantic County   \n",
       "2        15644               Atlantic City city, Atlantic County   \n",
       "3        15718                  Brigantine city, Atlantic County   \n",
       "4        10554                    Buena borough, Atlantic County   \n",
       "\n",
       "   2009valuewoinf  2009valuemoewoinf  2009_median_value  \\\n",
       "0             NaN                NaN                NaN   \n",
       "1        259100.0            17220.0      285131.673878   \n",
       "2        231100.0            10782.0      254318.525022   \n",
       "3        448200.0            18508.0      493230.475616   \n",
       "4        199800.0            25289.0      219873.826480   \n",
       "\n",
       "   2009_median_value_moe  nj_latest    nj_previous  us_latest    us_previous  \\\n",
       "0                    NaN     315900  392647.553994     178600  204027.064211   \n",
       "1           18950.086546     315900  392647.553994     178600  204027.064211   \n",
       "2           11865.263249     315900  392647.553994     178600  204027.064211   \n",
       "3           20367.491394     315900  392647.553994     178600  204027.064211   \n",
       "4           27829.775765     315900  392647.553994     178600  204027.064211   \n",
       "\n",
       "   2015valuemoeper  2009valuemoeper  \n",
       "0              NaN              NaN  \n",
       "1         0.079546         0.066461  \n",
       "2         0.078930         0.046655  \n",
       "3         0.043181         0.041294  \n",
       "4         0.056288         0.126572  "
      ]
     },
     "execution_count": 194,
     "metadata": {},
     "output_type": "execute_result"
    }
   ],
   "source": [
    "muni_merge.head()"
   ]
  },
  {
   "cell_type": "code",
   "execution_count": 191,
   "metadata": {
    "collapsed": true
   },
   "outputs": [],
   "source": [
    "muni_merge[\"nj_latest\"] = 315900\n",
    "muni_merge[\"nj_previous\"] = 392647.5539936\n",
    "muni_merge[\"us_latest\"] = 178600\n",
    "muni_merge[\"us_previous\"] = 204027.064211"
   ]
  },
  {
   "cell_type": "code",
   "execution_count": 203,
   "metadata": {
    "collapsed": false
   },
   "outputs": [],
   "source": [
    "muni_merge['value_change'] = ((pd.to_numeric(muni_merge['2015value'], errors='coerce') - muni_merge['2009_median_value'])/muni_merge['2009_median_value'])*100\n",
    "muni_merge['nj_value_change'] = ((pd.to_numeric(muni_merge['nj_latest'], errors='coerce') - muni_merge['nj_previous'])/muni_merge['nj_previous'])*100\n",
    "muni_merge['us_value_change'] = ((muni_merge['us_latest']-muni_merge['us_previous'])/muni_merge['us_previous'])*100\n"
   ]
  },
  {
   "cell_type": "code",
   "execution_count": 204,
   "metadata": {
    "collapsed": false
   },
   "outputs": [
    {
     "data": {
      "text/html": [
       "<div>\n",
       "<table border=\"1\" class=\"dataframe\">\n",
       "  <thead>\n",
       "    <tr style=\"text-align: right;\">\n",
       "      <th></th>\n",
       "      <th>GEOdisplaylabel</th>\n",
       "      <th>County</th>\n",
       "      <th>GEO.id</th>\n",
       "      <th>GEO.id2</th>\n",
       "      <th>GEOdisplaylabel_long</th>\n",
       "      <th>2015value</th>\n",
       "      <th>2015valuemoe</th>\n",
       "      <th>GEOdisplaylabel</th>\n",
       "      <th>2009valuewoinf</th>\n",
       "      <th>2009valuemoewoinf</th>\n",
       "      <th>...</th>\n",
       "      <th>2009_median_value_moe</th>\n",
       "      <th>nj_latest</th>\n",
       "      <th>nj_previous</th>\n",
       "      <th>us_latest</th>\n",
       "      <th>us_previous</th>\n",
       "      <th>2015valuemoeper</th>\n",
       "      <th>2009valuemoeper</th>\n",
       "      <th>value_change</th>\n",
       "      <th>nj_value_change</th>\n",
       "      <th>us_value_change</th>\n",
       "    </tr>\n",
       "  </thead>\n",
       "  <tbody>\n",
       "    <tr>\n",
       "      <th>0</th>\n",
       "      <td>County subdivisions not defined</td>\n",
       "      <td>Atlantic</td>\n",
       "      <td>0600000US3400100000</td>\n",
       "      <td>3400100000</td>\n",
       "      <td>County subdivisions not defined, Atlantic Coun...</td>\n",
       "      <td>-</td>\n",
       "      <td>**</td>\n",
       "      <td>County subdivisions not defined, Atlantic County</td>\n",
       "      <td>NaN</td>\n",
       "      <td>NaN</td>\n",
       "      <td>...</td>\n",
       "      <td>NaN</td>\n",
       "      <td>315900</td>\n",
       "      <td>392647.553994</td>\n",
       "      <td>178600</td>\n",
       "      <td>204027.064211</td>\n",
       "      <td>NaN</td>\n",
       "      <td>NaN</td>\n",
       "      <td>NaN</td>\n",
       "      <td>-19.546169</td>\n",
       "      <td>-12.462594</td>\n",
       "    </tr>\n",
       "    <tr>\n",
       "      <th>1</th>\n",
       "      <td>Absecon city</td>\n",
       "      <td>Atlantic</td>\n",
       "      <td>0600000US3400100100</td>\n",
       "      <td>3400100100</td>\n",
       "      <td>Absecon city, Atlantic County, New Jersey</td>\n",
       "      <td>206900</td>\n",
       "      <td>16458</td>\n",
       "      <td>Absecon city, Atlantic County</td>\n",
       "      <td>259100.0</td>\n",
       "      <td>17220.0</td>\n",
       "      <td>...</td>\n",
       "      <td>18950.086546</td>\n",
       "      <td>315900</td>\n",
       "      <td>392647.553994</td>\n",
       "      <td>178600</td>\n",
       "      <td>204027.064211</td>\n",
       "      <td>0.079546</td>\n",
       "      <td>0.066461</td>\n",
       "      <td>-27.437034</td>\n",
       "      <td>-19.546169</td>\n",
       "      <td>-12.462594</td>\n",
       "    </tr>\n",
       "    <tr>\n",
       "      <th>2</th>\n",
       "      <td>Atlantic City city</td>\n",
       "      <td>Atlantic</td>\n",
       "      <td>0600000US3400102080</td>\n",
       "      <td>3400102080</td>\n",
       "      <td>Atlantic City city, Atlantic County, New Jersey</td>\n",
       "      <td>198200</td>\n",
       "      <td>15644</td>\n",
       "      <td>Atlantic City city, Atlantic County</td>\n",
       "      <td>231100.0</td>\n",
       "      <td>10782.0</td>\n",
       "      <td>...</td>\n",
       "      <td>11865.263249</td>\n",
       "      <td>315900</td>\n",
       "      <td>392647.553994</td>\n",
       "      <td>178600</td>\n",
       "      <td>204027.064211</td>\n",
       "      <td>0.078930</td>\n",
       "      <td>0.046655</td>\n",
       "      <td>-22.066236</td>\n",
       "      <td>-19.546169</td>\n",
       "      <td>-12.462594</td>\n",
       "    </tr>\n",
       "    <tr>\n",
       "      <th>3</th>\n",
       "      <td>Brigantine city</td>\n",
       "      <td>Atlantic</td>\n",
       "      <td>0600000US3400107810</td>\n",
       "      <td>3400107810</td>\n",
       "      <td>Brigantine city, Atlantic County, New Jersey</td>\n",
       "      <td>364000</td>\n",
       "      <td>15718</td>\n",
       "      <td>Brigantine city, Atlantic County</td>\n",
       "      <td>448200.0</td>\n",
       "      <td>18508.0</td>\n",
       "      <td>...</td>\n",
       "      <td>20367.491394</td>\n",
       "      <td>315900</td>\n",
       "      <td>392647.553994</td>\n",
       "      <td>178600</td>\n",
       "      <td>204027.064211</td>\n",
       "      <td>0.043181</td>\n",
       "      <td>0.041294</td>\n",
       "      <td>-26.200829</td>\n",
       "      <td>-19.546169</td>\n",
       "      <td>-12.462594</td>\n",
       "    </tr>\n",
       "    <tr>\n",
       "      <th>4</th>\n",
       "      <td>Buena borough</td>\n",
       "      <td>Atlantic</td>\n",
       "      <td>0600000US3400108680</td>\n",
       "      <td>3400108680</td>\n",
       "      <td>Buena borough, Atlantic County, New Jersey</td>\n",
       "      <td>187500</td>\n",
       "      <td>10554</td>\n",
       "      <td>Buena borough, Atlantic County</td>\n",
       "      <td>199800.0</td>\n",
       "      <td>25289.0</td>\n",
       "      <td>...</td>\n",
       "      <td>27829.775765</td>\n",
       "      <td>315900</td>\n",
       "      <td>392647.553994</td>\n",
       "      <td>178600</td>\n",
       "      <td>204027.064211</td>\n",
       "      <td>0.056288</td>\n",
       "      <td>0.126572</td>\n",
       "      <td>-14.723820</td>\n",
       "      <td>-19.546169</td>\n",
       "      <td>-12.462594</td>\n",
       "    </tr>\n",
       "  </tbody>\n",
       "</table>\n",
       "<p>5 rows × 21 columns</p>\n",
       "</div>"
      ],
      "text/plain": [
       "                   GEOdisplaylabel      County               GEO.id  \\\n",
       "0  County subdivisions not defined   Atlantic   0600000US3400100000   \n",
       "1                     Absecon city   Atlantic   0600000US3400100100   \n",
       "2               Atlantic City city   Atlantic   0600000US3400102080   \n",
       "3                  Brigantine city   Atlantic   0600000US3400107810   \n",
       "4                    Buena borough   Atlantic   0600000US3400108680   \n",
       "\n",
       "      GEO.id2                               GEOdisplaylabel_long 2015value  \\\n",
       "0  3400100000  County subdivisions not defined, Atlantic Coun...         -   \n",
       "1  3400100100          Absecon city, Atlantic County, New Jersey    206900   \n",
       "2  3400102080    Atlantic City city, Atlantic County, New Jersey    198200   \n",
       "3  3400107810       Brigantine city, Atlantic County, New Jersey    364000   \n",
       "4  3400108680         Buena borough, Atlantic County, New Jersey    187500   \n",
       "\n",
       "  2015valuemoe                                   GEOdisplaylabel  \\\n",
       "0           **  County subdivisions not defined, Atlantic County   \n",
       "1        16458                     Absecon city, Atlantic County   \n",
       "2        15644               Atlantic City city, Atlantic County   \n",
       "3        15718                  Brigantine city, Atlantic County   \n",
       "4        10554                    Buena borough, Atlantic County   \n",
       "\n",
       "   2009valuewoinf  2009valuemoewoinf       ...         2009_median_value_moe  \\\n",
       "0             NaN                NaN       ...                           NaN   \n",
       "1        259100.0            17220.0       ...                  18950.086546   \n",
       "2        231100.0            10782.0       ...                  11865.263249   \n",
       "3        448200.0            18508.0       ...                  20367.491394   \n",
       "4        199800.0            25289.0       ...                  27829.775765   \n",
       "\n",
       "   nj_latest    nj_previous  us_latest    us_previous  2015valuemoeper  \\\n",
       "0     315900  392647.553994     178600  204027.064211              NaN   \n",
       "1     315900  392647.553994     178600  204027.064211         0.079546   \n",
       "2     315900  392647.553994     178600  204027.064211         0.078930   \n",
       "3     315900  392647.553994     178600  204027.064211         0.043181   \n",
       "4     315900  392647.553994     178600  204027.064211         0.056288   \n",
       "\n",
       "   2009valuemoeper  value_change  nj_value_change  us_value_change  \n",
       "0              NaN           NaN       -19.546169       -12.462594  \n",
       "1         0.066461    -27.437034       -19.546169       -12.462594  \n",
       "2         0.046655    -22.066236       -19.546169       -12.462594  \n",
       "3         0.041294    -26.200829       -19.546169       -12.462594  \n",
       "4         0.126572    -14.723820       -19.546169       -12.462594  \n",
       "\n",
       "[5 rows x 21 columns]"
      ]
     },
     "execution_count": 204,
     "metadata": {},
     "output_type": "execute_result"
    }
   ],
   "source": [
    "muni_merge.head()"
   ]
  },
  {
   "cell_type": "code",
   "execution_count": 206,
   "metadata": {
    "collapsed": false
   },
   "outputs": [
    {
     "ename": "ValueError",
     "evalue": "cannot reindex from a duplicate axis",
     "output_type": "error",
     "traceback": [
      "\u001b[0;31m---------------------------------------------------------------------------\u001b[0m",
      "\u001b[0;31mValueError\u001b[0m                                Traceback (most recent call last)",
      "\u001b[0;32m<ipython-input-206-988bf3e7b011>\u001b[0m in \u001b[0;36m<module>\u001b[0;34m()\u001b[0m\n\u001b[0;32m----> 1\u001b[0;31m \u001b[0mmuni_merge\u001b[0m \u001b[0;34m=\u001b[0m \u001b[0mmuni_merge\u001b[0m\u001b[0;34m[\u001b[0m\u001b[0mmuni_merge\u001b[0m\u001b[0;34m[\u001b[0m\u001b[0;34m'GEOdisplaylabel'\u001b[0m\u001b[0;34m]\u001b[0m \u001b[0;34m!=\u001b[0m \u001b[0;34m\"County subdivisions not defined\"\u001b[0m\u001b[0;34m]\u001b[0m\u001b[0;34m\u001b[0m\u001b[0m\n\u001b[0m",
      "\u001b[0;32m/Users/epetenko/anaconda/lib/python2.7/site-packages/pandas/core/frame.pyc\u001b[0m in \u001b[0;36m__getitem__\u001b[0;34m(self, key)\u001b[0m\n\u001b[1;32m   1991\u001b[0m             \u001b[0;32mreturn\u001b[0m \u001b[0mself\u001b[0m\u001b[0;34m.\u001b[0m\u001b[0m_getitem_array\u001b[0m\u001b[0;34m(\u001b[0m\u001b[0mkey\u001b[0m\u001b[0;34m)\u001b[0m\u001b[0;34m\u001b[0m\u001b[0m\n\u001b[1;32m   1992\u001b[0m         \u001b[0;32melif\u001b[0m \u001b[0misinstance\u001b[0m\u001b[0;34m(\u001b[0m\u001b[0mkey\u001b[0m\u001b[0;34m,\u001b[0m \u001b[0mDataFrame\u001b[0m\u001b[0;34m)\u001b[0m\u001b[0;34m:\u001b[0m\u001b[0;34m\u001b[0m\u001b[0m\n\u001b[0;32m-> 1993\u001b[0;31m             \u001b[0;32mreturn\u001b[0m \u001b[0mself\u001b[0m\u001b[0;34m.\u001b[0m\u001b[0m_getitem_frame\u001b[0m\u001b[0;34m(\u001b[0m\u001b[0mkey\u001b[0m\u001b[0;34m)\u001b[0m\u001b[0;34m\u001b[0m\u001b[0m\n\u001b[0m\u001b[1;32m   1994\u001b[0m         \u001b[0;32melif\u001b[0m \u001b[0mis_mi_columns\u001b[0m\u001b[0;34m:\u001b[0m\u001b[0;34m\u001b[0m\u001b[0m\n\u001b[1;32m   1995\u001b[0m             \u001b[0;32mreturn\u001b[0m \u001b[0mself\u001b[0m\u001b[0;34m.\u001b[0m\u001b[0m_getitem_multilevel\u001b[0m\u001b[0;34m(\u001b[0m\u001b[0mkey\u001b[0m\u001b[0;34m)\u001b[0m\u001b[0;34m\u001b[0m\u001b[0m\n",
      "\u001b[0;32m/Users/epetenko/anaconda/lib/python2.7/site-packages/pandas/core/frame.pyc\u001b[0m in \u001b[0;36m_getitem_frame\u001b[0;34m(self, key)\u001b[0m\n\u001b[1;32m   2067\u001b[0m         \u001b[0;32mif\u001b[0m \u001b[0mkey\u001b[0m\u001b[0;34m.\u001b[0m\u001b[0mvalues\u001b[0m\u001b[0;34m.\u001b[0m\u001b[0msize\u001b[0m \u001b[0;32mand\u001b[0m \u001b[0;32mnot\u001b[0m \u001b[0mcom\u001b[0m\u001b[0;34m.\u001b[0m\u001b[0mis_bool_dtype\u001b[0m\u001b[0;34m(\u001b[0m\u001b[0mkey\u001b[0m\u001b[0;34m.\u001b[0m\u001b[0mvalues\u001b[0m\u001b[0;34m)\u001b[0m\u001b[0;34m:\u001b[0m\u001b[0;34m\u001b[0m\u001b[0m\n\u001b[1;32m   2068\u001b[0m             \u001b[0;32mraise\u001b[0m \u001b[0mValueError\u001b[0m\u001b[0;34m(\u001b[0m\u001b[0;34m'Must pass DataFrame with boolean values only'\u001b[0m\u001b[0;34m)\u001b[0m\u001b[0;34m\u001b[0m\u001b[0m\n\u001b[0;32m-> 2069\u001b[0;31m         \u001b[0;32mreturn\u001b[0m \u001b[0mself\u001b[0m\u001b[0;34m.\u001b[0m\u001b[0mwhere\u001b[0m\u001b[0;34m(\u001b[0m\u001b[0mkey\u001b[0m\u001b[0;34m)\u001b[0m\u001b[0;34m\u001b[0m\u001b[0m\n\u001b[0m\u001b[1;32m   2070\u001b[0m \u001b[0;34m\u001b[0m\u001b[0m\n\u001b[1;32m   2071\u001b[0m     \u001b[0;32mdef\u001b[0m \u001b[0mquery\u001b[0m\u001b[0;34m(\u001b[0m\u001b[0mself\u001b[0m\u001b[0;34m,\u001b[0m \u001b[0mexpr\u001b[0m\u001b[0;34m,\u001b[0m \u001b[0minplace\u001b[0m\u001b[0;34m=\u001b[0m\u001b[0mFalse\u001b[0m\u001b[0;34m,\u001b[0m \u001b[0;34m**\u001b[0m\u001b[0mkwargs\u001b[0m\u001b[0;34m)\u001b[0m\u001b[0;34m:\u001b[0m\u001b[0;34m\u001b[0m\u001b[0m\n",
      "\u001b[0;32m/Users/epetenko/anaconda/lib/python2.7/site-packages/pandas/core/generic.pyc\u001b[0m in \u001b[0;36mwhere\u001b[0;34m(self, cond, other, inplace, axis, level, try_cast, raise_on_error)\u001b[0m\n\u001b[1;32m   4489\u001b[0m                                         \u001b[0mraise_on_error\u001b[0m\u001b[0;34m=\u001b[0m\u001b[0mraise_on_error\u001b[0m\u001b[0;34m,\u001b[0m\u001b[0;34m\u001b[0m\u001b[0m\n\u001b[1;32m   4490\u001b[0m                                         \u001b[0mtry_cast\u001b[0m\u001b[0;34m=\u001b[0m\u001b[0mtry_cast\u001b[0m\u001b[0;34m,\u001b[0m \u001b[0maxis\u001b[0m\u001b[0;34m=\u001b[0m\u001b[0mblock_axis\u001b[0m\u001b[0;34m,\u001b[0m\u001b[0;34m\u001b[0m\u001b[0m\n\u001b[0;32m-> 4491\u001b[0;31m                                         transpose=self._AXIS_REVERSED)\n\u001b[0m\u001b[1;32m   4492\u001b[0m \u001b[0;34m\u001b[0m\u001b[0m\n\u001b[1;32m   4493\u001b[0m             \u001b[0;32mreturn\u001b[0m \u001b[0mself\u001b[0m\u001b[0;34m.\u001b[0m\u001b[0m_constructor\u001b[0m\u001b[0;34m(\u001b[0m\u001b[0mnew_data\u001b[0m\u001b[0;34m)\u001b[0m\u001b[0;34m.\u001b[0m\u001b[0m__finalize__\u001b[0m\u001b[0;34m(\u001b[0m\u001b[0mself\u001b[0m\u001b[0;34m)\u001b[0m\u001b[0;34m\u001b[0m\u001b[0m\n",
      "\u001b[0;32m/Users/epetenko/anaconda/lib/python2.7/site-packages/pandas/core/internals.pyc\u001b[0m in \u001b[0;36mwhere\u001b[0;34m(self, **kwargs)\u001b[0m\n\u001b[1;32m   2906\u001b[0m \u001b[0;34m\u001b[0m\u001b[0m\n\u001b[1;32m   2907\u001b[0m     \u001b[0;32mdef\u001b[0m \u001b[0mwhere\u001b[0m\u001b[0;34m(\u001b[0m\u001b[0mself\u001b[0m\u001b[0;34m,\u001b[0m \u001b[0;34m**\u001b[0m\u001b[0mkwargs\u001b[0m\u001b[0;34m)\u001b[0m\u001b[0;34m:\u001b[0m\u001b[0;34m\u001b[0m\u001b[0m\n\u001b[0;32m-> 2908\u001b[0;31m         \u001b[0;32mreturn\u001b[0m \u001b[0mself\u001b[0m\u001b[0;34m.\u001b[0m\u001b[0mapply\u001b[0m\u001b[0;34m(\u001b[0m\u001b[0;34m'where'\u001b[0m\u001b[0;34m,\u001b[0m \u001b[0;34m**\u001b[0m\u001b[0mkwargs\u001b[0m\u001b[0;34m)\u001b[0m\u001b[0;34m\u001b[0m\u001b[0m\n\u001b[0m\u001b[1;32m   2909\u001b[0m \u001b[0;34m\u001b[0m\u001b[0m\n\u001b[1;32m   2910\u001b[0m     \u001b[0;32mdef\u001b[0m \u001b[0meval\u001b[0m\u001b[0;34m(\u001b[0m\u001b[0mself\u001b[0m\u001b[0;34m,\u001b[0m \u001b[0;34m**\u001b[0m\u001b[0mkwargs\u001b[0m\u001b[0;34m)\u001b[0m\u001b[0;34m:\u001b[0m\u001b[0;34m\u001b[0m\u001b[0m\n",
      "\u001b[0;32m/Users/epetenko/anaconda/lib/python2.7/site-packages/pandas/core/internals.pyc\u001b[0m in \u001b[0;36mapply\u001b[0;34m(self, f, axes, filter, do_integrity_check, consolidate, raw, **kwargs)\u001b[0m\n\u001b[1;32m   2885\u001b[0m                     \u001b[0maxis\u001b[0m \u001b[0;34m=\u001b[0m \u001b[0mgetattr\u001b[0m\u001b[0;34m(\u001b[0m\u001b[0mobj\u001b[0m\u001b[0;34m,\u001b[0m \u001b[0;34m'_info_axis_number'\u001b[0m\u001b[0;34m,\u001b[0m \u001b[0;36m0\u001b[0m\u001b[0;34m)\u001b[0m\u001b[0;34m\u001b[0m\u001b[0m\n\u001b[1;32m   2886\u001b[0m                     kwargs[k] = obj.reindex_axis(b_items, axis=axis,\n\u001b[0;32m-> 2887\u001b[0;31m                                                  copy=align_copy)\n\u001b[0m\u001b[1;32m   2888\u001b[0m \u001b[0;34m\u001b[0m\u001b[0m\n\u001b[1;32m   2889\u001b[0m             \u001b[0mkwargs\u001b[0m\u001b[0;34m[\u001b[0m\u001b[0;34m'mgr'\u001b[0m\u001b[0;34m]\u001b[0m \u001b[0;34m=\u001b[0m \u001b[0mself\u001b[0m\u001b[0;34m\u001b[0m\u001b[0m\n",
      "\u001b[0;32m/Users/epetenko/anaconda/lib/python2.7/site-packages/pandas/core/frame.pyc\u001b[0m in \u001b[0;36mreindex_axis\u001b[0;34m(self, labels, axis, method, level, copy, limit, fill_value)\u001b[0m\n\u001b[1;32m   2747\u001b[0m                      \u001b[0mself\u001b[0m\u001b[0;34m)\u001b[0m\u001b[0;34m.\u001b[0m\u001b[0mreindex_axis\u001b[0m\u001b[0;34m(\u001b[0m\u001b[0mlabels\u001b[0m\u001b[0;34m=\u001b[0m\u001b[0mlabels\u001b[0m\u001b[0;34m,\u001b[0m \u001b[0maxis\u001b[0m\u001b[0;34m=\u001b[0m\u001b[0maxis\u001b[0m\u001b[0;34m,\u001b[0m\u001b[0;34m\u001b[0m\u001b[0m\n\u001b[1;32m   2748\u001b[0m                                         \u001b[0mmethod\u001b[0m\u001b[0;34m=\u001b[0m\u001b[0mmethod\u001b[0m\u001b[0;34m,\u001b[0m \u001b[0mlevel\u001b[0m\u001b[0;34m=\u001b[0m\u001b[0mlevel\u001b[0m\u001b[0;34m,\u001b[0m \u001b[0mcopy\u001b[0m\u001b[0;34m=\u001b[0m\u001b[0mcopy\u001b[0m\u001b[0;34m,\u001b[0m\u001b[0;34m\u001b[0m\u001b[0m\n\u001b[0;32m-> 2749\u001b[0;31m                                         limit=limit, fill_value=fill_value)\n\u001b[0m\u001b[1;32m   2750\u001b[0m \u001b[0;34m\u001b[0m\u001b[0m\n\u001b[1;32m   2751\u001b[0m     \u001b[0;34m@\u001b[0m\u001b[0mAppender\u001b[0m\u001b[0;34m(\u001b[0m\u001b[0m_shared_docs\u001b[0m\u001b[0;34m[\u001b[0m\u001b[0;34m'rename'\u001b[0m\u001b[0;34m]\u001b[0m \u001b[0;34m%\u001b[0m \u001b[0m_shared_doc_kwargs\u001b[0m\u001b[0;34m)\u001b[0m\u001b[0;34m\u001b[0m\u001b[0m\n",
      "\u001b[0;32m/Users/epetenko/anaconda/lib/python2.7/site-packages/pandas/core/generic.pyc\u001b[0m in \u001b[0;36mreindex_axis\u001b[0;34m(self, labels, axis, method, level, copy, limit, fill_value)\u001b[0m\n\u001b[1;32m   2316\u001b[0m                                                  limit=limit)\n\u001b[1;32m   2317\u001b[0m         return self._reindex_with_indexers({axis: [new_index, indexer]},\n\u001b[0;32m-> 2318\u001b[0;31m                                            fill_value=fill_value, copy=copy)\n\u001b[0m\u001b[1;32m   2319\u001b[0m \u001b[0;34m\u001b[0m\u001b[0m\n\u001b[1;32m   2320\u001b[0m     def _reindex_with_indexers(self, reindexers, fill_value=np.nan, copy=False,\n",
      "\u001b[0;32m/Users/epetenko/anaconda/lib/python2.7/site-packages/pandas/core/generic.pyc\u001b[0m in \u001b[0;36m_reindex_with_indexers\u001b[0;34m(self, reindexers, fill_value, copy, allow_dups)\u001b[0m\n\u001b[1;32m   2339\u001b[0m                                                 \u001b[0mfill_value\u001b[0m\u001b[0;34m=\u001b[0m\u001b[0mfill_value\u001b[0m\u001b[0;34m,\u001b[0m\u001b[0;34m\u001b[0m\u001b[0m\n\u001b[1;32m   2340\u001b[0m                                                 \u001b[0mallow_dups\u001b[0m\u001b[0;34m=\u001b[0m\u001b[0mallow_dups\u001b[0m\u001b[0;34m,\u001b[0m\u001b[0;34m\u001b[0m\u001b[0m\n\u001b[0;32m-> 2341\u001b[0;31m                                                 copy=copy)\n\u001b[0m\u001b[1;32m   2342\u001b[0m \u001b[0;34m\u001b[0m\u001b[0m\n\u001b[1;32m   2343\u001b[0m         \u001b[0;32mif\u001b[0m \u001b[0mcopy\u001b[0m \u001b[0;32mand\u001b[0m \u001b[0mnew_data\u001b[0m \u001b[0;32mis\u001b[0m \u001b[0mself\u001b[0m\u001b[0;34m.\u001b[0m\u001b[0m_data\u001b[0m\u001b[0;34m:\u001b[0m\u001b[0;34m\u001b[0m\u001b[0m\n",
      "\u001b[0;32m/Users/epetenko/anaconda/lib/python2.7/site-packages/pandas/core/internals.pyc\u001b[0m in \u001b[0;36mreindex_indexer\u001b[0;34m(self, new_axis, indexer, axis, fill_value, allow_dups, copy)\u001b[0m\n\u001b[1;32m   3584\u001b[0m         \u001b[0;31m# some axes don't allow reindexing with dups\u001b[0m\u001b[0;34m\u001b[0m\u001b[0;34m\u001b[0m\u001b[0m\n\u001b[1;32m   3585\u001b[0m         \u001b[0;32mif\u001b[0m \u001b[0;32mnot\u001b[0m \u001b[0mallow_dups\u001b[0m\u001b[0;34m:\u001b[0m\u001b[0;34m\u001b[0m\u001b[0m\n\u001b[0;32m-> 3586\u001b[0;31m             \u001b[0mself\u001b[0m\u001b[0;34m.\u001b[0m\u001b[0maxes\u001b[0m\u001b[0;34m[\u001b[0m\u001b[0maxis\u001b[0m\u001b[0;34m]\u001b[0m\u001b[0;34m.\u001b[0m\u001b[0m_can_reindex\u001b[0m\u001b[0;34m(\u001b[0m\u001b[0mindexer\u001b[0m\u001b[0;34m)\u001b[0m\u001b[0;34m\u001b[0m\u001b[0m\n\u001b[0m\u001b[1;32m   3587\u001b[0m \u001b[0;34m\u001b[0m\u001b[0m\n\u001b[1;32m   3588\u001b[0m         \u001b[0;32mif\u001b[0m \u001b[0maxis\u001b[0m \u001b[0;34m>=\u001b[0m \u001b[0mself\u001b[0m\u001b[0;34m.\u001b[0m\u001b[0mndim\u001b[0m\u001b[0;34m:\u001b[0m\u001b[0;34m\u001b[0m\u001b[0m\n",
      "\u001b[0;32m/Users/epetenko/anaconda/lib/python2.7/site-packages/pandas/indexes/base.pyc\u001b[0m in \u001b[0;36m_can_reindex\u001b[0;34m(self, indexer)\u001b[0m\n\u001b[1;32m   2291\u001b[0m         \u001b[0;31m# trying to reindex on an axis with duplicates\u001b[0m\u001b[0;34m\u001b[0m\u001b[0;34m\u001b[0m\u001b[0m\n\u001b[1;32m   2292\u001b[0m         \u001b[0;32mif\u001b[0m \u001b[0;32mnot\u001b[0m \u001b[0mself\u001b[0m\u001b[0;34m.\u001b[0m\u001b[0mis_unique\u001b[0m \u001b[0;32mand\u001b[0m \u001b[0mlen\u001b[0m\u001b[0;34m(\u001b[0m\u001b[0mindexer\u001b[0m\u001b[0;34m)\u001b[0m\u001b[0;34m:\u001b[0m\u001b[0;34m\u001b[0m\u001b[0m\n\u001b[0;32m-> 2293\u001b[0;31m             \u001b[0;32mraise\u001b[0m \u001b[0mValueError\u001b[0m\u001b[0;34m(\u001b[0m\u001b[0;34m\"cannot reindex from a duplicate axis\"\u001b[0m\u001b[0;34m)\u001b[0m\u001b[0;34m\u001b[0m\u001b[0m\n\u001b[0m\u001b[1;32m   2294\u001b[0m \u001b[0;34m\u001b[0m\u001b[0m\n\u001b[1;32m   2295\u001b[0m     def reindex(self, target, method=None, level=None, limit=None,\n",
      "\u001b[0;31mValueError\u001b[0m: cannot reindex from a duplicate axis"
     ]
    }
   ],
   "source": [
    "muni_merge = muni_merge[muni_merge['GEOdisplaylabel'] != \"County subdivisions not defined\"]"
   ]
  },
  {
   "cell_type": "code",
   "execution_count": 205,
   "metadata": {
    "collapsed": true
   },
   "outputs": [],
   "source": [
    "muni_merge.to_csv(\"housingvalues.csv\")"
   ]
  }
 ],
 "metadata": {
  "anaconda-cloud": {},
  "kernelspec": {
   "display_name": "Python [Root]",
   "language": "python",
   "name": "Python [Root]"
  },
  "language_info": {
   "codemirror_mode": {
    "name": "ipython",
    "version": 2
   },
   "file_extension": ".py",
   "mimetype": "text/x-python",
   "name": "python",
   "nbconvert_exporter": "python",
   "pygments_lexer": "ipython2",
   "version": "2.7.12"
  }
 },
 "nbformat": 4,
 "nbformat_minor": 0
}
