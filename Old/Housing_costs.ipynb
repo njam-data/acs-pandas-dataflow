{
 "cells": [
  {
   "cell_type": "code",
   "execution_count": 35,
   "metadata": {
    "collapsed": true
   },
   "outputs": [],
   "source": [
    "import pandas as pd"
   ]
  },
  {
   "cell_type": "code",
   "execution_count": 36,
   "metadata": {
    "collapsed": false
   },
   "outputs": [],
   "source": [
    "latestmuni = pd.read_csv(\"2015medianmuni/ACS_15_5YR_B25088_with_ann.csv\")\n",
    "prevmuni = pd.read_csv(\"2009medianmuni/ACS_09_5YR_B25088_with_ann.csv\")\n",
    "prevcounty=pd.read_csv(\"2009mediancounty/ACS_09_5YR_B25088_with_ann.csv\")\n",
    "latestcounty=pd.read_csv(\"2015mediancounty/ACS_15_5YR_B25088_with_ann.csv\")"
   ]
  },
  {
   "cell_type": "code",
   "execution_count": 37,
   "metadata": {
    "collapsed": false
   },
   "outputs": [],
   "source": [
    "# Drop added row\n",
    "latestmuni = latestmuni[latestmuni['GEO.id'] != 'Id']\n",
    "prevmuni = prevmuni[prevmuni['GEO.id'] != 'Id']\n",
    "latestcounty = latestcounty[latestcounty['GEO.id'] != 'Id']\n",
    "prevcounty = prevcounty[prevcounty['GEO.id'] != 'Id']"
   ]
  },
  {
   "cell_type": "code",
   "execution_count": null,
   "metadata": {
    "collapsed": false
   },
   "outputs": [],
   "source": []
  },
  {
   "cell_type": "code",
   "execution_count": 38,
   "metadata": {
    "collapsed": false
   },
   "outputs": [],
   "source": [
    "latestframes= [latestmuni, latestcounty]\n",
    "prevframes=[prevmuni, prevcounty]\n",
    "latestmuni = pd.concat(latestframes, ignore_index=True)\n",
    "prevmuni = pd.concat(prevframes, ignore_index=True)"
   ]
  },
  {
   "cell_type": "code",
   "execution_count": 39,
   "metadata": {
    "collapsed": false
   },
   "outputs": [],
   "source": [
    "latestmuni = latestmuni.rename(columns={ # yes, we could have done this when we read in the CSV\n",
    "        'HD01_VD02': '2015cost',\n",
    "        'HD02_VD02': '2015costmoe',\n",
    "    })\n",
    "prevmuni = prevmuni.rename(columns={ # yes, we could have done this when we read in the CSV\n",
    "        'HD01_VD02': '2009costwoinf',\n",
    "        'HD02_VD02': '2009costmoewoinf',\n",
    "    })\n",
    "latestmuni = latestmuni.drop([\"HD01_VD03\",'HD02_VD03', 'HD01_VD04', 'HD02_VD04'], axis=1)\n",
    "prevmuni = prevmuni.drop([\"HD01_VD03\",'HD02_VD03', 'HD01_VD04', 'HD02_VD04'], axis=1)\n"
   ]
  },
  {
   "cell_type": "code",
   "execution_count": 41,
   "metadata": {
    "collapsed": false
   },
   "outputs": [
    {
     "data": {
      "text/html": [
       "<div>\n",
       "<table border=\"1\" class=\"dataframe\">\n",
       "  <thead>\n",
       "    <tr style=\"text-align: right;\">\n",
       "      <th></th>\n",
       "      <th>GEO.id</th>\n",
       "      <th>GEO.id2</th>\n",
       "      <th>GEO.display-label</th>\n",
       "      <th>2015cost</th>\n",
       "      <th>2015costmoe</th>\n",
       "    </tr>\n",
       "  </thead>\n",
       "  <tbody>\n",
       "    <tr>\n",
       "      <th>0</th>\n",
       "      <td>0600000US3400100000</td>\n",
       "      <td>3400100000</td>\n",
       "      <td>County subdivisions not defined, Atlantic Coun...</td>\n",
       "      <td>-</td>\n",
       "      <td>**</td>\n",
       "    </tr>\n",
       "    <tr>\n",
       "      <th>1</th>\n",
       "      <td>0600000US3400100100</td>\n",
       "      <td>3400100100</td>\n",
       "      <td>Absecon city, Atlantic County, New Jersey</td>\n",
       "      <td>1624</td>\n",
       "      <td>141</td>\n",
       "    </tr>\n",
       "    <tr>\n",
       "      <th>2</th>\n",
       "      <td>0600000US3400102080</td>\n",
       "      <td>3400102080</td>\n",
       "      <td>Atlantic City city, Atlantic County, New Jersey</td>\n",
       "      <td>1487</td>\n",
       "      <td>90</td>\n",
       "    </tr>\n",
       "    <tr>\n",
       "      <th>3</th>\n",
       "      <td>0600000US3400107810</td>\n",
       "      <td>3400107810</td>\n",
       "      <td>Brigantine city, Atlantic County, New Jersey</td>\n",
       "      <td>1450</td>\n",
       "      <td>121</td>\n",
       "    </tr>\n",
       "    <tr>\n",
       "      <th>4</th>\n",
       "      <td>0600000US3400108680</td>\n",
       "      <td>3400108680</td>\n",
       "      <td>Buena borough, Atlantic County, New Jersey</td>\n",
       "      <td>1397</td>\n",
       "      <td>127</td>\n",
       "    </tr>\n",
       "  </tbody>\n",
       "</table>\n",
       "</div>"
      ],
      "text/plain": [
       "                GEO.id     GEO.id2  \\\n",
       "0  0600000US3400100000  3400100000   \n",
       "1  0600000US3400100100  3400100100   \n",
       "2  0600000US3400102080  3400102080   \n",
       "3  0600000US3400107810  3400107810   \n",
       "4  0600000US3400108680  3400108680   \n",
       "\n",
       "                                   GEO.display-label 2015cost 2015costmoe  \n",
       "0  County subdivisions not defined, Atlantic Coun...        -          **  \n",
       "1          Absecon city, Atlantic County, New Jersey     1624         141  \n",
       "2    Atlantic City city, Atlantic County, New Jersey     1487          90  \n",
       "3       Brigantine city, Atlantic County, New Jersey     1450         121  \n",
       "4         Buena borough, Atlantic County, New Jersey     1397         127  "
      ]
     },
     "execution_count": 41,
     "metadata": {},
     "output_type": "execute_result"
    }
   ],
   "source": [
    "latestmuni.head()"
   ]
  },
  {
   "cell_type": "code",
   "execution_count": 42,
   "metadata": {
    "collapsed": false
   },
   "outputs": [],
   "source": [
    "# Remove \"new jersey\" label\n",
    "latestmuni['GEOdisplaylabel'] = latestmuni['GEO.display-label'].replace(to_replace=', New Jersey', value='', regex=True)\n",
    "prevmuni['GEOdisplaylabel'] = prevmuni['GEO.display-label'].replace(to_replace=', New Jersey', value='', regex=True)"
   ]
  },
  {
   "cell_type": "code",
   "execution_count": 43,
   "metadata": {
    "collapsed": false
   },
   "outputs": [
    {
     "data": {
      "text/html": [
       "<div>\n",
       "<table border=\"1\" class=\"dataframe\">\n",
       "  <thead>\n",
       "    <tr style=\"text-align: right;\">\n",
       "      <th></th>\n",
       "      <th>GEO.id</th>\n",
       "      <th>GEO.id2</th>\n",
       "      <th>GEO.display-label</th>\n",
       "      <th>2015cost</th>\n",
       "      <th>2015costmoe</th>\n",
       "      <th>GEOdisplaylabel</th>\n",
       "    </tr>\n",
       "  </thead>\n",
       "  <tbody>\n",
       "    <tr>\n",
       "      <th>0</th>\n",
       "      <td>0600000US3400100000</td>\n",
       "      <td>3400100000</td>\n",
       "      <td>County subdivisions not defined, Atlantic Coun...</td>\n",
       "      <td>-</td>\n",
       "      <td>**</td>\n",
       "      <td>County subdivisions not defined, Atlantic County</td>\n",
       "    </tr>\n",
       "    <tr>\n",
       "      <th>1</th>\n",
       "      <td>0600000US3400100100</td>\n",
       "      <td>3400100100</td>\n",
       "      <td>Absecon city, Atlantic County, New Jersey</td>\n",
       "      <td>1624</td>\n",
       "      <td>141</td>\n",
       "      <td>Absecon city, Atlantic County</td>\n",
       "    </tr>\n",
       "    <tr>\n",
       "      <th>2</th>\n",
       "      <td>0600000US3400102080</td>\n",
       "      <td>3400102080</td>\n",
       "      <td>Atlantic City city, Atlantic County, New Jersey</td>\n",
       "      <td>1487</td>\n",
       "      <td>90</td>\n",
       "      <td>Atlantic City city, Atlantic County</td>\n",
       "    </tr>\n",
       "    <tr>\n",
       "      <th>3</th>\n",
       "      <td>0600000US3400107810</td>\n",
       "      <td>3400107810</td>\n",
       "      <td>Brigantine city, Atlantic County, New Jersey</td>\n",
       "      <td>1450</td>\n",
       "      <td>121</td>\n",
       "      <td>Brigantine city, Atlantic County</td>\n",
       "    </tr>\n",
       "    <tr>\n",
       "      <th>4</th>\n",
       "      <td>0600000US3400108680</td>\n",
       "      <td>3400108680</td>\n",
       "      <td>Buena borough, Atlantic County, New Jersey</td>\n",
       "      <td>1397</td>\n",
       "      <td>127</td>\n",
       "      <td>Buena borough, Atlantic County</td>\n",
       "    </tr>\n",
       "  </tbody>\n",
       "</table>\n",
       "</div>"
      ],
      "text/plain": [
       "                GEO.id     GEO.id2  \\\n",
       "0  0600000US3400100000  3400100000   \n",
       "1  0600000US3400100100  3400100100   \n",
       "2  0600000US3400102080  3400102080   \n",
       "3  0600000US3400107810  3400107810   \n",
       "4  0600000US3400108680  3400108680   \n",
       "\n",
       "                                   GEO.display-label 2015cost 2015costmoe  \\\n",
       "0  County subdivisions not defined, Atlantic Coun...        -          **   \n",
       "1          Absecon city, Atlantic County, New Jersey     1624         141   \n",
       "2    Atlantic City city, Atlantic County, New Jersey     1487          90   \n",
       "3       Brigantine city, Atlantic County, New Jersey     1450         121   \n",
       "4         Buena borough, Atlantic County, New Jersey     1397         127   \n",
       "\n",
       "                                    GEOdisplaylabel  \n",
       "0  County subdivisions not defined, Atlantic County  \n",
       "1                     Absecon city, Atlantic County  \n",
       "2               Atlantic City city, Atlantic County  \n",
       "3                  Brigantine city, Atlantic County  \n",
       "4                    Buena borough, Atlantic County  "
      ]
     },
     "execution_count": 43,
     "metadata": {},
     "output_type": "execute_result"
    }
   ],
   "source": [
    "latestmuni.head()"
   ]
  },
  {
   "cell_type": "code",
   "execution_count": 44,
   "metadata": {
    "collapsed": true
   },
   "outputs": [],
   "source": [
    "# Split town and county names\n",
    "latest_newcols = pd.DataFrame(latestmuni.GEOdisplaylabel.str.split(',',1).tolist(), columns = ['GEOdisplaylabel', 'County'])\n",
    "prev_newcols = pd.DataFrame(prevmuni.GEOdisplaylabel.str.split(',',1).tolist(), columns = ['GEOdisplaylabel', 'County'])"
   ]
  },
  {
   "cell_type": "code",
   "execution_count": 45,
   "metadata": {
    "collapsed": false
   },
   "outputs": [],
   "source": [
    "latestmuni = pd.concat([latest_newcols, latestmuni], axis=1)\n",
    "prevmuni = pd.concat([prev_newcols, prevmuni], axis=1)"
   ]
  },
  {
   "cell_type": "code",
   "execution_count": 46,
   "metadata": {
    "collapsed": false
   },
   "outputs": [],
   "source": [
    "# Remove county label\n",
    "latestmuni['County'] = latestmuni['County'].replace(to_replace='County', value='', regex=True)\n",
    "prevmuni['County'] = prevmuni['County'].replace(to_replace='County', value='', regex=True)\n"
   ]
  },
  {
   "cell_type": "code",
   "execution_count": 48,
   "metadata": {
    "collapsed": false
   },
   "outputs": [
    {
     "data": {
      "text/html": [
       "<div>\n",
       "<table border=\"1\" class=\"dataframe\">\n",
       "  <thead>\n",
       "    <tr style=\"text-align: right;\">\n",
       "      <th></th>\n",
       "      <th>GEOdisplaylabel</th>\n",
       "      <th>County</th>\n",
       "      <th>GEO.id</th>\n",
       "      <th>GEO.id2</th>\n",
       "      <th>GEO.display-label</th>\n",
       "      <th>2009costwoinf</th>\n",
       "      <th>2009costmoewoinf</th>\n",
       "      <th>GEOdisplaylabel</th>\n",
       "    </tr>\n",
       "  </thead>\n",
       "  <tbody>\n",
       "    <tr>\n",
       "      <th>0</th>\n",
       "      <td>County subdivisions not defined</td>\n",
       "      <td>Atlantic</td>\n",
       "      <td>0600000US3400100000</td>\n",
       "      <td>3400100000</td>\n",
       "      <td>County subdivisions not defined, Atlantic Coun...</td>\n",
       "      <td>-</td>\n",
       "      <td>**</td>\n",
       "      <td>County subdivisions not defined, Atlantic County</td>\n",
       "    </tr>\n",
       "    <tr>\n",
       "      <th>1</th>\n",
       "      <td>Absecon city</td>\n",
       "      <td>Atlantic</td>\n",
       "      <td>0600000US3400100100</td>\n",
       "      <td>3400100100</td>\n",
       "      <td>Absecon city, Atlantic County, New Jersey</td>\n",
       "      <td>1530</td>\n",
       "      <td>117</td>\n",
       "      <td>Absecon city, Atlantic County</td>\n",
       "    </tr>\n",
       "    <tr>\n",
       "      <th>2</th>\n",
       "      <td>Atlantic City city</td>\n",
       "      <td>Atlantic</td>\n",
       "      <td>0600000US3400102080</td>\n",
       "      <td>3400102080</td>\n",
       "      <td>Atlantic City city, Atlantic County, New Jersey</td>\n",
       "      <td>1325</td>\n",
       "      <td>90</td>\n",
       "      <td>Atlantic City city, Atlantic County</td>\n",
       "    </tr>\n",
       "    <tr>\n",
       "      <th>3</th>\n",
       "      <td>Brigantine city</td>\n",
       "      <td>Atlantic</td>\n",
       "      <td>0600000US3400107810</td>\n",
       "      <td>3400107810</td>\n",
       "      <td>Brigantine city, Atlantic County, New Jersey</td>\n",
       "      <td>1471</td>\n",
       "      <td>118</td>\n",
       "      <td>Brigantine city, Atlantic County</td>\n",
       "    </tr>\n",
       "    <tr>\n",
       "      <th>4</th>\n",
       "      <td>Buena borough</td>\n",
       "      <td>Atlantic</td>\n",
       "      <td>0600000US3400108680</td>\n",
       "      <td>3400108680</td>\n",
       "      <td>Buena borough, Atlantic County, New Jersey</td>\n",
       "      <td>1192</td>\n",
       "      <td>281</td>\n",
       "      <td>Buena borough, Atlantic County</td>\n",
       "    </tr>\n",
       "  </tbody>\n",
       "</table>\n",
       "</div>"
      ],
      "text/plain": [
       "                   GEOdisplaylabel      County               GEO.id  \\\n",
       "0  County subdivisions not defined   Atlantic   0600000US3400100000   \n",
       "1                     Absecon city   Atlantic   0600000US3400100100   \n",
       "2               Atlantic City city   Atlantic   0600000US3400102080   \n",
       "3                  Brigantine city   Atlantic   0600000US3400107810   \n",
       "4                    Buena borough   Atlantic   0600000US3400108680   \n",
       "\n",
       "      GEO.id2                                  GEO.display-label  \\\n",
       "0  3400100000  County subdivisions not defined, Atlantic Coun...   \n",
       "1  3400100100          Absecon city, Atlantic County, New Jersey   \n",
       "2  3400102080    Atlantic City city, Atlantic County, New Jersey   \n",
       "3  3400107810       Brigantine city, Atlantic County, New Jersey   \n",
       "4  3400108680         Buena borough, Atlantic County, New Jersey   \n",
       "\n",
       "  2009costwoinf 2009costmoewoinf  \\\n",
       "0             -               **   \n",
       "1          1530              117   \n",
       "2          1325               90   \n",
       "3          1471              118   \n",
       "4          1192              281   \n",
       "\n",
       "                                    GEOdisplaylabel  \n",
       "0  County subdivisions not defined, Atlantic County  \n",
       "1                     Absecon city, Atlantic County  \n",
       "2               Atlantic City city, Atlantic County  \n",
       "3                  Brigantine city, Atlantic County  \n",
       "4                    Buena borough, Atlantic County  "
      ]
     },
     "execution_count": 48,
     "metadata": {},
     "output_type": "execute_result"
    }
   ],
   "source": [
    "prevmuni.head()"
   ]
  },
  {
   "cell_type": "code",
   "execution_count": 49,
   "metadata": {
    "collapsed": true
   },
   "outputs": [],
   "source": [
    "muni_merge = pd.merge(latestmuni, prevmuni, left_on='GEO.id2', right_on='GEO.id2', how='left')"
   ]
  },
  {
   "cell_type": "code",
   "execution_count": 50,
   "metadata": {
    "collapsed": false
   },
   "outputs": [
    {
     "data": {
      "text/html": [
       "<div>\n",
       "<table border=\"1\" class=\"dataframe\">\n",
       "  <thead>\n",
       "    <tr style=\"text-align: right;\">\n",
       "      <th></th>\n",
       "      <th>GEOdisplaylabel_x</th>\n",
       "      <th>County_x</th>\n",
       "      <th>GEO.id_x</th>\n",
       "      <th>GEO.id2</th>\n",
       "      <th>GEO.display-label_x</th>\n",
       "      <th>2015cost</th>\n",
       "      <th>2015costmoe</th>\n",
       "      <th>GEOdisplaylabel_x</th>\n",
       "      <th>GEOdisplaylabel_y</th>\n",
       "      <th>County_y</th>\n",
       "      <th>GEO.id_y</th>\n",
       "      <th>GEO.display-label_y</th>\n",
       "      <th>2009costwoinf</th>\n",
       "      <th>2009costmoewoinf</th>\n",
       "      <th>GEOdisplaylabel_y</th>\n",
       "    </tr>\n",
       "  </thead>\n",
       "  <tbody>\n",
       "    <tr>\n",
       "      <th>0</th>\n",
       "      <td>County subdivisions not defined</td>\n",
       "      <td>Atlantic</td>\n",
       "      <td>0600000US3400100000</td>\n",
       "      <td>3400100000</td>\n",
       "      <td>County subdivisions not defined, Atlantic Coun...</td>\n",
       "      <td>-</td>\n",
       "      <td>**</td>\n",
       "      <td>County subdivisions not defined, Atlantic County</td>\n",
       "      <td>County subdivisions not defined</td>\n",
       "      <td>Atlantic</td>\n",
       "      <td>0600000US3400100000</td>\n",
       "      <td>County subdivisions not defined, Atlantic Coun...</td>\n",
       "      <td>-</td>\n",
       "      <td>**</td>\n",
       "      <td>County subdivisions not defined, Atlantic County</td>\n",
       "    </tr>\n",
       "    <tr>\n",
       "      <th>1</th>\n",
       "      <td>Absecon city</td>\n",
       "      <td>Atlantic</td>\n",
       "      <td>0600000US3400100100</td>\n",
       "      <td>3400100100</td>\n",
       "      <td>Absecon city, Atlantic County, New Jersey</td>\n",
       "      <td>1624</td>\n",
       "      <td>141</td>\n",
       "      <td>Absecon city, Atlantic County</td>\n",
       "      <td>Absecon city</td>\n",
       "      <td>Atlantic</td>\n",
       "      <td>0600000US3400100100</td>\n",
       "      <td>Absecon city, Atlantic County, New Jersey</td>\n",
       "      <td>1530</td>\n",
       "      <td>117</td>\n",
       "      <td>Absecon city, Atlantic County</td>\n",
       "    </tr>\n",
       "    <tr>\n",
       "      <th>2</th>\n",
       "      <td>Atlantic City city</td>\n",
       "      <td>Atlantic</td>\n",
       "      <td>0600000US3400102080</td>\n",
       "      <td>3400102080</td>\n",
       "      <td>Atlantic City city, Atlantic County, New Jersey</td>\n",
       "      <td>1487</td>\n",
       "      <td>90</td>\n",
       "      <td>Atlantic City city, Atlantic County</td>\n",
       "      <td>Atlantic City city</td>\n",
       "      <td>Atlantic</td>\n",
       "      <td>0600000US3400102080</td>\n",
       "      <td>Atlantic City city, Atlantic County, New Jersey</td>\n",
       "      <td>1325</td>\n",
       "      <td>90</td>\n",
       "      <td>Atlantic City city, Atlantic County</td>\n",
       "    </tr>\n",
       "    <tr>\n",
       "      <th>3</th>\n",
       "      <td>Brigantine city</td>\n",
       "      <td>Atlantic</td>\n",
       "      <td>0600000US3400107810</td>\n",
       "      <td>3400107810</td>\n",
       "      <td>Brigantine city, Atlantic County, New Jersey</td>\n",
       "      <td>1450</td>\n",
       "      <td>121</td>\n",
       "      <td>Brigantine city, Atlantic County</td>\n",
       "      <td>Brigantine city</td>\n",
       "      <td>Atlantic</td>\n",
       "      <td>0600000US3400107810</td>\n",
       "      <td>Brigantine city, Atlantic County, New Jersey</td>\n",
       "      <td>1471</td>\n",
       "      <td>118</td>\n",
       "      <td>Brigantine city, Atlantic County</td>\n",
       "    </tr>\n",
       "    <tr>\n",
       "      <th>4</th>\n",
       "      <td>Buena borough</td>\n",
       "      <td>Atlantic</td>\n",
       "      <td>0600000US3400108680</td>\n",
       "      <td>3400108680</td>\n",
       "      <td>Buena borough, Atlantic County, New Jersey</td>\n",
       "      <td>1397</td>\n",
       "      <td>127</td>\n",
       "      <td>Buena borough, Atlantic County</td>\n",
       "      <td>Buena borough</td>\n",
       "      <td>Atlantic</td>\n",
       "      <td>0600000US3400108680</td>\n",
       "      <td>Buena borough, Atlantic County, New Jersey</td>\n",
       "      <td>1192</td>\n",
       "      <td>281</td>\n",
       "      <td>Buena borough, Atlantic County</td>\n",
       "    </tr>\n",
       "  </tbody>\n",
       "</table>\n",
       "</div>"
      ],
      "text/plain": [
       "                 GEOdisplaylabel_x    County_x             GEO.id_x  \\\n",
       "0  County subdivisions not defined   Atlantic   0600000US3400100000   \n",
       "1                     Absecon city   Atlantic   0600000US3400100100   \n",
       "2               Atlantic City city   Atlantic   0600000US3400102080   \n",
       "3                  Brigantine city   Atlantic   0600000US3400107810   \n",
       "4                    Buena borough   Atlantic   0600000US3400108680   \n",
       "\n",
       "      GEO.id2                                GEO.display-label_x 2015cost  \\\n",
       "0  3400100000  County subdivisions not defined, Atlantic Coun...        -   \n",
       "1  3400100100          Absecon city, Atlantic County, New Jersey     1624   \n",
       "2  3400102080    Atlantic City city, Atlantic County, New Jersey     1487   \n",
       "3  3400107810       Brigantine city, Atlantic County, New Jersey     1450   \n",
       "4  3400108680         Buena borough, Atlantic County, New Jersey     1397   \n",
       "\n",
       "  2015costmoe                                 GEOdisplaylabel_x  \\\n",
       "0          **  County subdivisions not defined, Atlantic County   \n",
       "1         141                     Absecon city, Atlantic County   \n",
       "2          90               Atlantic City city, Atlantic County   \n",
       "3         121                  Brigantine city, Atlantic County   \n",
       "4         127                    Buena borough, Atlantic County   \n",
       "\n",
       "                 GEOdisplaylabel_y    County_y             GEO.id_y  \\\n",
       "0  County subdivisions not defined   Atlantic   0600000US3400100000   \n",
       "1                     Absecon city   Atlantic   0600000US3400100100   \n",
       "2               Atlantic City city   Atlantic   0600000US3400102080   \n",
       "3                  Brigantine city   Atlantic   0600000US3400107810   \n",
       "4                    Buena borough   Atlantic   0600000US3400108680   \n",
       "\n",
       "                                 GEO.display-label_y 2009costwoinf  \\\n",
       "0  County subdivisions not defined, Atlantic Coun...             -   \n",
       "1          Absecon city, Atlantic County, New Jersey          1530   \n",
       "2    Atlantic City city, Atlantic County, New Jersey          1325   \n",
       "3       Brigantine city, Atlantic County, New Jersey          1471   \n",
       "4         Buena borough, Atlantic County, New Jersey          1192   \n",
       "\n",
       "  2009costmoewoinf                                 GEOdisplaylabel_y  \n",
       "0               **  County subdivisions not defined, Atlantic County  \n",
       "1              117                     Absecon city, Atlantic County  \n",
       "2               90               Atlantic City city, Atlantic County  \n",
       "3              118                  Brigantine city, Atlantic County  \n",
       "4              281                    Buena borough, Atlantic County  "
      ]
     },
     "execution_count": 50,
     "metadata": {},
     "output_type": "execute_result"
    }
   ],
   "source": [
    "muni_merge.head()"
   ]
  },
  {
   "cell_type": "code",
   "execution_count": 52,
   "metadata": {
    "collapsed": false
   },
   "outputs": [],
   "source": [
    "muni_merge = muni_merge.drop([\"GEOdisplaylabel_y\",'GEO.display-label_y', 'County_y', 'GEO.id_y'], axis=1)\n",
    "muni_merge.rename(columns={'GEOdisplaylabel_x': 'GEOdisplaylabel', 'County_x': 'County', 'GEO.id_x': 'GEO.id', 'GEO.display-label_x': 'GEOdisplaylabel_long'}, inplace=True)"
   ]
  },
  {
   "cell_type": "code",
   "execution_count": 53,
   "metadata": {
    "collapsed": false
   },
   "outputs": [
    {
     "data": {
      "text/plain": [
       "GEOdisplaylabel         object\n",
       "County                  object\n",
       "GEO.id                  object\n",
       "GEO.id2                 object\n",
       "GEOdisplaylabel_long    object\n",
       "2015cost                object\n",
       "2015costmoe             object\n",
       "GEOdisplaylabel         object\n",
       "2009costwoinf           object\n",
       "2009costmoewoinf        object\n",
       "dtype: object"
      ]
     },
     "execution_count": 53,
     "metadata": {},
     "output_type": "execute_result"
    }
   ],
   "source": [
    "muni_merge.dtypes"
   ]
  },
  {
   "cell_type": "code",
   "execution_count": 54,
   "metadata": {
    "collapsed": false
   },
   "outputs": [],
   "source": [
    "muni_merge['2009_median_cost_temp'] = pd.to_numeric(muni_merge['2009costwoinf'], errors='coerce') * (.100469602)\n",
    "muni_merge[\"2009costwoinf\"] = pd.to_numeric(muni_merge[\"2009costwoinf\"], errors=\"coerce\")"
   ]
  },
  {
   "cell_type": "code",
   "execution_count": 55,
   "metadata": {
    "collapsed": false
   },
   "outputs": [],
   "source": [
    "muni_merge[\"2009_median_cost\"] = muni_merge[\"2009costwoinf\"] + muni_merge[\"2009_median_cost_temp\"]"
   ]
  },
  {
   "cell_type": "code",
   "execution_count": 56,
   "metadata": {
    "collapsed": true
   },
   "outputs": [],
   "source": [
    "muni_merge['2009_moe_cost_temp'] = pd.to_numeric(muni_merge['2009costmoewoinf'], errors='coerce') * (.100469602)\n",
    "muni_merge[\"2009costmoewoinf\"] = pd.to_numeric(muni_merge[\"2009costmoewoinf\"], errors=\"coerce\")"
   ]
  },
  {
   "cell_type": "code",
   "execution_count": 57,
   "metadata": {
    "collapsed": false
   },
   "outputs": [],
   "source": [
    "muni_merge[\"2009_median_cost_moe\"] = muni_merge[\"2009costmoewoinf\"] + muni_merge[\"2009_moe_cost_temp\"]"
   ]
  },
  {
   "cell_type": "code",
   "execution_count": 58,
   "metadata": {
    "collapsed": false
   },
   "outputs": [],
   "source": [
    "muni_merge = muni_merge.drop(['2009_median_cost_temp', '2009_moe_cost_temp'], axis=1)"
   ]
  },
  {
   "cell_type": "code",
   "execution_count": 59,
   "metadata": {
    "collapsed": false
   },
   "outputs": [
    {
     "data": {
      "text/html": [
       "<div>\n",
       "<table border=\"1\" class=\"dataframe\">\n",
       "  <thead>\n",
       "    <tr style=\"text-align: right;\">\n",
       "      <th></th>\n",
       "      <th>GEOdisplaylabel</th>\n",
       "      <th>County</th>\n",
       "      <th>GEO.id</th>\n",
       "      <th>GEO.id2</th>\n",
       "      <th>GEOdisplaylabel_long</th>\n",
       "      <th>2015cost</th>\n",
       "      <th>2015costmoe</th>\n",
       "      <th>GEOdisplaylabel</th>\n",
       "      <th>2009costwoinf</th>\n",
       "      <th>2009costmoewoinf</th>\n",
       "      <th>2009_median_cost</th>\n",
       "      <th>2009_median_cost_moe</th>\n",
       "    </tr>\n",
       "  </thead>\n",
       "  <tbody>\n",
       "    <tr>\n",
       "      <th>0</th>\n",
       "      <td>County subdivisions not defined</td>\n",
       "      <td>Atlantic</td>\n",
       "      <td>0600000US3400100000</td>\n",
       "      <td>3400100000</td>\n",
       "      <td>County subdivisions not defined, Atlantic Coun...</td>\n",
       "      <td>-</td>\n",
       "      <td>**</td>\n",
       "      <td>County subdivisions not defined, Atlantic County</td>\n",
       "      <td>NaN</td>\n",
       "      <td>NaN</td>\n",
       "      <td>NaN</td>\n",
       "      <td>NaN</td>\n",
       "    </tr>\n",
       "    <tr>\n",
       "      <th>1</th>\n",
       "      <td>Absecon city</td>\n",
       "      <td>Atlantic</td>\n",
       "      <td>0600000US3400100100</td>\n",
       "      <td>3400100100</td>\n",
       "      <td>Absecon city, Atlantic County, New Jersey</td>\n",
       "      <td>1624</td>\n",
       "      <td>141</td>\n",
       "      <td>Absecon city, Atlantic County</td>\n",
       "      <td>1530.0</td>\n",
       "      <td>117.0</td>\n",
       "      <td>1683.718491</td>\n",
       "      <td>128.754943</td>\n",
       "    </tr>\n",
       "    <tr>\n",
       "      <th>2</th>\n",
       "      <td>Atlantic City city</td>\n",
       "      <td>Atlantic</td>\n",
       "      <td>0600000US3400102080</td>\n",
       "      <td>3400102080</td>\n",
       "      <td>Atlantic City city, Atlantic County, New Jersey</td>\n",
       "      <td>1487</td>\n",
       "      <td>90</td>\n",
       "      <td>Atlantic City city, Atlantic County</td>\n",
       "      <td>1325.0</td>\n",
       "      <td>90.0</td>\n",
       "      <td>1458.122223</td>\n",
       "      <td>99.042264</td>\n",
       "    </tr>\n",
       "    <tr>\n",
       "      <th>3</th>\n",
       "      <td>Brigantine city</td>\n",
       "      <td>Atlantic</td>\n",
       "      <td>0600000US3400107810</td>\n",
       "      <td>3400107810</td>\n",
       "      <td>Brigantine city, Atlantic County, New Jersey</td>\n",
       "      <td>1450</td>\n",
       "      <td>121</td>\n",
       "      <td>Brigantine city, Atlantic County</td>\n",
       "      <td>1471.0</td>\n",
       "      <td>118.0</td>\n",
       "      <td>1618.790785</td>\n",
       "      <td>129.855413</td>\n",
       "    </tr>\n",
       "    <tr>\n",
       "      <th>4</th>\n",
       "      <td>Buena borough</td>\n",
       "      <td>Atlantic</td>\n",
       "      <td>0600000US3400108680</td>\n",
       "      <td>3400108680</td>\n",
       "      <td>Buena borough, Atlantic County, New Jersey</td>\n",
       "      <td>1397</td>\n",
       "      <td>127</td>\n",
       "      <td>Buena borough, Atlantic County</td>\n",
       "      <td>1192.0</td>\n",
       "      <td>281.0</td>\n",
       "      <td>1311.759766</td>\n",
       "      <td>309.231958</td>\n",
       "    </tr>\n",
       "  </tbody>\n",
       "</table>\n",
       "</div>"
      ],
      "text/plain": [
       "                   GEOdisplaylabel      County               GEO.id  \\\n",
       "0  County subdivisions not defined   Atlantic   0600000US3400100000   \n",
       "1                     Absecon city   Atlantic   0600000US3400100100   \n",
       "2               Atlantic City city   Atlantic   0600000US3400102080   \n",
       "3                  Brigantine city   Atlantic   0600000US3400107810   \n",
       "4                    Buena borough   Atlantic   0600000US3400108680   \n",
       "\n",
       "      GEO.id2                               GEOdisplaylabel_long 2015cost  \\\n",
       "0  3400100000  County subdivisions not defined, Atlantic Coun...        -   \n",
       "1  3400100100          Absecon city, Atlantic County, New Jersey     1624   \n",
       "2  3400102080    Atlantic City city, Atlantic County, New Jersey     1487   \n",
       "3  3400107810       Brigantine city, Atlantic County, New Jersey     1450   \n",
       "4  3400108680         Buena borough, Atlantic County, New Jersey     1397   \n",
       "\n",
       "  2015costmoe                                   GEOdisplaylabel  \\\n",
       "0          **  County subdivisions not defined, Atlantic County   \n",
       "1         141                     Absecon city, Atlantic County   \n",
       "2          90               Atlantic City city, Atlantic County   \n",
       "3         121                  Brigantine city, Atlantic County   \n",
       "4         127                    Buena borough, Atlantic County   \n",
       "\n",
       "   2009costwoinf  2009costmoewoinf  2009_median_cost  2009_median_cost_moe  \n",
       "0            NaN               NaN               NaN                   NaN  \n",
       "1         1530.0             117.0       1683.718491            128.754943  \n",
       "2         1325.0              90.0       1458.122223             99.042264  \n",
       "3         1471.0             118.0       1618.790785            129.855413  \n",
       "4         1192.0             281.0       1311.759766            309.231958  "
      ]
     },
     "execution_count": 59,
     "metadata": {},
     "output_type": "execute_result"
    }
   ],
   "source": [
    "muni_merge.head()"
   ]
  },
  {
   "cell_type": "code",
   "execution_count": 62,
   "metadata": {
    "collapsed": false
   },
   "outputs": [
    {
     "name": "stdout",
     "output_type": "stream",
     "text": [
      "2014.95984126\n",
      "1211.6170318\n"
     ]
    }
   ],
   "source": [
    "print (1831 * .100469602) + 1831\n",
    "# - //new jersey//\n",
    "print (1101 * .100469602) + 1101"
   ]
  },
  {
   "cell_type": "code",
   "execution_count": 60,
   "metadata": {
    "collapsed": false
   },
   "outputs": [],
   "source": [
    "muni_merge[\"2015costmoeper\"] = pd.to_numeric(muni_merge[\"2015costmoe\"],errors=\"coerce\")/ pd.to_numeric(muni_merge[\"2015cost\"], errors=\"coerce\")\n",
    "muni_merge[\"2009costmoeper\"] = pd.to_numeric(muni_merge[\"2009_median_cost_moe\"],errors=\"coerce\") / pd.to_numeric(muni_merge[\"2009_median_cost\"], errors=\"coerce\")"
   ]
  },
  {
   "cell_type": "code",
   "execution_count": 61,
   "metadata": {
    "collapsed": false
   },
   "outputs": [
    {
     "data": {
      "text/html": [
       "<div>\n",
       "<table border=\"1\" class=\"dataframe\">\n",
       "  <thead>\n",
       "    <tr style=\"text-align: right;\">\n",
       "      <th></th>\n",
       "      <th>GEOdisplaylabel</th>\n",
       "      <th>County</th>\n",
       "      <th>GEO.id</th>\n",
       "      <th>GEO.id2</th>\n",
       "      <th>GEOdisplaylabel_long</th>\n",
       "      <th>2015cost</th>\n",
       "      <th>2015costmoe</th>\n",
       "      <th>GEOdisplaylabel</th>\n",
       "      <th>2009costwoinf</th>\n",
       "      <th>2009costmoewoinf</th>\n",
       "      <th>2009_median_cost</th>\n",
       "      <th>2009_median_cost_moe</th>\n",
       "      <th>2015costmoeper</th>\n",
       "      <th>2009costmoeper</th>\n",
       "    </tr>\n",
       "  </thead>\n",
       "  <tbody>\n",
       "    <tr>\n",
       "      <th>0</th>\n",
       "      <td>County subdivisions not defined</td>\n",
       "      <td>Atlantic</td>\n",
       "      <td>0600000US3400100000</td>\n",
       "      <td>3400100000</td>\n",
       "      <td>County subdivisions not defined, Atlantic Coun...</td>\n",
       "      <td>-</td>\n",
       "      <td>**</td>\n",
       "      <td>County subdivisions not defined, Atlantic County</td>\n",
       "      <td>NaN</td>\n",
       "      <td>NaN</td>\n",
       "      <td>NaN</td>\n",
       "      <td>NaN</td>\n",
       "      <td>NaN</td>\n",
       "      <td>NaN</td>\n",
       "    </tr>\n",
       "    <tr>\n",
       "      <th>1</th>\n",
       "      <td>Absecon city</td>\n",
       "      <td>Atlantic</td>\n",
       "      <td>0600000US3400100100</td>\n",
       "      <td>3400100100</td>\n",
       "      <td>Absecon city, Atlantic County, New Jersey</td>\n",
       "      <td>1624</td>\n",
       "      <td>141</td>\n",
       "      <td>Absecon city, Atlantic County</td>\n",
       "      <td>1530.0</td>\n",
       "      <td>117.0</td>\n",
       "      <td>1683.718491</td>\n",
       "      <td>128.754943</td>\n",
       "      <td>0.086823</td>\n",
       "      <td>0.076471</td>\n",
       "    </tr>\n",
       "    <tr>\n",
       "      <th>2</th>\n",
       "      <td>Atlantic City city</td>\n",
       "      <td>Atlantic</td>\n",
       "      <td>0600000US3400102080</td>\n",
       "      <td>3400102080</td>\n",
       "      <td>Atlantic City city, Atlantic County, New Jersey</td>\n",
       "      <td>1487</td>\n",
       "      <td>90</td>\n",
       "      <td>Atlantic City city, Atlantic County</td>\n",
       "      <td>1325.0</td>\n",
       "      <td>90.0</td>\n",
       "      <td>1458.122223</td>\n",
       "      <td>99.042264</td>\n",
       "      <td>0.060525</td>\n",
       "      <td>0.067925</td>\n",
       "    </tr>\n",
       "    <tr>\n",
       "      <th>3</th>\n",
       "      <td>Brigantine city</td>\n",
       "      <td>Atlantic</td>\n",
       "      <td>0600000US3400107810</td>\n",
       "      <td>3400107810</td>\n",
       "      <td>Brigantine city, Atlantic County, New Jersey</td>\n",
       "      <td>1450</td>\n",
       "      <td>121</td>\n",
       "      <td>Brigantine city, Atlantic County</td>\n",
       "      <td>1471.0</td>\n",
       "      <td>118.0</td>\n",
       "      <td>1618.790785</td>\n",
       "      <td>129.855413</td>\n",
       "      <td>0.083448</td>\n",
       "      <td>0.080218</td>\n",
       "    </tr>\n",
       "    <tr>\n",
       "      <th>4</th>\n",
       "      <td>Buena borough</td>\n",
       "      <td>Atlantic</td>\n",
       "      <td>0600000US3400108680</td>\n",
       "      <td>3400108680</td>\n",
       "      <td>Buena borough, Atlantic County, New Jersey</td>\n",
       "      <td>1397</td>\n",
       "      <td>127</td>\n",
       "      <td>Buena borough, Atlantic County</td>\n",
       "      <td>1192.0</td>\n",
       "      <td>281.0</td>\n",
       "      <td>1311.759766</td>\n",
       "      <td>309.231958</td>\n",
       "      <td>0.090909</td>\n",
       "      <td>0.235738</td>\n",
       "    </tr>\n",
       "  </tbody>\n",
       "</table>\n",
       "</div>"
      ],
      "text/plain": [
       "                   GEOdisplaylabel      County               GEO.id  \\\n",
       "0  County subdivisions not defined   Atlantic   0600000US3400100000   \n",
       "1                     Absecon city   Atlantic   0600000US3400100100   \n",
       "2               Atlantic City city   Atlantic   0600000US3400102080   \n",
       "3                  Brigantine city   Atlantic   0600000US3400107810   \n",
       "4                    Buena borough   Atlantic   0600000US3400108680   \n",
       "\n",
       "      GEO.id2                               GEOdisplaylabel_long 2015cost  \\\n",
       "0  3400100000  County subdivisions not defined, Atlantic Coun...        -   \n",
       "1  3400100100          Absecon city, Atlantic County, New Jersey     1624   \n",
       "2  3400102080    Atlantic City city, Atlantic County, New Jersey     1487   \n",
       "3  3400107810       Brigantine city, Atlantic County, New Jersey     1450   \n",
       "4  3400108680         Buena borough, Atlantic County, New Jersey     1397   \n",
       "\n",
       "  2015costmoe                                   GEOdisplaylabel  \\\n",
       "0          **  County subdivisions not defined, Atlantic County   \n",
       "1         141                     Absecon city, Atlantic County   \n",
       "2          90               Atlantic City city, Atlantic County   \n",
       "3         121                  Brigantine city, Atlantic County   \n",
       "4         127                    Buena borough, Atlantic County   \n",
       "\n",
       "   2009costwoinf  2009costmoewoinf  2009_median_cost  2009_median_cost_moe  \\\n",
       "0            NaN               NaN               NaN                   NaN   \n",
       "1         1530.0             117.0       1683.718491            128.754943   \n",
       "2         1325.0              90.0       1458.122223             99.042264   \n",
       "3         1471.0             118.0       1618.790785            129.855413   \n",
       "4         1192.0             281.0       1311.759766            309.231958   \n",
       "\n",
       "   2015costmoeper  2009costmoeper  \n",
       "0             NaN             NaN  \n",
       "1        0.086823        0.076471  \n",
       "2        0.060525        0.067925  \n",
       "3        0.083448        0.080218  \n",
       "4        0.090909        0.235738  "
      ]
     },
     "execution_count": 61,
     "metadata": {},
     "output_type": "execute_result"
    }
   ],
   "source": [
    "muni_merge.head()"
   ]
  },
  {
   "cell_type": "code",
   "execution_count": 63,
   "metadata": {
    "collapsed": true
   },
   "outputs": [],
   "source": [
    "muni_merge[\"nj_latest\"] = 1901\n",
    "muni_merge[\"nj_previous\"] = 2014.95984126\n",
    "muni_merge[\"us_latest\"] = 1084\n",
    "muni_merge[\"us_previous\"] = 1211.6170318"
   ]
  },
  {
   "cell_type": "code",
   "execution_count": 64,
   "metadata": {
    "collapsed": false
   },
   "outputs": [],
   "source": [
    "muni_merge['cost_change'] = ((pd.to_numeric(muni_merge['2015cost'], errors='coerce') - muni_merge['2009_median_cost'])/muni_merge['2009_median_cost'])*100\n",
    "muni_merge['nj_cost_change'] = ((pd.to_numeric(muni_merge['nj_latest'], errors='coerce') - muni_merge['nj_previous'])/muni_merge['nj_previous'])*100\n",
    "muni_merge['us_cost_change'] = ((muni_merge['us_latest']-muni_merge['us_previous'])/muni_merge['us_previous'])*100\n"
   ]
  },
  {
   "cell_type": "code",
   "execution_count": 65,
   "metadata": {
    "collapsed": false
   },
   "outputs": [
    {
     "data": {
      "text/html": [
       "<div>\n",
       "<table border=\"1\" class=\"dataframe\">\n",
       "  <thead>\n",
       "    <tr style=\"text-align: right;\">\n",
       "      <th></th>\n",
       "      <th>GEOdisplaylabel</th>\n",
       "      <th>County</th>\n",
       "      <th>GEO.id</th>\n",
       "      <th>GEO.id2</th>\n",
       "      <th>GEOdisplaylabel_long</th>\n",
       "      <th>2015cost</th>\n",
       "      <th>2015costmoe</th>\n",
       "      <th>GEOdisplaylabel</th>\n",
       "      <th>2009costwoinf</th>\n",
       "      <th>2009costmoewoinf</th>\n",
       "      <th>...</th>\n",
       "      <th>2009_median_cost_moe</th>\n",
       "      <th>2015costmoeper</th>\n",
       "      <th>2009costmoeper</th>\n",
       "      <th>nj_latest</th>\n",
       "      <th>nj_previous</th>\n",
       "      <th>us_latest</th>\n",
       "      <th>us_previous</th>\n",
       "      <th>cost_change</th>\n",
       "      <th>nj_cost_change</th>\n",
       "      <th>us_cost_change</th>\n",
       "    </tr>\n",
       "  </thead>\n",
       "  <tbody>\n",
       "    <tr>\n",
       "      <th>0</th>\n",
       "      <td>County subdivisions not defined</td>\n",
       "      <td>Atlantic</td>\n",
       "      <td>0600000US3400100000</td>\n",
       "      <td>3400100000</td>\n",
       "      <td>County subdivisions not defined, Atlantic Coun...</td>\n",
       "      <td>-</td>\n",
       "      <td>**</td>\n",
       "      <td>County subdivisions not defined, Atlantic County</td>\n",
       "      <td>NaN</td>\n",
       "      <td>NaN</td>\n",
       "      <td>...</td>\n",
       "      <td>NaN</td>\n",
       "      <td>NaN</td>\n",
       "      <td>NaN</td>\n",
       "      <td>1901</td>\n",
       "      <td>2014.959841</td>\n",
       "      <td>1084</td>\n",
       "      <td>1211.617032</td>\n",
       "      <td>NaN</td>\n",
       "      <td>-5.655688</td>\n",
       "      <td>-10.532786</td>\n",
       "    </tr>\n",
       "    <tr>\n",
       "      <th>1</th>\n",
       "      <td>Absecon city</td>\n",
       "      <td>Atlantic</td>\n",
       "      <td>0600000US3400100100</td>\n",
       "      <td>3400100100</td>\n",
       "      <td>Absecon city, Atlantic County, New Jersey</td>\n",
       "      <td>1624</td>\n",
       "      <td>141</td>\n",
       "      <td>Absecon city, Atlantic County</td>\n",
       "      <td>1530.0</td>\n",
       "      <td>117.0</td>\n",
       "      <td>...</td>\n",
       "      <td>128.754943</td>\n",
       "      <td>0.086823</td>\n",
       "      <td>0.076471</td>\n",
       "      <td>1901</td>\n",
       "      <td>2014.959841</td>\n",
       "      <td>1084</td>\n",
       "      <td>1211.617032</td>\n",
       "      <td>-3.546822</td>\n",
       "      <td>-5.655688</td>\n",
       "      <td>-10.532786</td>\n",
       "    </tr>\n",
       "    <tr>\n",
       "      <th>2</th>\n",
       "      <td>Atlantic City city</td>\n",
       "      <td>Atlantic</td>\n",
       "      <td>0600000US3400102080</td>\n",
       "      <td>3400102080</td>\n",
       "      <td>Atlantic City city, Atlantic County, New Jersey</td>\n",
       "      <td>1487</td>\n",
       "      <td>90</td>\n",
       "      <td>Atlantic City city, Atlantic County</td>\n",
       "      <td>1325.0</td>\n",
       "      <td>90.0</td>\n",
       "      <td>...</td>\n",
       "      <td>99.042264</td>\n",
       "      <td>0.060525</td>\n",
       "      <td>0.067925</td>\n",
       "      <td>1901</td>\n",
       "      <td>2014.959841</td>\n",
       "      <td>1084</td>\n",
       "      <td>1211.617032</td>\n",
       "      <td>1.980477</td>\n",
       "      <td>-5.655688</td>\n",
       "      <td>-10.532786</td>\n",
       "    </tr>\n",
       "    <tr>\n",
       "      <th>3</th>\n",
       "      <td>Brigantine city</td>\n",
       "      <td>Atlantic</td>\n",
       "      <td>0600000US3400107810</td>\n",
       "      <td>3400107810</td>\n",
       "      <td>Brigantine city, Atlantic County, New Jersey</td>\n",
       "      <td>1450</td>\n",
       "      <td>121</td>\n",
       "      <td>Brigantine city, Atlantic County</td>\n",
       "      <td>1471.0</td>\n",
       "      <td>118.0</td>\n",
       "      <td>...</td>\n",
       "      <td>129.855413</td>\n",
       "      <td>0.083448</td>\n",
       "      <td>0.080218</td>\n",
       "      <td>1901</td>\n",
       "      <td>2014.959841</td>\n",
       "      <td>1084</td>\n",
       "      <td>1211.617032</td>\n",
       "      <td>-10.426967</td>\n",
       "      <td>-5.655688</td>\n",
       "      <td>-10.532786</td>\n",
       "    </tr>\n",
       "    <tr>\n",
       "      <th>4</th>\n",
       "      <td>Buena borough</td>\n",
       "      <td>Atlantic</td>\n",
       "      <td>0600000US3400108680</td>\n",
       "      <td>3400108680</td>\n",
       "      <td>Buena borough, Atlantic County, New Jersey</td>\n",
       "      <td>1397</td>\n",
       "      <td>127</td>\n",
       "      <td>Buena borough, Atlantic County</td>\n",
       "      <td>1192.0</td>\n",
       "      <td>281.0</td>\n",
       "      <td>...</td>\n",
       "      <td>309.231958</td>\n",
       "      <td>0.090909</td>\n",
       "      <td>0.235738</td>\n",
       "      <td>1901</td>\n",
       "      <td>2014.959841</td>\n",
       "      <td>1084</td>\n",
       "      <td>1211.617032</td>\n",
       "      <td>6.498159</td>\n",
       "      <td>-5.655688</td>\n",
       "      <td>-10.532786</td>\n",
       "    </tr>\n",
       "  </tbody>\n",
       "</table>\n",
       "<p>5 rows × 21 columns</p>\n",
       "</div>"
      ],
      "text/plain": [
       "                   GEOdisplaylabel      County               GEO.id  \\\n",
       "0  County subdivisions not defined   Atlantic   0600000US3400100000   \n",
       "1                     Absecon city   Atlantic   0600000US3400100100   \n",
       "2               Atlantic City city   Atlantic   0600000US3400102080   \n",
       "3                  Brigantine city   Atlantic   0600000US3400107810   \n",
       "4                    Buena borough   Atlantic   0600000US3400108680   \n",
       "\n",
       "      GEO.id2                               GEOdisplaylabel_long 2015cost  \\\n",
       "0  3400100000  County subdivisions not defined, Atlantic Coun...        -   \n",
       "1  3400100100          Absecon city, Atlantic County, New Jersey     1624   \n",
       "2  3400102080    Atlantic City city, Atlantic County, New Jersey     1487   \n",
       "3  3400107810       Brigantine city, Atlantic County, New Jersey     1450   \n",
       "4  3400108680         Buena borough, Atlantic County, New Jersey     1397   \n",
       "\n",
       "  2015costmoe                                   GEOdisplaylabel  \\\n",
       "0          **  County subdivisions not defined, Atlantic County   \n",
       "1         141                     Absecon city, Atlantic County   \n",
       "2          90               Atlantic City city, Atlantic County   \n",
       "3         121                  Brigantine city, Atlantic County   \n",
       "4         127                    Buena borough, Atlantic County   \n",
       "\n",
       "   2009costwoinf  2009costmoewoinf       ...        2009_median_cost_moe  \\\n",
       "0            NaN               NaN       ...                         NaN   \n",
       "1         1530.0             117.0       ...                  128.754943   \n",
       "2         1325.0              90.0       ...                   99.042264   \n",
       "3         1471.0             118.0       ...                  129.855413   \n",
       "4         1192.0             281.0       ...                  309.231958   \n",
       "\n",
       "   2015costmoeper  2009costmoeper  nj_latest  nj_previous  us_latest  \\\n",
       "0             NaN             NaN       1901  2014.959841       1084   \n",
       "1        0.086823        0.076471       1901  2014.959841       1084   \n",
       "2        0.060525        0.067925       1901  2014.959841       1084   \n",
       "3        0.083448        0.080218       1901  2014.959841       1084   \n",
       "4        0.090909        0.235738       1901  2014.959841       1084   \n",
       "\n",
       "   us_previous  cost_change  nj_cost_change  us_cost_change  \n",
       "0  1211.617032          NaN       -5.655688      -10.532786  \n",
       "1  1211.617032    -3.546822       -5.655688      -10.532786  \n",
       "2  1211.617032     1.980477       -5.655688      -10.532786  \n",
       "3  1211.617032   -10.426967       -5.655688      -10.532786  \n",
       "4  1211.617032     6.498159       -5.655688      -10.532786  \n",
       "\n",
       "[5 rows x 21 columns]"
      ]
     },
     "execution_count": 65,
     "metadata": {},
     "output_type": "execute_result"
    }
   ],
   "source": [
    "muni_merge.head()"
   ]
  },
  {
   "cell_type": "code",
   "execution_count": 66,
   "metadata": {
    "collapsed": false
   },
   "outputs": [
    {
     "ename": "ValueError",
     "evalue": "cannot reindex from a duplicate axis",
     "output_type": "error",
     "traceback": [
      "\u001b[0;31m---------------------------------------------------------------------------\u001b[0m",
      "\u001b[0;31mValueError\u001b[0m                                Traceback (most recent call last)",
      "\u001b[0;32m<ipython-input-66-63d06637bcd1>\u001b[0m in \u001b[0;36m<module>\u001b[0;34m()\u001b[0m\n\u001b[0;32m----> 1\u001b[0;31m \u001b[0mmuni_merge\u001b[0m \u001b[0;34m=\u001b[0m \u001b[0mmuni_merge\u001b[0m\u001b[0;34m[\u001b[0m\u001b[0mmuni_merge\u001b[0m\u001b[0;34m[\u001b[0m\u001b[0;34m\"GEOdisplaylabel\"\u001b[0m\u001b[0;34m]\u001b[0m \u001b[0;34m!=\u001b[0m \u001b[0;34m\"County subdivisions not defined\"\u001b[0m\u001b[0;34m]\u001b[0m\u001b[0;34m\u001b[0m\u001b[0m\n\u001b[0m",
      "\u001b[0;32m/Users/epetenko/anaconda/lib/python2.7/site-packages/pandas/core/frame.pyc\u001b[0m in \u001b[0;36m__getitem__\u001b[0;34m(self, key)\u001b[0m\n\u001b[1;32m   1991\u001b[0m             \u001b[0;32mreturn\u001b[0m \u001b[0mself\u001b[0m\u001b[0;34m.\u001b[0m\u001b[0m_getitem_array\u001b[0m\u001b[0;34m(\u001b[0m\u001b[0mkey\u001b[0m\u001b[0;34m)\u001b[0m\u001b[0;34m\u001b[0m\u001b[0m\n\u001b[1;32m   1992\u001b[0m         \u001b[0;32melif\u001b[0m \u001b[0misinstance\u001b[0m\u001b[0;34m(\u001b[0m\u001b[0mkey\u001b[0m\u001b[0;34m,\u001b[0m \u001b[0mDataFrame\u001b[0m\u001b[0;34m)\u001b[0m\u001b[0;34m:\u001b[0m\u001b[0;34m\u001b[0m\u001b[0m\n\u001b[0;32m-> 1993\u001b[0;31m             \u001b[0;32mreturn\u001b[0m \u001b[0mself\u001b[0m\u001b[0;34m.\u001b[0m\u001b[0m_getitem_frame\u001b[0m\u001b[0;34m(\u001b[0m\u001b[0mkey\u001b[0m\u001b[0;34m)\u001b[0m\u001b[0;34m\u001b[0m\u001b[0m\n\u001b[0m\u001b[1;32m   1994\u001b[0m         \u001b[0;32melif\u001b[0m \u001b[0mis_mi_columns\u001b[0m\u001b[0;34m:\u001b[0m\u001b[0;34m\u001b[0m\u001b[0m\n\u001b[1;32m   1995\u001b[0m             \u001b[0;32mreturn\u001b[0m \u001b[0mself\u001b[0m\u001b[0;34m.\u001b[0m\u001b[0m_getitem_multilevel\u001b[0m\u001b[0;34m(\u001b[0m\u001b[0mkey\u001b[0m\u001b[0;34m)\u001b[0m\u001b[0;34m\u001b[0m\u001b[0m\n",
      "\u001b[0;32m/Users/epetenko/anaconda/lib/python2.7/site-packages/pandas/core/frame.pyc\u001b[0m in \u001b[0;36m_getitem_frame\u001b[0;34m(self, key)\u001b[0m\n\u001b[1;32m   2067\u001b[0m         \u001b[0;32mif\u001b[0m \u001b[0mkey\u001b[0m\u001b[0;34m.\u001b[0m\u001b[0mvalues\u001b[0m\u001b[0;34m.\u001b[0m\u001b[0msize\u001b[0m \u001b[0;32mand\u001b[0m \u001b[0;32mnot\u001b[0m \u001b[0mcom\u001b[0m\u001b[0;34m.\u001b[0m\u001b[0mis_bool_dtype\u001b[0m\u001b[0;34m(\u001b[0m\u001b[0mkey\u001b[0m\u001b[0;34m.\u001b[0m\u001b[0mvalues\u001b[0m\u001b[0;34m)\u001b[0m\u001b[0;34m:\u001b[0m\u001b[0;34m\u001b[0m\u001b[0m\n\u001b[1;32m   2068\u001b[0m             \u001b[0;32mraise\u001b[0m \u001b[0mValueError\u001b[0m\u001b[0;34m(\u001b[0m\u001b[0;34m'Must pass DataFrame with boolean values only'\u001b[0m\u001b[0;34m)\u001b[0m\u001b[0;34m\u001b[0m\u001b[0m\n\u001b[0;32m-> 2069\u001b[0;31m         \u001b[0;32mreturn\u001b[0m \u001b[0mself\u001b[0m\u001b[0;34m.\u001b[0m\u001b[0mwhere\u001b[0m\u001b[0;34m(\u001b[0m\u001b[0mkey\u001b[0m\u001b[0;34m)\u001b[0m\u001b[0;34m\u001b[0m\u001b[0m\n\u001b[0m\u001b[1;32m   2070\u001b[0m \u001b[0;34m\u001b[0m\u001b[0m\n\u001b[1;32m   2071\u001b[0m     \u001b[0;32mdef\u001b[0m \u001b[0mquery\u001b[0m\u001b[0;34m(\u001b[0m\u001b[0mself\u001b[0m\u001b[0;34m,\u001b[0m \u001b[0mexpr\u001b[0m\u001b[0;34m,\u001b[0m \u001b[0minplace\u001b[0m\u001b[0;34m=\u001b[0m\u001b[0mFalse\u001b[0m\u001b[0;34m,\u001b[0m \u001b[0;34m**\u001b[0m\u001b[0mkwargs\u001b[0m\u001b[0;34m)\u001b[0m\u001b[0;34m:\u001b[0m\u001b[0;34m\u001b[0m\u001b[0m\n",
      "\u001b[0;32m/Users/epetenko/anaconda/lib/python2.7/site-packages/pandas/core/generic.pyc\u001b[0m in \u001b[0;36mwhere\u001b[0;34m(self, cond, other, inplace, axis, level, try_cast, raise_on_error)\u001b[0m\n\u001b[1;32m   4489\u001b[0m                                         \u001b[0mraise_on_error\u001b[0m\u001b[0;34m=\u001b[0m\u001b[0mraise_on_error\u001b[0m\u001b[0;34m,\u001b[0m\u001b[0;34m\u001b[0m\u001b[0m\n\u001b[1;32m   4490\u001b[0m                                         \u001b[0mtry_cast\u001b[0m\u001b[0;34m=\u001b[0m\u001b[0mtry_cast\u001b[0m\u001b[0;34m,\u001b[0m \u001b[0maxis\u001b[0m\u001b[0;34m=\u001b[0m\u001b[0mblock_axis\u001b[0m\u001b[0;34m,\u001b[0m\u001b[0;34m\u001b[0m\u001b[0m\n\u001b[0;32m-> 4491\u001b[0;31m                                         transpose=self._AXIS_REVERSED)\n\u001b[0m\u001b[1;32m   4492\u001b[0m \u001b[0;34m\u001b[0m\u001b[0m\n\u001b[1;32m   4493\u001b[0m             \u001b[0;32mreturn\u001b[0m \u001b[0mself\u001b[0m\u001b[0;34m.\u001b[0m\u001b[0m_constructor\u001b[0m\u001b[0;34m(\u001b[0m\u001b[0mnew_data\u001b[0m\u001b[0;34m)\u001b[0m\u001b[0;34m.\u001b[0m\u001b[0m__finalize__\u001b[0m\u001b[0;34m(\u001b[0m\u001b[0mself\u001b[0m\u001b[0;34m)\u001b[0m\u001b[0;34m\u001b[0m\u001b[0m\n",
      "\u001b[0;32m/Users/epetenko/anaconda/lib/python2.7/site-packages/pandas/core/internals.pyc\u001b[0m in \u001b[0;36mwhere\u001b[0;34m(self, **kwargs)\u001b[0m\n\u001b[1;32m   2906\u001b[0m \u001b[0;34m\u001b[0m\u001b[0m\n\u001b[1;32m   2907\u001b[0m     \u001b[0;32mdef\u001b[0m \u001b[0mwhere\u001b[0m\u001b[0;34m(\u001b[0m\u001b[0mself\u001b[0m\u001b[0;34m,\u001b[0m \u001b[0;34m**\u001b[0m\u001b[0mkwargs\u001b[0m\u001b[0;34m)\u001b[0m\u001b[0;34m:\u001b[0m\u001b[0;34m\u001b[0m\u001b[0m\n\u001b[0;32m-> 2908\u001b[0;31m         \u001b[0;32mreturn\u001b[0m \u001b[0mself\u001b[0m\u001b[0;34m.\u001b[0m\u001b[0mapply\u001b[0m\u001b[0;34m(\u001b[0m\u001b[0;34m'where'\u001b[0m\u001b[0;34m,\u001b[0m \u001b[0;34m**\u001b[0m\u001b[0mkwargs\u001b[0m\u001b[0;34m)\u001b[0m\u001b[0;34m\u001b[0m\u001b[0m\n\u001b[0m\u001b[1;32m   2909\u001b[0m \u001b[0;34m\u001b[0m\u001b[0m\n\u001b[1;32m   2910\u001b[0m     \u001b[0;32mdef\u001b[0m \u001b[0meval\u001b[0m\u001b[0;34m(\u001b[0m\u001b[0mself\u001b[0m\u001b[0;34m,\u001b[0m \u001b[0;34m**\u001b[0m\u001b[0mkwargs\u001b[0m\u001b[0;34m)\u001b[0m\u001b[0;34m:\u001b[0m\u001b[0;34m\u001b[0m\u001b[0m\n",
      "\u001b[0;32m/Users/epetenko/anaconda/lib/python2.7/site-packages/pandas/core/internals.pyc\u001b[0m in \u001b[0;36mapply\u001b[0;34m(self, f, axes, filter, do_integrity_check, consolidate, raw, **kwargs)\u001b[0m\n\u001b[1;32m   2885\u001b[0m                     \u001b[0maxis\u001b[0m \u001b[0;34m=\u001b[0m \u001b[0mgetattr\u001b[0m\u001b[0;34m(\u001b[0m\u001b[0mobj\u001b[0m\u001b[0;34m,\u001b[0m \u001b[0;34m'_info_axis_number'\u001b[0m\u001b[0;34m,\u001b[0m \u001b[0;36m0\u001b[0m\u001b[0;34m)\u001b[0m\u001b[0;34m\u001b[0m\u001b[0m\n\u001b[1;32m   2886\u001b[0m                     kwargs[k] = obj.reindex_axis(b_items, axis=axis,\n\u001b[0;32m-> 2887\u001b[0;31m                                                  copy=align_copy)\n\u001b[0m\u001b[1;32m   2888\u001b[0m \u001b[0;34m\u001b[0m\u001b[0m\n\u001b[1;32m   2889\u001b[0m             \u001b[0mkwargs\u001b[0m\u001b[0;34m[\u001b[0m\u001b[0;34m'mgr'\u001b[0m\u001b[0;34m]\u001b[0m \u001b[0;34m=\u001b[0m \u001b[0mself\u001b[0m\u001b[0;34m\u001b[0m\u001b[0m\n",
      "\u001b[0;32m/Users/epetenko/anaconda/lib/python2.7/site-packages/pandas/core/frame.pyc\u001b[0m in \u001b[0;36mreindex_axis\u001b[0;34m(self, labels, axis, method, level, copy, limit, fill_value)\u001b[0m\n\u001b[1;32m   2747\u001b[0m                      \u001b[0mself\u001b[0m\u001b[0;34m)\u001b[0m\u001b[0;34m.\u001b[0m\u001b[0mreindex_axis\u001b[0m\u001b[0;34m(\u001b[0m\u001b[0mlabels\u001b[0m\u001b[0;34m=\u001b[0m\u001b[0mlabels\u001b[0m\u001b[0;34m,\u001b[0m \u001b[0maxis\u001b[0m\u001b[0;34m=\u001b[0m\u001b[0maxis\u001b[0m\u001b[0;34m,\u001b[0m\u001b[0;34m\u001b[0m\u001b[0m\n\u001b[1;32m   2748\u001b[0m                                         \u001b[0mmethod\u001b[0m\u001b[0;34m=\u001b[0m\u001b[0mmethod\u001b[0m\u001b[0;34m,\u001b[0m \u001b[0mlevel\u001b[0m\u001b[0;34m=\u001b[0m\u001b[0mlevel\u001b[0m\u001b[0;34m,\u001b[0m \u001b[0mcopy\u001b[0m\u001b[0;34m=\u001b[0m\u001b[0mcopy\u001b[0m\u001b[0;34m,\u001b[0m\u001b[0;34m\u001b[0m\u001b[0m\n\u001b[0;32m-> 2749\u001b[0;31m                                         limit=limit, fill_value=fill_value)\n\u001b[0m\u001b[1;32m   2750\u001b[0m \u001b[0;34m\u001b[0m\u001b[0m\n\u001b[1;32m   2751\u001b[0m     \u001b[0;34m@\u001b[0m\u001b[0mAppender\u001b[0m\u001b[0;34m(\u001b[0m\u001b[0m_shared_docs\u001b[0m\u001b[0;34m[\u001b[0m\u001b[0;34m'rename'\u001b[0m\u001b[0;34m]\u001b[0m \u001b[0;34m%\u001b[0m \u001b[0m_shared_doc_kwargs\u001b[0m\u001b[0;34m)\u001b[0m\u001b[0;34m\u001b[0m\u001b[0m\n",
      "\u001b[0;32m/Users/epetenko/anaconda/lib/python2.7/site-packages/pandas/core/generic.pyc\u001b[0m in \u001b[0;36mreindex_axis\u001b[0;34m(self, labels, axis, method, level, copy, limit, fill_value)\u001b[0m\n\u001b[1;32m   2316\u001b[0m                                                  limit=limit)\n\u001b[1;32m   2317\u001b[0m         return self._reindex_with_indexers({axis: [new_index, indexer]},\n\u001b[0;32m-> 2318\u001b[0;31m                                            fill_value=fill_value, copy=copy)\n\u001b[0m\u001b[1;32m   2319\u001b[0m \u001b[0;34m\u001b[0m\u001b[0m\n\u001b[1;32m   2320\u001b[0m     def _reindex_with_indexers(self, reindexers, fill_value=np.nan, copy=False,\n",
      "\u001b[0;32m/Users/epetenko/anaconda/lib/python2.7/site-packages/pandas/core/generic.pyc\u001b[0m in \u001b[0;36m_reindex_with_indexers\u001b[0;34m(self, reindexers, fill_value, copy, allow_dups)\u001b[0m\n\u001b[1;32m   2339\u001b[0m                                                 \u001b[0mfill_value\u001b[0m\u001b[0;34m=\u001b[0m\u001b[0mfill_value\u001b[0m\u001b[0;34m,\u001b[0m\u001b[0;34m\u001b[0m\u001b[0m\n\u001b[1;32m   2340\u001b[0m                                                 \u001b[0mallow_dups\u001b[0m\u001b[0;34m=\u001b[0m\u001b[0mallow_dups\u001b[0m\u001b[0;34m,\u001b[0m\u001b[0;34m\u001b[0m\u001b[0m\n\u001b[0;32m-> 2341\u001b[0;31m                                                 copy=copy)\n\u001b[0m\u001b[1;32m   2342\u001b[0m \u001b[0;34m\u001b[0m\u001b[0m\n\u001b[1;32m   2343\u001b[0m         \u001b[0;32mif\u001b[0m \u001b[0mcopy\u001b[0m \u001b[0;32mand\u001b[0m \u001b[0mnew_data\u001b[0m \u001b[0;32mis\u001b[0m \u001b[0mself\u001b[0m\u001b[0;34m.\u001b[0m\u001b[0m_data\u001b[0m\u001b[0;34m:\u001b[0m\u001b[0;34m\u001b[0m\u001b[0m\n",
      "\u001b[0;32m/Users/epetenko/anaconda/lib/python2.7/site-packages/pandas/core/internals.pyc\u001b[0m in \u001b[0;36mreindex_indexer\u001b[0;34m(self, new_axis, indexer, axis, fill_value, allow_dups, copy)\u001b[0m\n\u001b[1;32m   3584\u001b[0m         \u001b[0;31m# some axes don't allow reindexing with dups\u001b[0m\u001b[0;34m\u001b[0m\u001b[0;34m\u001b[0m\u001b[0m\n\u001b[1;32m   3585\u001b[0m         \u001b[0;32mif\u001b[0m \u001b[0;32mnot\u001b[0m \u001b[0mallow_dups\u001b[0m\u001b[0;34m:\u001b[0m\u001b[0;34m\u001b[0m\u001b[0m\n\u001b[0;32m-> 3586\u001b[0;31m             \u001b[0mself\u001b[0m\u001b[0;34m.\u001b[0m\u001b[0maxes\u001b[0m\u001b[0;34m[\u001b[0m\u001b[0maxis\u001b[0m\u001b[0;34m]\u001b[0m\u001b[0;34m.\u001b[0m\u001b[0m_can_reindex\u001b[0m\u001b[0;34m(\u001b[0m\u001b[0mindexer\u001b[0m\u001b[0;34m)\u001b[0m\u001b[0;34m\u001b[0m\u001b[0m\n\u001b[0m\u001b[1;32m   3587\u001b[0m \u001b[0;34m\u001b[0m\u001b[0m\n\u001b[1;32m   3588\u001b[0m         \u001b[0;32mif\u001b[0m \u001b[0maxis\u001b[0m \u001b[0;34m>=\u001b[0m \u001b[0mself\u001b[0m\u001b[0;34m.\u001b[0m\u001b[0mndim\u001b[0m\u001b[0;34m:\u001b[0m\u001b[0;34m\u001b[0m\u001b[0m\n",
      "\u001b[0;32m/Users/epetenko/anaconda/lib/python2.7/site-packages/pandas/indexes/base.pyc\u001b[0m in \u001b[0;36m_can_reindex\u001b[0;34m(self, indexer)\u001b[0m\n\u001b[1;32m   2291\u001b[0m         \u001b[0;31m# trying to reindex on an axis with duplicates\u001b[0m\u001b[0;34m\u001b[0m\u001b[0;34m\u001b[0m\u001b[0m\n\u001b[1;32m   2292\u001b[0m         \u001b[0;32mif\u001b[0m \u001b[0;32mnot\u001b[0m \u001b[0mself\u001b[0m\u001b[0;34m.\u001b[0m\u001b[0mis_unique\u001b[0m \u001b[0;32mand\u001b[0m \u001b[0mlen\u001b[0m\u001b[0;34m(\u001b[0m\u001b[0mindexer\u001b[0m\u001b[0;34m)\u001b[0m\u001b[0;34m:\u001b[0m\u001b[0;34m\u001b[0m\u001b[0m\n\u001b[0;32m-> 2293\u001b[0;31m             \u001b[0;32mraise\u001b[0m \u001b[0mValueError\u001b[0m\u001b[0;34m(\u001b[0m\u001b[0;34m\"cannot reindex from a duplicate axis\"\u001b[0m\u001b[0;34m)\u001b[0m\u001b[0;34m\u001b[0m\u001b[0m\n\u001b[0m\u001b[1;32m   2294\u001b[0m \u001b[0;34m\u001b[0m\u001b[0m\n\u001b[1;32m   2295\u001b[0m     def reindex(self, target, method=None, level=None, limit=None,\n",
      "\u001b[0;31mValueError\u001b[0m: cannot reindex from a duplicate axis"
     ]
    }
   ],
   "source": [
    "muni_merge = muni_merge[muni_merge[\"GEOdisplaylabel\"] != \"County subdivisions not defined\"]"
   ]
  },
  {
   "cell_type": "code",
   "execution_count": 67,
   "metadata": {
    "collapsed": true
   },
   "outputs": [],
   "source": [
    "muni_merge.to_csv(\"housingcosts.csv\")"
   ]
  }
 ],
 "metadata": {
  "anaconda-cloud": {},
  "kernelspec": {
   "display_name": "Python [Root]",
   "language": "python",
   "name": "Python [Root]"
  },
  "language_info": {
   "codemirror_mode": {
    "name": "ipython",
    "version": 2
   },
   "file_extension": ".py",
   "mimetype": "text/x-python",
   "name": "python",
   "nbconvert_exporter": "python",
   "pygments_lexer": "ipython2",
   "version": "2.7.12"
  }
 },
 "nbformat": 4,
 "nbformat_minor": 0
}
